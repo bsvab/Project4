{
 "cells": [
  {
   "cell_type": "code",
   "execution_count": null,
   "metadata": {},
   "outputs": [],
   "source": [
    "#Import dependencies\n",
    "import requests\n",
    "import json\n",
    "import pandas as pd\n",
    "import csv\n",
    "from io import StringIO"
   ]
  },
  {
   "cell_type": "code",
   "execution_count": null,
   "metadata": {},
   "outputs": [],
   "source": [
    "#Set up our target URL\n",
    "apiUrl = \"https://injection.texnet.beg.utexas.edu/api/Export\""
   ]
  },
  {
   "cell_type": "code",
   "execution_count": null,
   "metadata": {},
   "outputs": [],
   "source": [
    "#Compose the export args dictionary.\n",
    "exportArgs = {\n",
    "    \"Format\": \"excel\",\n",
    "    \"BeginYear\": \"2017\",\n",
    "    \"BeginMonth\": \"1\",\n",
    "    \"EndYear\": \"2024\",\n",
    "    \"EndMonth\": \"12\",\n",
    "    }\n",
    "\n",
    "headers = {\n",
    "    \"Content-type\": \"application/json\",\n",
    "    \"Accept\": \"application/json\"\n",
    "    }"
   ]
  },
  {
   "cell_type": "code",
   "execution_count": null,
   "metadata": {},
   "outputs": [],
   "source": [
    "request = requests.post(apiUrl, data=json.dumps(exportArgs), headers=headers, verify=False)\n",
    "\n",
    "#Make sure the request succeeded...\n",
    "if request.status_code == 200:\n",
    "    responseContent = request.text\n",
    "    print(responseContent) #Do something with the response's content\n",
    "else:\n",
    "    print(\"Oh no!  We got a response code of: \" + str(request.status_code))"
   ]
  },
  {
   "cell_type": "code",
   "execution_count": null,
   "metadata": {},
   "outputs": [],
   "source": [
    "# Define the desired file name for the CSV\n",
    "csv_filename = \"../../data/data_seis/api_response.csv\"\n",
    "\n",
    "# Parse the CSV response\n",
    "data = csv.reader(StringIO(responseContent))\n",
    "\n",
    "# Open a CSV file in write mode and write the parsed data to it\n",
    "with open(csv_filename, \"w\", newline=\"\") as csv_file:\n",
    "    writer = csv.writer(csv_file)\n",
    "    for row in data:\n",
    "        writer.writerow(row)"
   ]
  },
  {
   "cell_type": "code",
   "execution_count": null,
   "metadata": {},
   "outputs": [],
   "source": [
    "# Define the desired fields\n",
    "desired_fields = [\"API Number\", \"Surface Longitude\", \"Surface Latitude\", \"Date of Injection\", \"Injection End Date\", \"Volume Injected (BBLs)\"]\n",
    "\n",
    "# Parse the CSV response\n",
    "data = csv.DictReader(StringIO(responseContent))\n",
    "\n",
    "# Create a list to store the extracted data\n",
    "extracted_data_list = []\n",
    "\n",
    "# Iterate through each record and extract the desired fields\n",
    "for row in data:\n",
    "    extracted_data = {field: row[field] for field in desired_fields}\n",
    "    extracted_data_list.append(extracted_data)"
   ]
  },
  {
   "cell_type": "code",
   "execution_count": null,
   "metadata": {},
   "outputs": [],
   "source": [
    "# Convert the list of dictionaries to a DataFrame\n",
    "df_injection = pd.DataFrame(extracted_data_list)"
   ]
  },
  {
   "cell_type": "code",
   "execution_count": null,
   "metadata": {},
   "outputs": [],
   "source": [
    "# Rename column\n",
    "df_injection.rename(columns= {'Volume Injected (BBLs)' : 'Volume Injected: BBLs', 'Date of Injection' : 'Injection Date'}, inplace=True)"
   ]
  },
  {
   "cell_type": "code",
   "execution_count": null,
   "metadata": {},
   "outputs": [],
   "source": [
    "# Export the DataFrame to a CSV file\n",
    "df_injection.to_csv(\"../../data/data_seis/injectionVolumes.csv\", index=False)\n",
    "print(print(\"Injection Volumes data has been saved to '../../data/data_seis/InjectionVolumes.csv'.\"))"
   ]
  },
  {
   "cell_type": "code",
   "execution_count": null,
   "metadata": {},
   "outputs": [],
   "source": [
    "# Set \"API Number\" as the index\n",
    "df_injection.set_index(\"API Number\", inplace=True)\n",
    "\n",
    "# Display the DataFrame\n",
    "df_injection"
   ]
  }
 ],
 "metadata": {
  "language_info": {
   "name": "python"
  }
 },
 "nbformat": 4,
 "nbformat_minor": 2
}
