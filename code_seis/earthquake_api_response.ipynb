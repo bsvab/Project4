{
 "cells": [
  {
   "cell_type": "code",
   "execution_count": 1,
   "metadata": {},
   "outputs": [],
   "source": [
    "# Import dependencies\n",
    "import requests\n",
    "import json\n",
    "import pandas as pd\n",
    "import csv\n",
    "from io import StringIO"
   ]
  },
  {
   "cell_type": "code",
   "execution_count": 2,
   "metadata": {},
   "outputs": [
    {
     "name": "stdout",
     "output_type": "stream",
     "text": [
      "Earthquake GeoJSON data has been saved to '../../data/data_seis/earthquake_data.geojson'. 25723 features were fetched.\n",
      "Earthquake data has been saved to '../../data/data_seis/earthquakes.csv'.\n"
     ]
    }
   ],
   "source": [
    "# Define the base URL for querying the Earthquake layer\n",
    "query_url = \"https://maps.texnet.beg.utexas.edu/arcgis/rest/services/catalog/catalog_all_flat/MapServer/0/query\"\n",
    "\n",
    "# Initialize variables for pagination\n",
    "start = 0\n",
    "num = 2000  # Number of records to fetch per request\n",
    "all_features = []  # List to store all fetched features\n",
    "\n",
    "while True:\n",
    "    # Define the parameters for the query, including pagination\n",
    "    params = {\n",
    "        \"where\": \"1=1\",\n",
    "        \"outFields\": \"Magnitude,Latitude,Longitude,Event_Date\",\n",
    "        \"returnGeometry\": True,\n",
    "        \"outSR\": \"4326\",\n",
    "        \"f\": \"geojson\",\n",
    "        \"resultOffset\": start,\n",
    "        \"resultRecordCount\": num\n",
    "    }\n",
    "\n",
    "    # Make the request to the ArcGIS REST API\n",
    "    response = requests.get(query_url, params=params)\n",
    "\n",
    "    # Check if the request was successful\n",
    "    if response.status_code == 200:\n",
    "        geojson_data = response.json()\n",
    "        features = geojson_data.get(\"features\", [])\n",
    "        \n",
    "        if not features:\n",
    "            break  # Exit loop if no more features are returned\n",
    "        \n",
    "        all_features.extend(features)  # Add the features to the all_features list\n",
    "        start += len(features)  # Prepare the start value for the next batch\n",
    "    else:\n",
    "        print(f\"Failed to fetch data. Status code: {response.status_code}, Message: {response.text}\")\n",
    "        break\n",
    "\n",
    "# Combine all features into a single GeoJSON object\n",
    "all_geojson_data = {\"type\": \"FeatureCollection\", \"features\": all_features}\n",
    "\n",
    "# Save the combined GeoJSON data to a file\n",
    "with open('../../data/data_seis/earthquake_data.geojson', 'w') as f:\n",
    "    json.dump(all_geojson_data, f, indent=4)\n",
    "\n",
    "print(f\"Earthquake GeoJSON data has been saved to '../../data/data_seis/earthquake_data.geojson'. {len(all_features)} features were fetched.\")\n",
    "\n",
    "\n",
    "# Extract data from features for DataFrame creation\n",
    "latitude = [feature['properties']['Latitude'] for feature in all_features]\n",
    "longitude = [feature['properties']['Longitude'] for feature in all_features]\n",
    "magnitude = [feature['properties']['Magnitude'] for feature in all_features]\n",
    "event_date = [feature['properties']['Event_Date'] for feature in all_features]\n",
    "\n",
    "# Create DataFrame\n",
    "df_earthquakes = pd.DataFrame({\n",
    "    'Latitude': latitude,\n",
    "    'Longitude': longitude,\n",
    "    'Magnitude': magnitude,\n",
    "    'Event_Date': event_date\n",
    "})\n",
    "\n",
    "# Convert the Event_Date column values into calendar dates and times\n",
    "df_earthquakes['Event_Date'] = pd.to_datetime(df_earthquakes['Event_Date'], unit='ms')\n",
    "\n",
    "# Remove times and keep only dates in the 'Event_Date' column\n",
    "df_earthquakes['Event_Date'] = df_earthquakes['Event_Date'].dt.strftime('%Y-%m-%d')\n",
    "\n",
    "# Export the DataFrame as a CSV file\n",
    "df_earthquakes.to_csv('../../data/data_seis/earthquakes.csv', index=False)\n",
    "print(\"Earthquake data has been saved to '../../data/data_seis/earthquakes.csv'.\")\n"
   ]
  }
 ],
 "metadata": {
  "kernelspec": {
   "display_name": "Python 3",
   "language": "python",
   "name": "python3"
  },
  "language_info": {
   "codemirror_mode": {
    "name": "ipython",
    "version": 3
   },
   "file_extension": ".py",
   "mimetype": "text/x-python",
   "name": "python",
   "nbconvert_exporter": "python",
   "pygments_lexer": "ipython3",
   "version": "3.11.8"
  }
 },
 "nbformat": 4,
 "nbformat_minor": 2
}
