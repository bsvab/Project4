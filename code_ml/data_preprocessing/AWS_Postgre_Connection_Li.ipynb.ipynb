{
 "cells": [
  {
   "cell_type": "markdown",
   "metadata": {},
   "source": [
    "# Import Dependencies"
   ]
  },
  {
   "cell_type": "code",
   "execution_count": 72,
   "metadata": {},
   "outputs": [],
   "source": [
    "import pandas as pd\n",
    "import datetime as dt\n",
    "import psycopg2\n",
    "from psycopg2 import sql\n",
    "from psycopg2.extensions import ISOLATION_LEVEL_AUTOCOMMIT\n",
    "import subprocess\n",
    "from sqlalchemy import create_engine\n",
    "\n",
    "from config import PGEND_POINT\n",
    "from config import PGDATABASE_NAME\n",
    "from config import PGUSER_NAME\n",
    "from config import PGPASSWORD"
   ]
  },
  {
   "cell_type": "markdown",
   "metadata": {},
   "source": [
    "# AWS RDS Connection"
   ]
  },
  {
   "cell_type": "code",
   "execution_count": 3,
   "metadata": {},
   "outputs": [],
   "source": [
    "def connect():\n",
    "    \n",
    "    # Set up a connection to the postgres server.\n",
    "    conn_string = \"host=\"+ PGEND_POINT +\" port=\"+ \"5432\" +\" dbname=\"+ PGDATABASE_NAME +\" user=\" + PGUSER_NAME \\\n",
    "                  +\" password=\"+ PGPASSWORD\n",
    "    \n",
    "    conn = psycopg2.connect(conn_string)\n",
    "    print(\"Connected!\")\n",
    "\n",
    "    # Create a cursor object\n",
    "    cursor = conn.cursor()\n",
    "    \n",
    "    return conn, cursor"
   ]
  },
  {
   "cell_type": "code",
   "execution_count": 4,
   "metadata": {},
   "outputs": [
    {
     "name": "stdout",
     "output_type": "stream",
     "text": [
      "Connected!\n"
     ]
    }
   ],
   "source": [
    "conn, cursor = connect()"
   ]
  },
  {
   "cell_type": "markdown",
   "metadata": {},
   "source": [
    "## Create cleaned_data table"
   ]
  },
  {
   "cell_type": "code",
   "execution_count": 84,
   "metadata": {},
   "outputs": [],
   "source": [
    "# Creating the injectionVolumes table\n",
    "query_cleaned_data = sql.SQL(\"\"\"CREATE TABLE cleaned_data (\n",
    "  idusgs INT,\n",
    "  play_type VARCHAR(50),\n",
    "  well_type VARCHAR(50),\n",
    "  form_simple VARCHAR(50),\n",
    "  tds DECIMAL,\n",
    "  latitude DECIMAL,\n",
    "  longitude DECIMAL,\n",
    "  state VARCHAR(50),\n",
    "  county VARCHAR(50),\n",
    "  province VARCHAR(50),\n",
    "  region VARCHAR(50),\n",
    "  well_name VARCHAR(100),\n",
    "  api DECIMAL,\n",
    "  depth_upper DECIMAL,\n",
    "  depth_lower DECIMAL,\n",
    "  period VARCHAR(50),\n",
    "  date_sample VARCHAR(50),\n",
    "  ph DECIMAL,\n",
    "  b DECIMAL,\n",
    "  ba DECIMAL,\n",
    "  br DECIMAL,\n",
    "  hco3 DECIMAL,\n",
    "  ca DECIMAL,\n",
    "  cl DECIMAL,\n",
    "  fetot DECIMAL,\n",
    "  k DECIMAL,\n",
    "  li DECIMAL,\n",
    "  mg DECIMAL,\n",
    "  na DECIMAL,\n",
    "  so4 DECIMAL,\n",
    "  sr DECIMAL,\n",
    "  zn DECIMAL,\n",
    "  chargebal DECIMAL,\n",
    "  basin_category VARCHAR(50)                                                                                                                                                                                                                                                                                                                                                                                                                                                                                                                                                                                                                                                                                                                                                      \n",
    ");\"\"\")"
   ]
  },
  {
   "cell_type": "code",
   "execution_count": 85,
   "metadata": {},
   "outputs": [
    {
     "name": "stdout",
     "output_type": "stream",
     "text": [
      "Transaction committed successfully!\n"
     ]
    }
   ],
   "source": [
    "# Create a cursor object\n",
    "cur = conn.cursor()\n",
    "\n",
    "try:\n",
    "    # Execute your SQL statements here\n",
    "    cur.execute(query_cleaned_data)\n",
    "\n",
    "    # If everything is successful, commit the transaction\n",
    "    conn.commit()\n",
    "    print(\"Transaction committed successfully!\")\n",
    "except psycopg2.Error as e:\n",
    "    # If an error occurs, rollback the transaction\n",
    "    conn.rollback()\n",
    "    print(\"Transaction rolled back due to error:\", e)\n",
    "finally:\n",
    "    # Close the cursor and connection\n",
    "    cur.close()"
   ]
  },
  {
   "cell_type": "markdown",
   "metadata": {},
   "source": [
    "## Create imputed_data table"
   ]
  },
  {
   "cell_type": "code",
   "execution_count": 86,
   "metadata": {},
   "outputs": [],
   "source": [
    "# Creating the injectionVolumes table\n",
    "query_imputed_data = sql.SQL(\"\"\"CREATE TABLE imputed_data (\n",
    "  idusgs INT,\n",
    "  play_type VARCHAR(50),\n",
    "  well_type VARCHAR(50),\n",
    "  form_simple VARCHAR(50),\n",
    "  tds DECIMAL,\n",
    "  latitude DECIMAL,\n",
    "  longitude DECIMAL,\n",
    "  state VARCHAR(50),\n",
    "  county VARCHAR(50),\n",
    "  province VARCHAR(50),\n",
    "  region VARCHAR(50),\n",
    "  well_name VARCHAR(100),\n",
    "  api DECIMAL,\n",
    "  depth_upper DECIMAL,\n",
    "  depth_lower DECIMAL,\n",
    "  period VARCHAR(50),\n",
    "  date_sample VARCHAR(50),\n",
    "  ph DECIMAL,\n",
    "  b DECIMAL,\n",
    "  ba DECIMAL,\n",
    "  br DECIMAL,\n",
    "  hco3 DECIMAL,\n",
    "  ca DECIMAL,\n",
    "  cl DECIMAL,\n",
    "  fetot DECIMAL,\n",
    "  k DECIMAL,\n",
    "  li DECIMAL,\n",
    "  mg DECIMAL,\n",
    "  na DECIMAL,\n",
    "  so4 DECIMAL,\n",
    "  sr DECIMAL,\n",
    "  zn DECIMAL,\n",
    "  chargebal DECIMAL,\n",
    "  basin_category VARCHAR(50)                                                                                                                                                                                                                                                                                                                                                                                                                                                                                                                                                                                                                                                                                                                                                      \n",
    ");\"\"\")"
   ]
  },
  {
   "cell_type": "code",
   "execution_count": 87,
   "metadata": {},
   "outputs": [
    {
     "name": "stdout",
     "output_type": "stream",
     "text": [
      "Transaction committed successfully!\n"
     ]
    }
   ],
   "source": [
    "# Create a cursor object\n",
    "cur = conn.cursor()\n",
    "\n",
    "try:\n",
    "    # Execute your SQL statements here\n",
    "    cur.execute(query_imputed_data)\n",
    "\n",
    "    # If everything is successful, commit the transaction\n",
    "    conn.commit()\n",
    "    print(\"Transaction committed successfully!\")\n",
    "except psycopg2.Error as e:\n",
    "    # If an error occurs, rollback the transaction\n",
    "    conn.rollback()\n",
    "    print(\"Transaction rolled back due to error:\", e)\n",
    "finally:\n",
    "    # Close the cursor and connection\n",
    "    cur.close()"
   ]
  },
  {
   "cell_type": "markdown",
   "metadata": {},
   "source": [
    "## Create PCA tables"
   ]
  },
  {
   "cell_type": "markdown",
   "metadata": {},
   "source": [
    "### Anadarko Basin"
   ]
  },
  {
   "cell_type": "code",
   "execution_count": 17,
   "metadata": {},
   "outputs": [],
   "source": [
    "query_anadarko_pca = sql.SQL(\"\"\"CREATE TABLE anadarko_pca (\n",
    "  pc1 DECIMAL,\n",
    "  pc2 DECIMAL,\n",
    "  pc3 DECIMAL,\n",
    "  pc4 DECIMAL,                           \n",
    "  pc5 DECIMAL,\n",
    "  pc6 DECIMAL,\n",
    "  pc7 DECIMAL,\n",
    "  pc8 DECIMAL,\n",
    "  pc9 DECIMAL,\n",
    "  pc10 DECIMAL,\n",
    "  pc11 DECIMAL,\n",
    "  pc12 DECIMAL,\n",
    "  pc13 DECIMAL,\n",
    "  pc14 DECIMAL,\n",
    "  pc15 DECIMAL,\n",
    "  li DECIMAL\n",
    ");\"\"\")"
   ]
  },
  {
   "cell_type": "code",
   "execution_count": 18,
   "metadata": {},
   "outputs": [
    {
     "name": "stdout",
     "output_type": "stream",
     "text": [
      "Transaction committed successfully!\n"
     ]
    }
   ],
   "source": [
    "# Create a cursor object\n",
    "cur = conn.cursor()\n",
    "\n",
    "try:\n",
    "    # Execute your SQL statements here\n",
    "    cur.execute(query_anadarko_pca)\n",
    "\n",
    "    # If everything is successful, commit the transaction\n",
    "    conn.commit()\n",
    "    print(\"Transaction committed successfully!\")\n",
    "except psycopg2.Error as e:\n",
    "    # If an error occurs, rollback the transaction\n",
    "    conn.rollback()\n",
    "    print(\"Transaction rolled back due to error:\", e)\n",
    "finally:\n",
    "    # Close the cursor and connection\n",
    "    cur.close()"
   ]
  },
  {
   "cell_type": "markdown",
   "metadata": {},
   "source": [
    "### Appalachian Basin"
   ]
  },
  {
   "cell_type": "code",
   "execution_count": 19,
   "metadata": {},
   "outputs": [],
   "source": [
    "query_appalachian_pca = sql.SQL(\"\"\"CREATE TABLE appalachian_pca (\n",
    "  pc1 DECIMAL,\n",
    "  pc2 DECIMAL,\n",
    "  pc3 DECIMAL,\n",
    "  pc4 DECIMAL,                           \n",
    "  pc5 DECIMAL,\n",
    "  pc6 DECIMAL,\n",
    "  pc7 DECIMAL,\n",
    "  pc8 DECIMAL,\n",
    "  pc9 DECIMAL,\n",
    "  pc10 DECIMAL,\n",
    "  pc11 DECIMAL,\n",
    "  pc12 DECIMAL,\n",
    "  pc13 DECIMAL,\n",
    "  pc14 DECIMAL,\n",
    "  pc15 DECIMAL,\n",
    "  li DECIMAL\n",
    ");\"\"\")"
   ]
  },
  {
   "cell_type": "code",
   "execution_count": 20,
   "metadata": {},
   "outputs": [
    {
     "name": "stdout",
     "output_type": "stream",
     "text": [
      "Transaction committed successfully!\n"
     ]
    }
   ],
   "source": [
    "# Create a cursor object\n",
    "cur = conn.cursor()\n",
    "\n",
    "try:\n",
    "    # Execute your SQL statements here\n",
    "    cur.execute(query_appalachian_pca)\n",
    "\n",
    "    # If everything is successful, commit the transaction\n",
    "    conn.commit()\n",
    "    print(\"Transaction committed successfully!\")\n",
    "except psycopg2.Error as e:\n",
    "    # If an error occurs, rollback the transaction\n",
    "    conn.rollback()\n",
    "    print(\"Transaction rolled back due to error:\", e)\n",
    "finally:\n",
    "    # Close the cursor and connection\n",
    "    cur.close()"
   ]
  },
  {
   "cell_type": "markdown",
   "metadata": {},
   "source": [
    "### Fort Worth Basin"
   ]
  },
  {
   "cell_type": "code",
   "execution_count": 21,
   "metadata": {},
   "outputs": [],
   "source": [
    "query_fort_worth_pca = sql.SQL(\"\"\"CREATE TABLE fort_worth_pca (\n",
    "  pc1 DECIMAL,\n",
    "  pc2 DECIMAL,\n",
    "  pc3 DECIMAL,\n",
    "  pc4 DECIMAL,                           \n",
    "  pc5 DECIMAL,\n",
    "  pc6 DECIMAL,\n",
    "  pc7 DECIMAL,\n",
    "  pc8 DECIMAL,\n",
    "  pc9 DECIMAL,\n",
    "  pc10 DECIMAL,\n",
    "  pc11 DECIMAL,\n",
    "  pc12 DECIMAL,\n",
    "  pc13 DECIMAL,\n",
    "  pc14 DECIMAL,\n",
    "  pc15 DECIMAL,\n",
    "  li DECIMAL\n",
    ");\"\"\")"
   ]
  },
  {
   "cell_type": "code",
   "execution_count": 22,
   "metadata": {},
   "outputs": [
    {
     "name": "stdout",
     "output_type": "stream",
     "text": [
      "Transaction committed successfully!\n"
     ]
    }
   ],
   "source": [
    "# Create a cursor object\n",
    "cur = conn.cursor()\n",
    "\n",
    "try:\n",
    "    # Execute your SQL statements here\n",
    "    cur.execute(query_fort_worth_pca)\n",
    "\n",
    "    # If everything is successful, commit the transaction\n",
    "    conn.commit()\n",
    "    print(\"Transaction committed successfully!\")\n",
    "except psycopg2.Error as e:\n",
    "    # If an error occurs, rollback the transaction\n",
    "    conn.rollback()\n",
    "    print(\"Transaction rolled back due to error:\", e)\n",
    "finally:\n",
    "    # Close the cursor and connection\n",
    "    cur.close()"
   ]
  },
  {
   "cell_type": "markdown",
   "metadata": {},
   "source": [
    "### Great Plains Basin"
   ]
  },
  {
   "cell_type": "code",
   "execution_count": 23,
   "metadata": {},
   "outputs": [],
   "source": [
    "query_great_plains_pca = sql.SQL(\"\"\"CREATE TABLE great_plains_pca (\n",
    "  pc1 DECIMAL,\n",
    "  pc2 DECIMAL,\n",
    "  pc3 DECIMAL,\n",
    "  pc4 DECIMAL,                           \n",
    "  pc5 DECIMAL,\n",
    "  pc6 DECIMAL,\n",
    "  pc7 DECIMAL,\n",
    "  pc8 DECIMAL,\n",
    "  pc9 DECIMAL,\n",
    "  pc10 DECIMAL,\n",
    "  pc11 DECIMAL,\n",
    "  pc12 DECIMAL,\n",
    "  pc13 DECIMAL,\n",
    "  pc14 DECIMAL,\n",
    "  pc15 DECIMAL,\n",
    "  li DECIMAL\n",
    ");\"\"\")"
   ]
  },
  {
   "cell_type": "code",
   "execution_count": 24,
   "metadata": {},
   "outputs": [
    {
     "name": "stdout",
     "output_type": "stream",
     "text": [
      "Transaction committed successfully!\n"
     ]
    }
   ],
   "source": [
    "# Create a cursor object\n",
    "cur = conn.cursor()\n",
    "\n",
    "try:\n",
    "    # Execute your SQL statements here\n",
    "    cur.execute(query_great_plains_pca)\n",
    "\n",
    "    # If everything is successful, commit the transaction\n",
    "    conn.commit()\n",
    "    print(\"Transaction committed successfully!\")\n",
    "except psycopg2.Error as e:\n",
    "    # If an error occurs, rollback the transaction\n",
    "    conn.rollback()\n",
    "    print(\"Transaction rolled back due to error:\", e)\n",
    "finally:\n",
    "    # Close the cursor and connection\n",
    "    cur.close()"
   ]
  },
  {
   "cell_type": "markdown",
   "metadata": {},
   "source": [
    "### Gulf Coast Basin"
   ]
  },
  {
   "cell_type": "code",
   "execution_count": 25,
   "metadata": {},
   "outputs": [],
   "source": [
    "query_gulf_coast_pca = sql.SQL(\"\"\"CREATE TABLE gulf_coast_pca (\n",
    "  pc1 DECIMAL,\n",
    "  pc2 DECIMAL,\n",
    "  pc3 DECIMAL,\n",
    "  pc4 DECIMAL,                           \n",
    "  pc5 DECIMAL,\n",
    "  pc6 DECIMAL,\n",
    "  pc7 DECIMAL,\n",
    "  pc8 DECIMAL,\n",
    "  pc9 DECIMAL,\n",
    "  pc10 DECIMAL,\n",
    "  pc11 DECIMAL,\n",
    "  pc12 DECIMAL,\n",
    "  pc13 DECIMAL,\n",
    "  pc14 DECIMAL,\n",
    "  pc15 DECIMAL,\n",
    "  li DECIMAL\n",
    ");\"\"\")"
   ]
  },
  {
   "cell_type": "code",
   "execution_count": 26,
   "metadata": {},
   "outputs": [
    {
     "name": "stdout",
     "output_type": "stream",
     "text": [
      "Transaction committed successfully!\n"
     ]
    }
   ],
   "source": [
    "# Create a cursor object\n",
    "cur = conn.cursor()\n",
    "\n",
    "try:\n",
    "    # Execute your SQL statements here\n",
    "    cur.execute(query_gulf_coast_pca)\n",
    "\n",
    "    # If everything is successful, commit the transaction\n",
    "    conn.commit()\n",
    "    print(\"Transaction committed successfully!\")\n",
    "except psycopg2.Error as e:\n",
    "    # If an error occurs, rollback the transaction\n",
    "    conn.rollback()\n",
    "    print(\"Transaction rolled back due to error:\", e)\n",
    "finally:\n",
    "    # Close the cursor and connection\n",
    "    cur.close()"
   ]
  },
  {
   "cell_type": "markdown",
   "metadata": {},
   "source": [
    "### Illinois Basin"
   ]
  },
  {
   "cell_type": "code",
   "execution_count": 27,
   "metadata": {},
   "outputs": [],
   "source": [
    "query_illinois_pca = sql.SQL(\"\"\"CREATE TABLE illinois_pca (\n",
    "  pc1 DECIMAL,\n",
    "  pc2 DECIMAL,\n",
    "  pc3 DECIMAL,\n",
    "  pc4 DECIMAL,                           \n",
    "  pc5 DECIMAL,\n",
    "  pc6 DECIMAL,\n",
    "  pc7 DECIMAL,\n",
    "  pc8 DECIMAL,\n",
    "  pc9 DECIMAL,\n",
    "  pc10 DECIMAL,\n",
    "  pc11 DECIMAL,\n",
    "  pc12 DECIMAL,\n",
    "  pc13 DECIMAL,\n",
    "  pc14 DECIMAL,\n",
    "  pc15 DECIMAL,\n",
    "  li DECIMAL\n",
    ");\"\"\")"
   ]
  },
  {
   "cell_type": "code",
   "execution_count": 28,
   "metadata": {},
   "outputs": [
    {
     "name": "stdout",
     "output_type": "stream",
     "text": [
      "Transaction committed successfully!\n"
     ]
    }
   ],
   "source": [
    "# Create a cursor object\n",
    "cur = conn.cursor()\n",
    "\n",
    "try:\n",
    "    # Execute your SQL statements here\n",
    "    cur.execute(query_illinois_pca)\n",
    "\n",
    "    # If everything is successful, commit the transaction\n",
    "    conn.commit()\n",
    "    print(\"Transaction committed successfully!\")\n",
    "except psycopg2.Error as e:\n",
    "    # If an error occurs, rollback the transaction\n",
    "    conn.rollback()\n",
    "    print(\"Transaction rolled back due to error:\", e)\n",
    "finally:\n",
    "    # Close the cursor and connection\n",
    "    cur.close()"
   ]
  },
  {
   "cell_type": "markdown",
   "metadata": {},
   "source": [
    "### Michigan Basin"
   ]
  },
  {
   "cell_type": "code",
   "execution_count": 29,
   "metadata": {},
   "outputs": [],
   "source": [
    "query_michigan_pca = sql.SQL(\"\"\"CREATE TABLE michigan_pca (\n",
    "  pc1 DECIMAL,\n",
    "  pc2 DECIMAL,\n",
    "  pc3 DECIMAL,\n",
    "  pc4 DECIMAL,                           \n",
    "  pc5 DECIMAL,\n",
    "  pc6 DECIMAL,\n",
    "  pc7 DECIMAL,\n",
    "  pc8 DECIMAL,\n",
    "  pc9 DECIMAL,\n",
    "  pc10 DECIMAL,\n",
    "  pc11 DECIMAL,\n",
    "  pc12 DECIMAL,\n",
    "  pc13 DECIMAL,\n",
    "  pc14 DECIMAL,\n",
    "  pc15 DECIMAL,\n",
    "  li DECIMAL\n",
    ");\"\"\")"
   ]
  },
  {
   "cell_type": "code",
   "execution_count": 30,
   "metadata": {},
   "outputs": [
    {
     "name": "stdout",
     "output_type": "stream",
     "text": [
      "Transaction committed successfully!\n"
     ]
    }
   ],
   "source": [
    "# Create a cursor object\n",
    "cur = conn.cursor()\n",
    "\n",
    "try:\n",
    "    # Execute your SQL statements here\n",
    "    cur.execute(query_michigan_pca)\n",
    "\n",
    "    # If everything is successful, commit the transaction\n",
    "    conn.commit()\n",
    "    print(\"Transaction committed successfully!\")\n",
    "except psycopg2.Error as e:\n",
    "    # If an error occurs, rollback the transaction\n",
    "    conn.rollback()\n",
    "    print(\"Transaction rolled back due to error:\", e)\n",
    "finally:\n",
    "    # Close the cursor and connection\n",
    "    cur.close()"
   ]
  },
  {
   "cell_type": "markdown",
   "metadata": {},
   "source": [
    "### Oklahoma Basin"
   ]
  },
  {
   "cell_type": "code",
   "execution_count": 31,
   "metadata": {},
   "outputs": [],
   "source": [
    "query_oklahoma_pca = sql.SQL(\"\"\"CREATE TABLE oklahoma_pca (\n",
    "  pc1 DECIMAL,\n",
    "  pc2 DECIMAL,\n",
    "  pc3 DECIMAL,\n",
    "  pc4 DECIMAL,                           \n",
    "  pc5 DECIMAL,\n",
    "  pc6 DECIMAL,\n",
    "  pc7 DECIMAL,\n",
    "  pc8 DECIMAL,\n",
    "  pc9 DECIMAL,\n",
    "  pc10 DECIMAL,\n",
    "  pc11 DECIMAL,\n",
    "  pc12 DECIMAL,\n",
    "  pc13 DECIMAL,\n",
    "  pc14 DECIMAL,\n",
    "  pc15 DECIMAL,\n",
    "  li DECIMAL\n",
    ");\"\"\")"
   ]
  },
  {
   "cell_type": "code",
   "execution_count": 32,
   "metadata": {},
   "outputs": [
    {
     "name": "stdout",
     "output_type": "stream",
     "text": [
      "Transaction committed successfully!\n"
     ]
    }
   ],
   "source": [
    "# Create a cursor object\n",
    "cur = conn.cursor()\n",
    "\n",
    "try:\n",
    "    # Execute your SQL statements here\n",
    "    cur.execute(query_oklahoma_pca)\n",
    "\n",
    "    # If everything is successful, commit the transaction\n",
    "    conn.commit()\n",
    "    print(\"Transaction committed successfully!\")\n",
    "except psycopg2.Error as e:\n",
    "    # If an error occurs, rollback the transaction\n",
    "    conn.rollback()\n",
    "    print(\"Transaction rolled back due to error:\", e)\n",
    "finally:\n",
    "    # Close the cursor and connection\n",
    "    cur.close()"
   ]
  },
  {
   "cell_type": "markdown",
   "metadata": {},
   "source": [
    "### Pacific Basin"
   ]
  },
  {
   "cell_type": "code",
   "execution_count": 33,
   "metadata": {},
   "outputs": [],
   "source": [
    "query_pacific_pca = sql.SQL(\"\"\"CREATE TABLE pacific_pca (\n",
    "  pc1 DECIMAL,\n",
    "  pc2 DECIMAL,\n",
    "  pc3 DECIMAL,\n",
    "  pc4 DECIMAL,                           \n",
    "  pc5 DECIMAL,\n",
    "  pc6 DECIMAL,\n",
    "  pc7 DECIMAL,\n",
    "  pc8 DECIMAL,\n",
    "  pc9 DECIMAL,\n",
    "  pc10 DECIMAL,\n",
    "  pc11 DECIMAL,\n",
    "  pc12 DECIMAL,\n",
    "  pc13 DECIMAL,\n",
    "  pc14 DECIMAL,\n",
    "  pc15 DECIMAL,\n",
    "  li DECIMAL\n",
    ");\"\"\")"
   ]
  },
  {
   "cell_type": "code",
   "execution_count": 34,
   "metadata": {},
   "outputs": [
    {
     "name": "stdout",
     "output_type": "stream",
     "text": [
      "Transaction committed successfully!\n"
     ]
    }
   ],
   "source": [
    "# Create a cursor object\n",
    "cur = conn.cursor()\n",
    "\n",
    "try:\n",
    "    # Execute your SQL statements here\n",
    "    cur.execute(query_pacific_pca)\n",
    "\n",
    "    # If everything is successful, commit the transaction\n",
    "    conn.commit()\n",
    "    print(\"Transaction committed successfully!\")\n",
    "except psycopg2.Error as e:\n",
    "    # If an error occurs, rollback the transaction\n",
    "    conn.rollback()\n",
    "    print(\"Transaction rolled back due to error:\", e)\n",
    "finally:\n",
    "    # Close the cursor and connection\n",
    "    cur.close()"
   ]
  },
  {
   "cell_type": "markdown",
   "metadata": {},
   "source": [
    "### Permian Basin"
   ]
  },
  {
   "cell_type": "code",
   "execution_count": 35,
   "metadata": {},
   "outputs": [],
   "source": [
    "query_permian_pca = sql.SQL(\"\"\"CREATE TABLE permian_pca (\n",
    "  pc1 DECIMAL,\n",
    "  pc2 DECIMAL,\n",
    "  pc3 DECIMAL,\n",
    "  pc4 DECIMAL,                           \n",
    "  pc5 DECIMAL,\n",
    "  pc6 DECIMAL,\n",
    "  pc7 DECIMAL,\n",
    "  pc8 DECIMAL,\n",
    "  pc9 DECIMAL,\n",
    "  pc10 DECIMAL,\n",
    "  pc11 DECIMAL,\n",
    "  pc12 DECIMAL,\n",
    "  pc13 DECIMAL,\n",
    "  pc14 DECIMAL,\n",
    "  pc15 DECIMAL,\n",
    "  li DECIMAL\n",
    ");\"\"\")"
   ]
  },
  {
   "cell_type": "code",
   "execution_count": 36,
   "metadata": {},
   "outputs": [
    {
     "name": "stdout",
     "output_type": "stream",
     "text": [
      "Transaction committed successfully!\n"
     ]
    }
   ],
   "source": [
    "# Create a cursor object\n",
    "cur = conn.cursor()\n",
    "\n",
    "try:\n",
    "    # Execute your SQL statements here\n",
    "    cur.execute(query_permian_pca)\n",
    "\n",
    "    # If everything is successful, commit the transaction\n",
    "    conn.commit()\n",
    "    print(\"Transaction committed successfully!\")\n",
    "except psycopg2.Error as e:\n",
    "    # If an error occurs, rollback the transaction\n",
    "    conn.rollback()\n",
    "    print(\"Transaction rolled back due to error:\", e)\n",
    "finally:\n",
    "    # Close the cursor and connection\n",
    "    cur.close()"
   ]
  },
  {
   "cell_type": "markdown",
   "metadata": {},
   "source": [
    "### Rocky Mountain Basin"
   ]
  },
  {
   "cell_type": "code",
   "execution_count": 37,
   "metadata": {},
   "outputs": [],
   "source": [
    "query_rocky_mountain_pca = sql.SQL(\"\"\"CREATE TABLE rocky_mountain_pca (\n",
    "  pc1 DECIMAL,\n",
    "  pc2 DECIMAL,\n",
    "  pc3 DECIMAL,\n",
    "  pc4 DECIMAL,                           \n",
    "  pc5 DECIMAL,\n",
    "  pc6 DECIMAL,\n",
    "  pc7 DECIMAL,\n",
    "  pc8 DECIMAL,\n",
    "  pc9 DECIMAL,\n",
    "  pc10 DECIMAL,\n",
    "  pc11 DECIMAL,\n",
    "  pc12 DECIMAL,\n",
    "  pc13 DECIMAL,\n",
    "  pc14 DECIMAL,\n",
    "  pc15 DECIMAL,\n",
    "  li DECIMAL\n",
    ");\"\"\")"
   ]
  },
  {
   "cell_type": "code",
   "execution_count": 38,
   "metadata": {},
   "outputs": [
    {
     "name": "stdout",
     "output_type": "stream",
     "text": [
      "Transaction committed successfully!\n"
     ]
    }
   ],
   "source": [
    "# Create a cursor object\n",
    "cur = conn.cursor()\n",
    "\n",
    "try:\n",
    "    # Execute your SQL statements here\n",
    "    cur.execute(query_rocky_mountain_pca)\n",
    "\n",
    "    # If everything is successful, commit the transaction\n",
    "    conn.commit()\n",
    "    print(\"Transaction committed successfully!\")\n",
    "except psycopg2.Error as e:\n",
    "    # If an error occurs, rollback the transaction\n",
    "    conn.rollback()\n",
    "    print(\"Transaction rolled back due to error:\", e)\n",
    "finally:\n",
    "    # Close the cursor and connection\n",
    "    cur.close()"
   ]
  },
  {
   "cell_type": "markdown",
   "metadata": {},
   "source": [
    "### Williston Basin"
   ]
  },
  {
   "cell_type": "code",
   "execution_count": 39,
   "metadata": {},
   "outputs": [],
   "source": [
    "query_williston_pca = sql.SQL(\"\"\"CREATE TABLE williston_pca (\n",
    "  pc1 DECIMAL,\n",
    "  pc2 DECIMAL,\n",
    "  pc3 DECIMAL,\n",
    "  pc4 DECIMAL,                           \n",
    "  pc5 DECIMAL,\n",
    "  pc6 DECIMAL,\n",
    "  pc7 DECIMAL,\n",
    "  pc8 DECIMAL,\n",
    "  pc9 DECIMAL,\n",
    "  pc10 DECIMAL,\n",
    "  pc11 DECIMAL,\n",
    "  pc12 DECIMAL,\n",
    "  pc13 DECIMAL,\n",
    "  pc14 DECIMAL,\n",
    "  pc15 DECIMAL,\n",
    "  li DECIMAL\n",
    ");\"\"\")"
   ]
  },
  {
   "cell_type": "code",
   "execution_count": 40,
   "metadata": {},
   "outputs": [
    {
     "name": "stdout",
     "output_type": "stream",
     "text": [
      "Transaction committed successfully!\n"
     ]
    }
   ],
   "source": [
    "# Create a cursor object\n",
    "cur = conn.cursor()\n",
    "\n",
    "try:\n",
    "    # Execute your SQL statements here\n",
    "    cur.execute(query_williston_pca)\n",
    "\n",
    "    # If everything is successful, commit the transaction\n",
    "    conn.commit()\n",
    "    print(\"Transaction committed successfully!\")\n",
    "except psycopg2.Error as e:\n",
    "    # If an error occurs, rollback the transaction\n",
    "    conn.rollback()\n",
    "    print(\"Transaction rolled back due to error:\", e)\n",
    "finally:\n",
    "    # Close the cursor and connection\n",
    "    cur.close()"
   ]
  },
  {
   "cell_type": "markdown",
   "metadata": {},
   "source": [
    "## Define functions and variables required to load data into the tables"
   ]
  },
  {
   "cell_type": "code",
   "execution_count": 77,
   "metadata": {},
   "outputs": [],
   "source": [
    "def connect():\n",
    "    # Set up a connection to the postgres server.\n",
    "    conn_string = f\"postgresql+psycopg2://{PGUSER_NAME}:{PGPASSWORD}@{PGEND_POINT}:5432/{PGDATABASE_NAME}\"\n",
    "    engine = create_engine(conn_string)\n",
    "    print(\"Connected to the database!\")\n",
    "    return engine"
   ]
  },
  {
   "cell_type": "code",
   "execution_count": 78,
   "metadata": {},
   "outputs": [],
   "source": [
    "# Define a function to push DataFrames into PGadmin tables that were created\n",
    "def load_data_to_table(dataframe, table_name, engine):\n",
    "    dataframe.to_sql(name=table_name, con=engine, if_exists='append', index=False)\n",
    "    print(f\"Data loaded into {table_name} successfully!\")\n"
   ]
  },
  {
   "cell_type": "code",
   "execution_count": 79,
   "metadata": {},
   "outputs": [
    {
     "name": "stdout",
     "output_type": "stream",
     "text": [
      "Connected to the database!\n"
     ]
    }
   ],
   "source": [
    "# Connect to the database\n",
    "engine = connect()"
   ]
  },
  {
   "cell_type": "markdown",
   "metadata": {},
   "source": [
    "### Create DataFrames"
   ]
  },
  {
   "cell_type": "code",
   "execution_count": 80,
   "metadata": {},
   "outputs": [],
   "source": [
    "# Create DataFrame for cleaned_data table\n",
    "df_cleaned_data = pd.read_csv('../../data/df_output/df_cleaned.csv').rename(columns=str.lower)\n",
    "df_cleaned_data.rename(columns={'playtype': 'play_type', 'welltype': 'well_type', 'formsimple': 'form_simple', 'wellname': 'well_name', 'depthupper': 'depth_upper', 'depthlower': 'depth_lower', 'datesample': 'date_sample'}, inplace=True)\n"
   ]
  },
  {
   "cell_type": "code",
   "execution_count": 81,
   "metadata": {},
   "outputs": [],
   "source": [
    "# Create DataFrame for imputed_data table\n",
    "df_imputed_data = pd.read_csv('../../data/df_output/df_cleaned_imputed.csv').rename(columns=str.lower)\n",
    "df_imputed_data.rename(columns={'playtype': 'play_type', 'welltype': 'well_type', 'formsimple': 'form_simple', 'wellname': 'well_name', 'depthupper': 'depth_upper', 'depthlower': 'depth_lower', 'datesample': 'date_sample'}, inplace=True)"
   ]
  },
  {
   "cell_type": "code",
   "execution_count": 82,
   "metadata": {},
   "outputs": [],
   "source": [
    "# Create DataFrames for each Basin's PCA data\n",
    "df_anadarko_pca = pd.read_csv('../../data/pca_data/byBasin_pca/Anadarko_pca_with_target.csv').rename(columns=str.lower)\n",
    "df_appalachian_pca = pd.read_csv('../../data/pca_data/byBasin_pca/Appalachian_pca_with_target.csv').rename(columns=str.lower)\n",
    "df_fort_worth_pca = pd.read_csv('../../data/pca_data/byBasin_pca/Fort Worth_pca_with_target.csv').rename(columns=str.lower)\n",
    "df_great_plains_pca = pd.read_csv('../../data/pca_data/byBasin_pca/Great Plains_pca_with_target.csv').rename(columns=str.lower)\n",
    "df_gulf_coast_pca = pd.read_csv('../../data/pca_data/byBasin_pca/Gulf Coast_pca_with_target.csv').rename(columns=str.lower)\n",
    "df_illinois_pca = pd.read_csv('../../data/pca_data/byBasin_pca/Illinois_pca_with_target.csv').rename(columns=str.lower)\n",
    "df_michigan_pca = pd.read_csv('../../data/pca_data/byBasin_pca/Michigan_pca_with_target.csv').rename(columns=str.lower)\n",
    "df_oklahoma_pca = pd.read_csv('../../data/pca_data/byBasin_pca/Oklahoma Platform_pca_with_target.csv').rename(columns=str.lower)\n",
    "df_pacific_pca = pd.read_csv('../../data/pca_data/byBasin_pca/Pacific_pca_with_target.csv').rename(columns=str.lower)\n",
    "df_permian_pca = pd.read_csv('../../data/pca_data/byBasin_pca/Permian_pca_with_target.csv').rename(columns=str.lower)\n",
    "df_rocky_mountain_pca = pd.read_csv('../../data/pca_data/byBasin_pca/Rocky Mountain_pca_with_target.csv').rename(columns=str.lower)\n",
    "df_williston_pca = pd.read_csv('../../data/pca_data/byBasin_pca/Williston_pca_with_target.csv').rename(columns=str.lower)\n"
   ]
  },
  {
   "cell_type": "markdown",
   "metadata": {},
   "source": [
    "## Load Data"
   ]
  },
  {
   "cell_type": "markdown",
   "metadata": {},
   "source": [
    "### Load cleaned_data table"
   ]
  },
  {
   "cell_type": "code",
   "execution_count": 88,
   "metadata": {},
   "outputs": [
    {
     "name": "stdout",
     "output_type": "stream",
     "text": [
      "Data loaded into cleaned_data successfully!\n"
     ]
    }
   ],
   "source": [
    "load_data_to_table(df_cleaned_data, 'cleaned_data', engine)"
   ]
  },
  {
   "cell_type": "markdown",
   "metadata": {},
   "source": [
    "### Load imputed_data table"
   ]
  },
  {
   "cell_type": "code",
   "execution_count": 89,
   "metadata": {},
   "outputs": [
    {
     "name": "stdout",
     "output_type": "stream",
     "text": [
      "Data loaded into imputed_data successfully!\n"
     ]
    }
   ],
   "source": [
    "load_data_to_table(df_imputed_data, 'imputed_data', engine)"
   ]
  },
  {
   "cell_type": "markdown",
   "metadata": {},
   "source": [
    "### Load PCA tables"
   ]
  },
  {
   "cell_type": "code",
   "execution_count": 94,
   "metadata": {},
   "outputs": [
    {
     "name": "stdout",
     "output_type": "stream",
     "text": [
      "Data loaded into anadarko_pca successfully!\n",
      "Data loaded into appalachian_pca successfully!\n",
      "Data loaded into fort_worth_pca successfully!\n",
      "Data loaded into great_plains_pca successfully!\n",
      "Data loaded into gulf_coast_pca successfully!\n",
      "Data loaded into illinois_pca successfully!\n",
      "Data loaded into michigan_pca successfully!\n",
      "Data loaded into oklahoma_pca successfully!\n",
      "Data loaded into pacific_pca successfully!\n",
      "Data loaded into permian_pca successfully!\n",
      "Data loaded into rocky_mountain_pca successfully!\n",
      "Data loaded into williston_pca successfully!\n"
     ]
    }
   ],
   "source": [
    "load_data_to_table(df_anadarko_pca, 'anadarko_pca', engine)\n",
    "load_data_to_table(df_appalachian_pca, 'appalachian_pca', engine)\n",
    "load_data_to_table(df_fort_worth_pca, 'fort_worth_pca', engine)\n",
    "load_data_to_table(df_great_plains_pca, 'great_plains_pca', engine)\n",
    "load_data_to_table(df_gulf_coast_pca, 'gulf_coast_pca', engine)\n",
    "load_data_to_table(df_illinois_pca, 'illinois_pca', engine)\n",
    "load_data_to_table(df_michigan_pca, 'michigan_pca', engine)\n",
    "load_data_to_table(df_oklahoma_pca, 'oklahoma_pca', engine)\n",
    "load_data_to_table(df_pacific_pca, 'pacific_pca', engine)\n",
    "load_data_to_table(df_permian_pca, 'permian_pca', engine)\n",
    "load_data_to_table(df_rocky_mountain_pca, 'rocky_mountain_pca', engine)\n",
    "load_data_to_table(df_williston_pca, 'williston_pca', engine)"
   ]
  }
 ],
 "metadata": {
  "kernelspec": {
   "display_name": "Python 3",
   "language": "python",
   "name": "python3"
  },
  "language_info": {
   "codemirror_mode": {
    "name": "ipython",
    "version": 3
   },
   "file_extension": ".py",
   "mimetype": "text/x-python",
   "name": "python",
   "nbconvert_exporter": "python",
   "pygments_lexer": "ipython3",
   "version": "3.11.8"
  }
 },
 "nbformat": 4,
 "nbformat_minor": 2
}
