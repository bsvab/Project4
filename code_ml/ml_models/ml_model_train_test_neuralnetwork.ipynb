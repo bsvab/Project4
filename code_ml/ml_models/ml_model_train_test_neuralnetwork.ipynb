{
 "cells": [
  {
   "cell_type": "code",
   "execution_count": 1,
   "metadata": {},
   "outputs": [
    {
     "name": "stderr",
     "output_type": "stream",
     "text": [
      "c:\\Users\\darvarir\\Anaconda3\\lib\\site-packages\\scipy\\__init__.py:146: UserWarning: A NumPy version >=1.16.5 and <1.23.0 is required for this version of SciPy (detected version 1.26.4\n",
      "  warnings.warn(f\"A NumPy version >={np_minversion} and <{np_maxversion}\"\n"
     ]
    }
   ],
   "source": [
    "import os\n",
    "import pandas as pd\n",
    "import matplotlib.pyplot as plt\n",
    "from sklearn.model_selection import train_test_split\n",
    "from sklearn.metrics import mean_squared_error, r2_score, mean_absolute_error, explained_variance_score\n",
    "from tensorflow.keras.models import Sequential\n",
    "from tensorflow.keras.layers import Dense\n",
    "from tensorflow.keras.optimizers import Adam"
   ]
  },
  {
   "cell_type": "code",
   "execution_count": 2,
   "metadata": {},
   "outputs": [
    {
     "name": "stderr",
     "output_type": "stream",
     "text": [
      "c:\\Users\\darvarir\\Anaconda3\\lib\\site-packages\\keras\\src\\layers\\core\\dense.py:86: UserWarning: Do not pass an `input_shape`/`input_dim` argument to a layer. When using Sequential models, prefer using an `Input(shape)` object as the first layer in the model instead.\n",
      "  super().__init__(activity_regularizer=activity_regularizer, **kwargs)\n"
     ]
    },
    {
     "name": "stdout",
     "output_type": "stream",
     "text": [
      "\u001b[1m2/2\u001b[0m \u001b[32m━━━━━━━━━━━━━━━━━━━━\u001b[0m\u001b[37m\u001b[0m \u001b[1m0s\u001b[0m 31ms/step\n",
      "Basin: Anadarko - MSE: 1446.6775656828754, R2: 0.8546795918758643, MAE: 15.383498844594325, RMSE: 38.03521481052625, Explained Variance: 0.8581212999619623\n",
      "\u001b[1m133/133\u001b[0m \u001b[32m━━━━━━━━━━━━━━━━━━━━\u001b[0m\u001b[37m\u001b[0m \u001b[1m0s\u001b[0m 793us/step\n"
     ]
    },
    {
     "name": "stderr",
     "output_type": "stream",
     "text": [
      "C:\\Users\\darvarir\\AppData\\Local\\Temp\\ipykernel_9768\\1758668968.py:66: SettingWithCopyWarning: \n",
      "A value is trying to be set on a copy of a slice from a DataFrame.\n",
      "Try using .loc[row_indexer,col_indexer] = value instead\n",
      "\n",
      "See the caveats in the documentation: https://pandas.pydata.org/pandas-docs/stable/user_guide/indexing.html#returning-a-view-versus-a-copy\n",
      "  unknown_data['Predicted_Li'] = y_unknown_pred\n",
      "c:\\Users\\darvarir\\Anaconda3\\lib\\site-packages\\keras\\src\\layers\\core\\dense.py:86: UserWarning: Do not pass an `input_shape`/`input_dim` argument to a layer. When using Sequential models, prefer using an `Input(shape)` object as the first layer in the model instead.\n",
      "  super().__init__(activity_regularizer=activity_regularizer, **kwargs)\n"
     ]
    },
    {
     "name": "stdout",
     "output_type": "stream",
     "text": [
      "\u001b[1m5/5\u001b[0m \u001b[32m━━━━━━━━━━━━━━━━━━━━\u001b[0m\u001b[37m\u001b[0m \u001b[1m0s\u001b[0m 6ms/step \n",
      "Basin: Appalachian - MSE: 1555.7515630443502, R2: 0.5741898388823622, MAE: 26.481157848093343, RMSE: 39.44301665750669, Explained Variance: 0.6173453428649796\n",
      "\u001b[1m32/32\u001b[0m \u001b[32m━━━━━━━━━━━━━━━━━━━━\u001b[0m\u001b[37m\u001b[0m \u001b[1m0s\u001b[0m 772us/step\n"
     ]
    },
    {
     "name": "stderr",
     "output_type": "stream",
     "text": [
      "C:\\Users\\darvarir\\AppData\\Local\\Temp\\ipykernel_9768\\1758668968.py:66: SettingWithCopyWarning: \n",
      "A value is trying to be set on a copy of a slice from a DataFrame.\n",
      "Try using .loc[row_indexer,col_indexer] = value instead\n",
      "\n",
      "See the caveats in the documentation: https://pandas.pydata.org/pandas-docs/stable/user_guide/indexing.html#returning-a-view-versus-a-copy\n",
      "  unknown_data['Predicted_Li'] = y_unknown_pred\n",
      "c:\\Users\\darvarir\\Anaconda3\\lib\\site-packages\\keras\\src\\layers\\core\\dense.py:86: UserWarning: Do not pass an `input_shape`/`input_dim` argument to a layer. When using Sequential models, prefer using an `Input(shape)` object as the first layer in the model instead.\n",
      "  super().__init__(activity_regularizer=activity_regularizer, **kwargs)\n"
     ]
    },
    {
     "name": "stdout",
     "output_type": "stream",
     "text": [
      "\u001b[1m1/1\u001b[0m \u001b[32m━━━━━━━━━━━━━━━━━━━━\u001b[0m\u001b[37m\u001b[0m \u001b[1m0s\u001b[0m 33ms/step\n",
      "Basin: Fort Worth - MSE: 108.49348385063165, R2: 0.9114725555472136, MAE: 7.0349409079551695, RMSE: 10.416020538124512, Explained Variance: 0.9193483317963543\n",
      "\u001b[1m10/10\u001b[0m \u001b[32m━━━━━━━━━━━━━━━━━━━━\u001b[0m\u001b[37m\u001b[0m \u001b[1m0s\u001b[0m 1ms/step \n"
     ]
    },
    {
     "name": "stderr",
     "output_type": "stream",
     "text": [
      "C:\\Users\\darvarir\\AppData\\Local\\Temp\\ipykernel_9768\\1758668968.py:66: SettingWithCopyWarning: \n",
      "A value is trying to be set on a copy of a slice from a DataFrame.\n",
      "Try using .loc[row_indexer,col_indexer] = value instead\n",
      "\n",
      "See the caveats in the documentation: https://pandas.pydata.org/pandas-docs/stable/user_guide/indexing.html#returning-a-view-versus-a-copy\n",
      "  unknown_data['Predicted_Li'] = y_unknown_pred\n",
      "c:\\Users\\darvarir\\Anaconda3\\lib\\site-packages\\keras\\src\\layers\\core\\dense.py:86: UserWarning: Do not pass an `input_shape`/`input_dim` argument to a layer. When using Sequential models, prefer using an `Input(shape)` object as the first layer in the model instead.\n",
      "  super().__init__(activity_regularizer=activity_regularizer, **kwargs)\n"
     ]
    },
    {
     "name": "stdout",
     "output_type": "stream",
     "text": [
      "\u001b[1m1/1\u001b[0m \u001b[32m━━━━━━━━━━━━━━━━━━━━\u001b[0m\u001b[37m\u001b[0m \u001b[1m0s\u001b[0m 33ms/step\n",
      "Basin: Great Plains - MSE: 40432.283076842235, R2: -0.08376549692479851, MAE: 57.32960139384637, RMSE: 201.07780354092353, Explained Variance: 0.0012996679847018244\n",
      "\u001b[1m16/16\u001b[0m \u001b[32m━━━━━━━━━━━━━━━━━━━━\u001b[0m\u001b[37m\u001b[0m \u001b[1m0s\u001b[0m 961us/step\n"
     ]
    },
    {
     "name": "stderr",
     "output_type": "stream",
     "text": [
      "C:\\Users\\darvarir\\AppData\\Local\\Temp\\ipykernel_9768\\1758668968.py:66: SettingWithCopyWarning: \n",
      "A value is trying to be set on a copy of a slice from a DataFrame.\n",
      "Try using .loc[row_indexer,col_indexer] = value instead\n",
      "\n",
      "See the caveats in the documentation: https://pandas.pydata.org/pandas-docs/stable/user_guide/indexing.html#returning-a-view-versus-a-copy\n",
      "  unknown_data['Predicted_Li'] = y_unknown_pred\n",
      "c:\\Users\\darvarir\\Anaconda3\\lib\\site-packages\\keras\\src\\layers\\core\\dense.py:86: UserWarning: Do not pass an `input_shape`/`input_dim` argument to a layer. When using Sequential models, prefer using an `Input(shape)` object as the first layer in the model instead.\n",
      "  super().__init__(activity_regularizer=activity_regularizer, **kwargs)\n"
     ]
    },
    {
     "name": "stdout",
     "output_type": "stream",
     "text": [
      "\u001b[1m6/6\u001b[0m \u001b[32m━━━━━━━━━━━━━━━━━━━━\u001b[0m\u001b[37m\u001b[0m \u001b[1m0s\u001b[0m 5ms/step \n",
      "Basin: Gulf Coast - MSE: 942.1414968311993, R2: 0.8334358318710074, MAE: 17.08847016398582, RMSE: 30.694323527831646, Explained Variance: 0.8348014879352841\n",
      "\u001b[1m427/427\u001b[0m \u001b[32m━━━━━━━━━━━━━━━━━━━━\u001b[0m\u001b[37m\u001b[0m \u001b[1m0s\u001b[0m 681us/step\n"
     ]
    },
    {
     "name": "stderr",
     "output_type": "stream",
     "text": [
      "C:\\Users\\darvarir\\AppData\\Local\\Temp\\ipykernel_9768\\1758668968.py:66: SettingWithCopyWarning: \n",
      "A value is trying to be set on a copy of a slice from a DataFrame.\n",
      "Try using .loc[row_indexer,col_indexer] = value instead\n",
      "\n",
      "See the caveats in the documentation: https://pandas.pydata.org/pandas-docs/stable/user_guide/indexing.html#returning-a-view-versus-a-copy\n",
      "  unknown_data['Predicted_Li'] = y_unknown_pred\n",
      "c:\\Users\\darvarir\\Anaconda3\\lib\\site-packages\\keras\\src\\layers\\core\\dense.py:86: UserWarning: Do not pass an `input_shape`/`input_dim` argument to a layer. When using Sequential models, prefer using an `Input(shape)` object as the first layer in the model instead.\n",
      "  super().__init__(activity_regularizer=activity_regularizer, **kwargs)\n"
     ]
    },
    {
     "name": "stdout",
     "output_type": "stream",
     "text": [
      "\u001b[1m1/1\u001b[0m \u001b[32m━━━━━━━━━━━━━━━━━━━━\u001b[0m\u001b[37m\u001b[0m \u001b[1m0s\u001b[0m 33ms/step\n",
      "Basin: Illinois - MSE: 37.91593292693692, R2: 0.8016948948754257, MAE: 4.852355228424072, RMSE: 6.157591487500362, Explained Variance: 0.8324920739949252\n",
      "\u001b[1m66/66\u001b[0m \u001b[32m━━━━━━━━━━━━━━━━━━━━\u001b[0m\u001b[37m\u001b[0m \u001b[1m0s\u001b[0m 751us/step\n"
     ]
    },
    {
     "name": "stderr",
     "output_type": "stream",
     "text": [
      "C:\\Users\\darvarir\\AppData\\Local\\Temp\\ipykernel_9768\\1758668968.py:66: SettingWithCopyWarning: \n",
      "A value is trying to be set on a copy of a slice from a DataFrame.\n",
      "Try using .loc[row_indexer,col_indexer] = value instead\n",
      "\n",
      "See the caveats in the documentation: https://pandas.pydata.org/pandas-docs/stable/user_guide/indexing.html#returning-a-view-versus-a-copy\n",
      "  unknown_data['Predicted_Li'] = y_unknown_pred\n",
      "c:\\Users\\darvarir\\Anaconda3\\lib\\site-packages\\keras\\src\\layers\\core\\dense.py:86: UserWarning: Do not pass an `input_shape`/`input_dim` argument to a layer. When using Sequential models, prefer using an `Input(shape)` object as the first layer in the model instead.\n",
      "  super().__init__(activity_regularizer=activity_regularizer, **kwargs)\n"
     ]
    },
    {
     "name": "stdout",
     "output_type": "stream",
     "text": [
      "\u001b[1m1/1\u001b[0m \u001b[32m━━━━━━━━━━━━━━━━━━━━\u001b[0m\u001b[37m\u001b[0m \u001b[1m0s\u001b[0m 256ms/step\n",
      "Basin: Michigan - MSE: 75.04808471510587, R2: 0.8122509099876499, MAE: 6.358526979446411, RMSE: 8.663029765336482, Explained Variance: 0.8126901526059369\n",
      "\u001b[1m21/21\u001b[0m \u001b[32m━━━━━━━━━━━━━━━━━━━━\u001b[0m\u001b[37m\u001b[0m \u001b[1m0s\u001b[0m 947us/step\n"
     ]
    },
    {
     "name": "stderr",
     "output_type": "stream",
     "text": [
      "C:\\Users\\darvarir\\AppData\\Local\\Temp\\ipykernel_9768\\1758668968.py:66: SettingWithCopyWarning: \n",
      "A value is trying to be set on a copy of a slice from a DataFrame.\n",
      "Try using .loc[row_indexer,col_indexer] = value instead\n",
      "\n",
      "See the caveats in the documentation: https://pandas.pydata.org/pandas-docs/stable/user_guide/indexing.html#returning-a-view-versus-a-copy\n",
      "  unknown_data['Predicted_Li'] = y_unknown_pred\n",
      "c:\\Users\\darvarir\\Anaconda3\\lib\\site-packages\\keras\\src\\layers\\core\\dense.py:86: UserWarning: Do not pass an `input_shape`/`input_dim` argument to a layer. When using Sequential models, prefer using an `Input(shape)` object as the first layer in the model instead.\n",
      "  super().__init__(activity_regularizer=activity_regularizer, **kwargs)\n"
     ]
    },
    {
     "name": "stdout",
     "output_type": "stream",
     "text": [
      "\u001b[1m2/2\u001b[0m \u001b[32m━━━━━━━━━━━━━━━━━━━━\u001b[0m\u001b[37m\u001b[0m \u001b[1m0s\u001b[0m 23ms/step\n",
      "Basin: Oklahoma Platform - MSE: 71.81163754530124, R2: 0.7713933100551794, MAE: 6.533542061413034, RMSE: 8.474174741253643, Explained Variance: 0.7719066434619397\n",
      "\u001b[1m324/324\u001b[0m \u001b[32m━━━━━━━━━━━━━━━━━━━━\u001b[0m\u001b[37m\u001b[0m \u001b[1m0s\u001b[0m 602us/step\n"
     ]
    },
    {
     "name": "stderr",
     "output_type": "stream",
     "text": [
      "C:\\Users\\darvarir\\AppData\\Local\\Temp\\ipykernel_9768\\1758668968.py:66: SettingWithCopyWarning: \n",
      "A value is trying to be set on a copy of a slice from a DataFrame.\n",
      "Try using .loc[row_indexer,col_indexer] = value instead\n",
      "\n",
      "See the caveats in the documentation: https://pandas.pydata.org/pandas-docs/stable/user_guide/indexing.html#returning-a-view-versus-a-copy\n",
      "  unknown_data['Predicted_Li'] = y_unknown_pred\n",
      "c:\\Users\\darvarir\\Anaconda3\\lib\\site-packages\\keras\\src\\layers\\core\\dense.py:86: UserWarning: Do not pass an `input_shape`/`input_dim` argument to a layer. When using Sequential models, prefer using an `Input(shape)` object as the first layer in the model instead.\n",
      "  super().__init__(activity_regularizer=activity_regularizer, **kwargs)\n"
     ]
    },
    {
     "name": "stdout",
     "output_type": "stream",
     "text": [
      "\u001b[1m1/1\u001b[0m \u001b[32m━━━━━━━━━━━━━━━━━━━━\u001b[0m\u001b[37m\u001b[0m \u001b[1m0s\u001b[0m 33ms/step\n",
      "Basin: Pacific - MSE: 0.7121746671172341, R2: 0.9312258451296284, MAE: 0.5847196506220719, RMSE: 0.8439044182354031, Explained Variance: 0.9330092316023534\n",
      "\u001b[1m17/17\u001b[0m \u001b[32m━━━━━━━━━━━━━━━━━━━━\u001b[0m\u001b[37m\u001b[0m \u001b[1m0s\u001b[0m 872us/step\n"
     ]
    },
    {
     "name": "stderr",
     "output_type": "stream",
     "text": [
      "C:\\Users\\darvarir\\AppData\\Local\\Temp\\ipykernel_9768\\1758668968.py:66: SettingWithCopyWarning: \n",
      "A value is trying to be set on a copy of a slice from a DataFrame.\n",
      "Try using .loc[row_indexer,col_indexer] = value instead\n",
      "\n",
      "See the caveats in the documentation: https://pandas.pydata.org/pandas-docs/stable/user_guide/indexing.html#returning-a-view-versus-a-copy\n",
      "  unknown_data['Predicted_Li'] = y_unknown_pred\n",
      "c:\\Users\\darvarir\\Anaconda3\\lib\\site-packages\\keras\\src\\layers\\core\\dense.py:86: UserWarning: Do not pass an `input_shape`/`input_dim` argument to a layer. When using Sequential models, prefer using an `Input(shape)` object as the first layer in the model instead.\n",
      "  super().__init__(activity_regularizer=activity_regularizer, **kwargs)\n"
     ]
    },
    {
     "name": "stdout",
     "output_type": "stream",
     "text": [
      "\u001b[1m4/4\u001b[0m \u001b[32m━━━━━━━━━━━━━━━━━━━━\u001b[0m\u001b[37m\u001b[0m \u001b[1m0s\u001b[0m 8ms/step \n",
      "Basin: Permian - MSE: 689.511725761107, R2: 0.8644073971921556, MAE: 9.40555095721766, RMSE: 26.258555287012783, Explained Variance: 0.8662193184272516\n",
      "\u001b[1m245/245\u001b[0m \u001b[32m━━━━━━━━━━━━━━━━━━━━\u001b[0m\u001b[37m\u001b[0m \u001b[1m0s\u001b[0m 638us/step\n"
     ]
    },
    {
     "name": "stderr",
     "output_type": "stream",
     "text": [
      "C:\\Users\\darvarir\\AppData\\Local\\Temp\\ipykernel_9768\\1758668968.py:66: SettingWithCopyWarning: \n",
      "A value is trying to be set on a copy of a slice from a DataFrame.\n",
      "Try using .loc[row_indexer,col_indexer] = value instead\n",
      "\n",
      "See the caveats in the documentation: https://pandas.pydata.org/pandas-docs/stable/user_guide/indexing.html#returning-a-view-versus-a-copy\n",
      "  unknown_data['Predicted_Li'] = y_unknown_pred\n",
      "c:\\Users\\darvarir\\Anaconda3\\lib\\site-packages\\keras\\src\\layers\\core\\dense.py:86: UserWarning: Do not pass an `input_shape`/`input_dim` argument to a layer. When using Sequential models, prefer using an `Input(shape)` object as the first layer in the model instead.\n",
      "  super().__init__(activity_regularizer=activity_regularizer, **kwargs)\n"
     ]
    },
    {
     "name": "stdout",
     "output_type": "stream",
     "text": [
      "\u001b[1m5/5\u001b[0m \u001b[32m━━━━━━━━━━━━━━━━━━━━\u001b[0m\u001b[37m\u001b[0m \u001b[1m0s\u001b[0m 7ms/step \n",
      "Basin: Rocky Mountain - MSE: 46.47724094225837, R2: 0.7833396945972375, MAE: 3.2202675750272736, RMSE: 6.81742186917154, Explained Variance: 0.7838188067033767\n",
      "\u001b[1m183/183\u001b[0m \u001b[32m━━━━━━━━━━━━━━━━━━━━\u001b[0m\u001b[37m\u001b[0m \u001b[1m0s\u001b[0m 619us/step\n"
     ]
    },
    {
     "name": "stderr",
     "output_type": "stream",
     "text": [
      "C:\\Users\\darvarir\\AppData\\Local\\Temp\\ipykernel_9768\\1758668968.py:66: SettingWithCopyWarning: \n",
      "A value is trying to be set on a copy of a slice from a DataFrame.\n",
      "Try using .loc[row_indexer,col_indexer] = value instead\n",
      "\n",
      "See the caveats in the documentation: https://pandas.pydata.org/pandas-docs/stable/user_guide/indexing.html#returning-a-view-versus-a-copy\n",
      "  unknown_data['Predicted_Li'] = y_unknown_pred\n",
      "c:\\Users\\darvarir\\Anaconda3\\lib\\site-packages\\keras\\src\\layers\\core\\dense.py:86: UserWarning: Do not pass an `input_shape`/`input_dim` argument to a layer. When using Sequential models, prefer using an `Input(shape)` object as the first layer in the model instead.\n",
      "  super().__init__(activity_regularizer=activity_regularizer, **kwargs)\n"
     ]
    },
    {
     "name": "stdout",
     "output_type": "stream",
     "text": [
      "\u001b[1m4/4\u001b[0m \u001b[32m━━━━━━━━━━━━━━━━━━━━\u001b[0m\u001b[37m\u001b[0m \u001b[1m0s\u001b[0m 8ms/step \n",
      "Basin: Williston - MSE: 295.5150156446365, R2: 0.871787585167744, MAE: 11.746640014723896, RMSE: 17.19055018446578, Explained Variance: 0.874505181722341\n",
      "\u001b[1m299/299\u001b[0m \u001b[32m━━━━━━━━━━━━━━━━━━━━\u001b[0m\u001b[37m\u001b[0m \u001b[1m0s\u001b[0m 605us/step\n",
      "                            MSE        R2        MAE        RMSE  \\\n",
      "Anadarko            1446.677566  0.854680  15.383499   38.035215   \n",
      "Appalachian         1555.751563  0.574190  26.481158   39.443017   \n",
      "Fort Worth           108.493484  0.911473   7.034941   10.416021   \n",
      "Great Plains       40432.283077 -0.083765  57.329601  201.077804   \n",
      "Gulf Coast           942.141497  0.833436  17.088470   30.694324   \n",
      "Illinois              37.915933  0.801695   4.852355    6.157591   \n",
      "Michigan              75.048085  0.812251   6.358527    8.663030   \n",
      "Oklahoma Platform     71.811638  0.771393   6.533542    8.474175   \n",
      "Pacific                0.712175  0.931226   0.584720    0.843904   \n",
      "Permian              689.511726  0.864407   9.405551   26.258555   \n",
      "Rocky Mountain        46.477241  0.783340   3.220268    6.817422   \n",
      "Williston            295.515016  0.871788  11.746640   17.190550   \n",
      "\n",
      "                   Explained Variance  \n",
      "Anadarko                     0.858121  \n",
      "Appalachian                  0.617345  \n",
      "Fort Worth                   0.919348  \n",
      "Great Plains                 0.001300  \n",
      "Gulf Coast                   0.834801  \n",
      "Illinois                     0.832492  \n",
      "Michigan                     0.812690  \n",
      "Oklahoma Platform            0.771907  \n",
      "Pacific                      0.933009  \n",
      "Permian                      0.866219  \n",
      "Rocky Mountain               0.783819  \n",
      "Williston                    0.874505  \n"
     ]
    },
    {
     "name": "stderr",
     "output_type": "stream",
     "text": [
      "C:\\Users\\darvarir\\AppData\\Local\\Temp\\ipykernel_9768\\1758668968.py:66: SettingWithCopyWarning: \n",
      "A value is trying to be set on a copy of a slice from a DataFrame.\n",
      "Try using .loc[row_indexer,col_indexer] = value instead\n",
      "\n",
      "See the caveats in the documentation: https://pandas.pydata.org/pandas-docs/stable/user_guide/indexing.html#returning-a-view-versus-a-copy\n",
      "  unknown_data['Predicted_Li'] = y_unknown_pred\n"
     ]
    }
   ],
   "source": [
    "# Directory where PCA results are saved\n",
    "pca_dir = \"../../data/pca_data\"\n",
    "\n",
    "# Output directories for plots and predictions\n",
    "plot_dir = \"../../images/neural_network_plots\"\n",
    "predicted_data_dir = \"../../data/predicted_data/neural_network_predictions\"\n",
    "os.makedirs(plot_dir, exist_ok=True)\n",
    "os.makedirs(predicted_data_dir, exist_ok=True)\n",
    "\n",
    "# Get a list of all PCA result files\n",
    "pca_files = [f for f in os.listdir(pca_dir) if f.endswith('_pca_with_target.csv')]\n",
    "\n",
    "# Dictionary to store results for each basin\n",
    "results = {}\n",
    "\n",
    "# Process each PCA result file\n",
    "for file in pca_files:\n",
    "    basin_name = file.replace('_pca_with_target.csv', '')  \n",
    "    pca_df = pd.read_csv(f\"{pca_dir}/{file}\")\n",
    "\n",
    "    # Separate data with known and unknown 'Li' values\n",
    "    known_data = pca_df.dropna(subset=['Li'])\n",
    "    unknown_data = pca_df[pca_df['Li'].isnull()]\n",
    "\n",
    "    # Prepare training and testing data from known data\n",
    "    X_known = known_data[['PC1', 'PC2', 'PC3']]\n",
    "    y_known = known_data['Li']\n",
    "    X_train, X_test, y_train, y_test = train_test_split(X_known, y_known, test_size=0.2, random_state=42)\n",
    "\n",
    "    # Initialize and train the neural network\n",
    "    model = Sequential([\n",
    "        Dense(128, activation='relu', input_shape=(X_train.shape[1],)),\n",
    "        Dense(64, activation='relu'),\n",
    "        Dense(1)\n",
    "    ])\n",
    "    model.compile(optimizer=Adam(learning_rate=0.001), loss='mean_squared_error')\n",
    "    model.fit(X_train, y_train, epochs=100, batch_size=32, verbose=0)\n",
    "\n",
    "    # Predict and evaluate on known test data\n",
    "    y_pred = model.predict(X_test).flatten()\n",
    "    mse = mean_squared_error(y_test, y_pred)\n",
    "    r2 = r2_score(y_test, y_pred)\n",
    "    mae = mean_absolute_error(y_test, y_pred)\n",
    "    rmse = mean_squared_error(y_test, y_pred, squared=False)\n",
    "    explained_variance = explained_variance_score(y_test, y_pred)\n",
    "\n",
    "    # Store results for known data evaluation\n",
    "    results[basin_name] = {'MSE': mse, 'R2': r2, 'MAE': mae, 'RMSE': rmse, 'Explained Variance': explained_variance}\n",
    "    print(f\"Basin: {basin_name} - MSE: {mse}, R2: {r2}, MAE: {mae}, RMSE: {rmse}, Explained Variance: {explained_variance}\")\n",
    "\n",
    "    # Plot actual vs predicted and save the plot\n",
    "    plt.figure(figsize=(10, 6))\n",
    "    plt.scatter(y_test, y_pred, alpha=0.5)\n",
    "    plt.plot([y_test.min(), y_test.max()], [y_test.min(), y_test.max()], 'k--', lw=4)\n",
    "    plt.xlabel('Actual Li concentrations')\n",
    "    plt.ylabel('Predicted Li concentrations')\n",
    "    plt.title(f'Actual vs. Predicted for {basin_name}')\n",
    "    plot_path = os.path.join(plot_dir, f\"{basin_name}_actual_vs_predicted.png\")\n",
    "    plt.savefig(plot_path)\n",
    "    plt.close()\n",
    "\n",
    "    # Predict unknown 'Li' values if there are any\n",
    "    if not unknown_data.empty:\n",
    "        X_unknown = unknown_data[['PC1', 'PC2', 'PC3']]\n",
    "        y_unknown_pred = model.predict(X_unknown).flatten()\n",
    "        unknown_data['Predicted_Li'] = y_unknown_pred\n",
    "\n",
    "        # Save predicted data for unknown values\n",
    "        predicted_data_path = os.path.join(predicted_data_dir, f\"{basin_name}_predicted.csv\")\n",
    "        unknown_data.to_csv(predicted_data_path, index=False)\n",
    "\n",
    "        # Plot predictions for unknown data and save the plot\n",
    "        plt.figure(figsize=(10, 6))\n",
    "        plt.hist(y_unknown_pred, bins=30, alpha=0.75)\n",
    "        plt.xlabel('Predicted Lithium Concentration')\n",
    "        plt.ylabel('Frequency')\n",
    "        plt.title(f'Distribution of Predicted Lithium Concentrations for New Samples in {basin_name}')\n",
    "        plot_hist_path = os.path.join(plot_dir, f\"{basin_name}_neural_network_predicted_distribution.png\")\n",
    "        plt.savefig(plot_hist_path)\n",
    "        plt.close()\n",
    "\n",
    "#Convert results to a DataFrame for better visualization or further analysis\n",
    "results_df = pd.DataFrame(results).T\n",
    "print(results_df)"
   ]
  }
 ],
 "metadata": {
  "kernelspec": {
   "display_name": "base",
   "language": "python",
   "name": "python3"
  },
  "language_info": {
   "codemirror_mode": {
    "name": "ipython",
    "version": 3
   },
   "file_extension": ".py",
   "mimetype": "text/x-python",
   "name": "python",
   "nbconvert_exporter": "python",
   "pygments_lexer": "ipython3",
   "version": "3.9.12"
  }
 },
 "nbformat": 4,
 "nbformat_minor": 2
}
