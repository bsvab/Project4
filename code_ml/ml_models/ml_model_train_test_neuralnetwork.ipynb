{
 "cells": [
  {
   "cell_type": "code",
   "execution_count": 4,
   "metadata": {},
   "outputs": [],
   "source": [
    "import os\n",
    "import numpy as np\n",
    "import pandas as pd\n",
    "import matplotlib.pyplot as plt\n",
    "from sklearn.model_selection import train_test_split\n",
    "from sklearn.metrics import mean_squared_error, r2_score, mean_absolute_error, explained_variance_score\n",
    "from tensorflow.keras.models import Sequential\n",
    "from tensorflow.keras.layers import Dense\n",
    "from tensorflow.keras.optimizers import Adam"
   ]
  },
  {
   "cell_type": "code",
   "execution_count": 1,
   "metadata": {},
   "outputs": [
    {
     "name": "stdout",
     "output_type": "stream",
     "text": [
      "Files removed: 169\n"
     ]
    }
   ],
   "source": [
    "! pip cache purge"
   ]
  },
  {
   "cell_type": "markdown",
   "metadata": {},
   "source": [
    "## Neural Network on PCA Results"
   ]
  },
  {
   "cell_type": "code",
   "execution_count": 10,
   "metadata": {},
   "outputs": [
    {
     "name": "stderr",
     "output_type": "stream",
     "text": [
      "c:\\Users\\darvarir\\Anaconda3\\lib\\site-packages\\keras\\src\\layers\\core\\dense.py:86: UserWarning: Do not pass an `input_shape`/`input_dim` argument to a layer. When using Sequential models, prefer using an `Input(shape)` object as the first layer in the model instead.\n",
      "  super().__init__(activity_regularizer=activity_regularizer, **kwargs)\n"
     ]
    },
    {
     "name": "stdout",
     "output_type": "stream",
     "text": [
      "\u001b[1m2/2\u001b[0m \u001b[32m━━━━━━━━━━━━━━━━━━━━\u001b[0m\u001b[37m\u001b[0m \u001b[1m0s\u001b[0m 18ms/step\n",
      "Basin: Anadarko - MSE: 1942.4290894290473, R2: 0.8048807870364809, MAE: 16.538379051168008, RMSE: 44.07299728211195, Explained Variance: 0.8050550627265392\n",
      "\u001b[1m133/133\u001b[0m \u001b[32m━━━━━━━━━━━━━━━━━━━━\u001b[0m\u001b[37m\u001b[0m \u001b[1m0s\u001b[0m 559us/step\n"
     ]
    },
    {
     "name": "stderr",
     "output_type": "stream",
     "text": [
      "C:\\Users\\darvarir\\AppData\\Local\\Temp\\ipykernel_47024\\3342145403.py:78: SettingWithCopyWarning: \n",
      "A value is trying to be set on a copy of a slice from a DataFrame.\n",
      "Try using .loc[row_indexer,col_indexer] = value instead\n",
      "\n",
      "See the caveats in the documentation: https://pandas.pydata.org/pandas-docs/stable/user_guide/indexing.html#returning-a-view-versus-a-copy\n",
      "  unknown_data['Predicted_Li'] = y_unknown_pred\n",
      "c:\\Users\\darvarir\\Anaconda3\\lib\\site-packages\\keras\\src\\layers\\core\\dense.py:86: UserWarning: Do not pass an `input_shape`/`input_dim` argument to a layer. When using Sequential models, prefer using an `Input(shape)` object as the first layer in the model instead.\n",
      "  super().__init__(activity_regularizer=activity_regularizer, **kwargs)\n"
     ]
    },
    {
     "name": "stdout",
     "output_type": "stream",
     "text": [
      "\u001b[1m5/5\u001b[0m \u001b[32m━━━━━━━━━━━━━━━━━━━━\u001b[0m\u001b[37m\u001b[0m \u001b[1m0s\u001b[0m 6ms/step \n",
      "Basin: Appalachian - MSE: 1453.9788166749884, R2: 0.6020451022536689, MAE: 26.660209786655336, RMSE: 38.13107416104336, Explained Variance: 0.6257174546460079\n",
      "\u001b[1m32/32\u001b[0m \u001b[32m━━━━━━━━━━━━━━━━━━━━\u001b[0m\u001b[37m\u001b[0m \u001b[1m0s\u001b[0m 482us/step\n"
     ]
    },
    {
     "name": "stderr",
     "output_type": "stream",
     "text": [
      "C:\\Users\\darvarir\\AppData\\Local\\Temp\\ipykernel_47024\\3342145403.py:78: SettingWithCopyWarning: \n",
      "A value is trying to be set on a copy of a slice from a DataFrame.\n",
      "Try using .loc[row_indexer,col_indexer] = value instead\n",
      "\n",
      "See the caveats in the documentation: https://pandas.pydata.org/pandas-docs/stable/user_guide/indexing.html#returning-a-view-versus-a-copy\n",
      "  unknown_data['Predicted_Li'] = y_unknown_pred\n",
      "c:\\Users\\darvarir\\Anaconda3\\lib\\site-packages\\keras\\src\\layers\\core\\dense.py:86: UserWarning: Do not pass an `input_shape`/`input_dim` argument to a layer. When using Sequential models, prefer using an `Input(shape)` object as the first layer in the model instead.\n",
      "  super().__init__(activity_regularizer=activity_regularizer, **kwargs)\n"
     ]
    },
    {
     "name": "stdout",
     "output_type": "stream",
     "text": [
      "\u001b[1m1/1\u001b[0m \u001b[32m━━━━━━━━━━━━━━━━━━━━\u001b[0m\u001b[37m\u001b[0m \u001b[1m0s\u001b[0m 40ms/step\n",
      "Basin: Fort_Worth - MSE: 81.40698549092339, R2: 0.9335743297169957, MAE: 5.523589144945145, RMSE: 9.02258197474112, Explained Variance: 0.9460742989213968\n",
      "\u001b[1m10/10\u001b[0m \u001b[32m━━━━━━━━━━━━━━━━━━━━\u001b[0m\u001b[37m\u001b[0m \u001b[1m0s\u001b[0m 1ms/step \n"
     ]
    },
    {
     "name": "stderr",
     "output_type": "stream",
     "text": [
      "C:\\Users\\darvarir\\AppData\\Local\\Temp\\ipykernel_47024\\3342145403.py:78: SettingWithCopyWarning: \n",
      "A value is trying to be set on a copy of a slice from a DataFrame.\n",
      "Try using .loc[row_indexer,col_indexer] = value instead\n",
      "\n",
      "See the caveats in the documentation: https://pandas.pydata.org/pandas-docs/stable/user_guide/indexing.html#returning-a-view-versus-a-copy\n",
      "  unknown_data['Predicted_Li'] = y_unknown_pred\n",
      "c:\\Users\\darvarir\\Anaconda3\\lib\\site-packages\\keras\\src\\layers\\core\\dense.py:86: UserWarning: Do not pass an `input_shape`/`input_dim` argument to a layer. When using Sequential models, prefer using an `Input(shape)` object as the first layer in the model instead.\n",
      "  super().__init__(activity_regularizer=activity_regularizer, **kwargs)\n"
     ]
    },
    {
     "name": "stdout",
     "output_type": "stream",
     "text": [
      "\u001b[1m1/1\u001b[0m \u001b[32m━━━━━━━━━━━━━━━━━━━━\u001b[0m\u001b[37m\u001b[0m \u001b[1m0s\u001b[0m 31ms/step\n",
      "Basin: Great_Plains - MSE: 39053.681124857976, R2: -0.04681281664418724, MAE: 56.55684562059549, RMSE: 197.62004231569725, Explained Variance: 0.03465177060992153\n",
      "\u001b[1m16/16\u001b[0m \u001b[32m━━━━━━━━━━━━━━━━━━━━\u001b[0m\u001b[37m\u001b[0m \u001b[1m0s\u001b[0m 598us/step\n"
     ]
    },
    {
     "name": "stderr",
     "output_type": "stream",
     "text": [
      "C:\\Users\\darvarir\\AppData\\Local\\Temp\\ipykernel_47024\\3342145403.py:78: SettingWithCopyWarning: \n",
      "A value is trying to be set on a copy of a slice from a DataFrame.\n",
      "Try using .loc[row_indexer,col_indexer] = value instead\n",
      "\n",
      "See the caveats in the documentation: https://pandas.pydata.org/pandas-docs/stable/user_guide/indexing.html#returning-a-view-versus-a-copy\n",
      "  unknown_data['Predicted_Li'] = y_unknown_pred\n",
      "c:\\Users\\darvarir\\Anaconda3\\lib\\site-packages\\keras\\src\\layers\\core\\dense.py:86: UserWarning: Do not pass an `input_shape`/`input_dim` argument to a layer. When using Sequential models, prefer using an `Input(shape)` object as the first layer in the model instead.\n",
      "  super().__init__(activity_regularizer=activity_regularizer, **kwargs)\n"
     ]
    },
    {
     "name": "stdout",
     "output_type": "stream",
     "text": [
      "\u001b[1m6/6\u001b[0m \u001b[32m━━━━━━━━━━━━━━━━━━━━\u001b[0m\u001b[37m\u001b[0m \u001b[1m0s\u001b[0m 5ms/step \n",
      "Basin: Gulf_Coast - MSE: 995.1542781917831, R2: 0.8240635349737486, MAE: 16.93539257562318, RMSE: 31.546065970129828, Explained Variance: 0.8307273730918241\n",
      "\u001b[1m427/427\u001b[0m \u001b[32m━━━━━━━━━━━━━━━━━━━━\u001b[0m\u001b[37m\u001b[0m \u001b[1m0s\u001b[0m 456us/step\n"
     ]
    },
    {
     "name": "stderr",
     "output_type": "stream",
     "text": [
      "C:\\Users\\darvarir\\AppData\\Local\\Temp\\ipykernel_47024\\3342145403.py:78: SettingWithCopyWarning: \n",
      "A value is trying to be set on a copy of a slice from a DataFrame.\n",
      "Try using .loc[row_indexer,col_indexer] = value instead\n",
      "\n",
      "See the caveats in the documentation: https://pandas.pydata.org/pandas-docs/stable/user_guide/indexing.html#returning-a-view-versus-a-copy\n",
      "  unknown_data['Predicted_Li'] = y_unknown_pred\n",
      "c:\\Users\\darvarir\\Anaconda3\\lib\\site-packages\\keras\\src\\layers\\core\\dense.py:86: UserWarning: Do not pass an `input_shape`/`input_dim` argument to a layer. When using Sequential models, prefer using an `Input(shape)` object as the first layer in the model instead.\n",
      "  super().__init__(activity_regularizer=activity_regularizer, **kwargs)\n"
     ]
    },
    {
     "name": "stdout",
     "output_type": "stream",
     "text": [
      "\u001b[1m1/1\u001b[0m \u001b[32m━━━━━━━━━━━━━━━━━━━━\u001b[0m\u001b[37m\u001b[0m \u001b[1m0s\u001b[0m 29ms/step\n",
      "Basin: Illinois - MSE: 98.62325699541944, R2: 0.48418794326144177, MAE: 6.643111930847168, RMSE: 9.930924276995542, Explained Variance: 0.49947404941035456\n",
      "\u001b[1m66/66\u001b[0m \u001b[32m━━━━━━━━━━━━━━━━━━━━\u001b[0m\u001b[37m\u001b[0m \u001b[1m0s\u001b[0m 491us/step\n"
     ]
    },
    {
     "name": "stderr",
     "output_type": "stream",
     "text": [
      "C:\\Users\\darvarir\\AppData\\Local\\Temp\\ipykernel_47024\\3342145403.py:78: SettingWithCopyWarning: \n",
      "A value is trying to be set on a copy of a slice from a DataFrame.\n",
      "Try using .loc[row_indexer,col_indexer] = value instead\n",
      "\n",
      "See the caveats in the documentation: https://pandas.pydata.org/pandas-docs/stable/user_guide/indexing.html#returning-a-view-versus-a-copy\n",
      "  unknown_data['Predicted_Li'] = y_unknown_pred\n",
      "c:\\Users\\darvarir\\Anaconda3\\lib\\site-packages\\keras\\src\\layers\\core\\dense.py:86: UserWarning: Do not pass an `input_shape`/`input_dim` argument to a layer. When using Sequential models, prefer using an `Input(shape)` object as the first layer in the model instead.\n",
      "  super().__init__(activity_regularizer=activity_regularizer, **kwargs)\n"
     ]
    },
    {
     "name": "stdout",
     "output_type": "stream",
     "text": [
      "\u001b[1m1/1\u001b[0m \u001b[32m━━━━━━━━━━━━━━━━━━━━\u001b[0m\u001b[37m\u001b[0m \u001b[1m0s\u001b[0m 32ms/step\n",
      "Basin: Michigan - MSE: 149.38479226523685, R2: 0.6262814845181941, MAE: 8.23496678940455, RMSE: 12.222307158030224, Explained Variance: 0.6263494862169368\n",
      "\u001b[1m21/21\u001b[0m \u001b[32m━━━━━━━━━━━━━━━━━━━━\u001b[0m\u001b[37m\u001b[0m \u001b[1m0s\u001b[0m 548us/step\n"
     ]
    },
    {
     "name": "stderr",
     "output_type": "stream",
     "text": [
      "C:\\Users\\darvarir\\AppData\\Local\\Temp\\ipykernel_47024\\3342145403.py:78: SettingWithCopyWarning: \n",
      "A value is trying to be set on a copy of a slice from a DataFrame.\n",
      "Try using .loc[row_indexer,col_indexer] = value instead\n",
      "\n",
      "See the caveats in the documentation: https://pandas.pydata.org/pandas-docs/stable/user_guide/indexing.html#returning-a-view-versus-a-copy\n",
      "  unknown_data['Predicted_Li'] = y_unknown_pred\n",
      "c:\\Users\\darvarir\\Anaconda3\\lib\\site-packages\\keras\\src\\layers\\core\\dense.py:86: UserWarning: Do not pass an `input_shape`/`input_dim` argument to a layer. When using Sequential models, prefer using an `Input(shape)` object as the first layer in the model instead.\n",
      "  super().__init__(activity_regularizer=activity_regularizer, **kwargs)\n"
     ]
    },
    {
     "name": "stdout",
     "output_type": "stream",
     "text": [
      "\u001b[1m2/2\u001b[0m \u001b[32m━━━━━━━━━━━━━━━━━━━━\u001b[0m\u001b[37m\u001b[0m \u001b[1m0s\u001b[0m 19ms/step\n",
      "Basin: Oklahoma_Platform - MSE: 173.17437698556844, R2: 0.4487130156173734, MAE: 8.84478149839476, RMSE: 13.159573586768245, Explained Variance: 0.45844298054843946\n",
      "\u001b[1m324/324\u001b[0m \u001b[32m━━━━━━━━━━━━━━━━━━━━\u001b[0m\u001b[37m\u001b[0m \u001b[1m0s\u001b[0m 469us/step\n"
     ]
    },
    {
     "name": "stderr",
     "output_type": "stream",
     "text": [
      "C:\\Users\\darvarir\\AppData\\Local\\Temp\\ipykernel_47024\\3342145403.py:78: SettingWithCopyWarning: \n",
      "A value is trying to be set on a copy of a slice from a DataFrame.\n",
      "Try using .loc[row_indexer,col_indexer] = value instead\n",
      "\n",
      "See the caveats in the documentation: https://pandas.pydata.org/pandas-docs/stable/user_guide/indexing.html#returning-a-view-versus-a-copy\n",
      "  unknown_data['Predicted_Li'] = y_unknown_pred\n",
      "c:\\Users\\darvarir\\Anaconda3\\lib\\site-packages\\keras\\src\\layers\\core\\dense.py:86: UserWarning: Do not pass an `input_shape`/`input_dim` argument to a layer. When using Sequential models, prefer using an `Input(shape)` object as the first layer in the model instead.\n",
      "  super().__init__(activity_regularizer=activity_regularizer, **kwargs)\n"
     ]
    },
    {
     "name": "stdout",
     "output_type": "stream",
     "text": [
      "\u001b[1m1/1\u001b[0m \u001b[32m━━━━━━━━━━━━━━━━━━━━\u001b[0m\u001b[37m\u001b[0m \u001b[1m0s\u001b[0m 34ms/step\n",
      "Basin: Pacific - MSE: 4.2657561151045735, R2: 0.588059242703808, MAE: 1.1871317040098128, RMSE: 2.06537069677687, Explained Variance: 0.6148504456105417\n",
      "\u001b[1m17/17\u001b[0m \u001b[32m━━━━━━━━━━━━━━━━━━━━\u001b[0m\u001b[37m\u001b[0m \u001b[1m0s\u001b[0m 685us/step\n"
     ]
    },
    {
     "name": "stderr",
     "output_type": "stream",
     "text": [
      "C:\\Users\\darvarir\\AppData\\Local\\Temp\\ipykernel_47024\\3342145403.py:78: SettingWithCopyWarning: \n",
      "A value is trying to be set on a copy of a slice from a DataFrame.\n",
      "Try using .loc[row_indexer,col_indexer] = value instead\n",
      "\n",
      "See the caveats in the documentation: https://pandas.pydata.org/pandas-docs/stable/user_guide/indexing.html#returning-a-view-versus-a-copy\n",
      "  unknown_data['Predicted_Li'] = y_unknown_pred\n",
      "c:\\Users\\darvarir\\Anaconda3\\lib\\site-packages\\keras\\src\\layers\\core\\dense.py:86: UserWarning: Do not pass an `input_shape`/`input_dim` argument to a layer. When using Sequential models, prefer using an `Input(shape)` object as the first layer in the model instead.\n",
      "  super().__init__(activity_regularizer=activity_regularizer, **kwargs)\n"
     ]
    },
    {
     "name": "stdout",
     "output_type": "stream",
     "text": [
      "\u001b[1m4/4\u001b[0m \u001b[32m━━━━━━━━━━━━━━━━━━━━\u001b[0m\u001b[37m\u001b[0m \u001b[1m0s\u001b[0m 8ms/step \n",
      "Basin: Permian - MSE: 4574.530932747289, R2: 0.10041768309085308, MAE: 15.185798825732212, RMSE: 67.63527875855387, Explained Variance: 0.11216172146185055\n",
      "\u001b[1m245/245\u001b[0m \u001b[32m━━━━━━━━━━━━━━━━━━━━\u001b[0m\u001b[37m\u001b[0m \u001b[1m0s\u001b[0m 478us/step\n"
     ]
    },
    {
     "name": "stderr",
     "output_type": "stream",
     "text": [
      "C:\\Users\\darvarir\\AppData\\Local\\Temp\\ipykernel_47024\\3342145403.py:78: SettingWithCopyWarning: \n",
      "A value is trying to be set on a copy of a slice from a DataFrame.\n",
      "Try using .loc[row_indexer,col_indexer] = value instead\n",
      "\n",
      "See the caveats in the documentation: https://pandas.pydata.org/pandas-docs/stable/user_guide/indexing.html#returning-a-view-versus-a-copy\n",
      "  unknown_data['Predicted_Li'] = y_unknown_pred\n",
      "c:\\Users\\darvarir\\Anaconda3\\lib\\site-packages\\keras\\src\\layers\\core\\dense.py:86: UserWarning: Do not pass an `input_shape`/`input_dim` argument to a layer. When using Sequential models, prefer using an `Input(shape)` object as the first layer in the model instead.\n",
      "  super().__init__(activity_regularizer=activity_regularizer, **kwargs)\n"
     ]
    },
    {
     "name": "stdout",
     "output_type": "stream",
     "text": [
      "\u001b[1m5/5\u001b[0m \u001b[32m━━━━━━━━━━━━━━━━━━━━\u001b[0m\u001b[37m\u001b[0m \u001b[1m0s\u001b[0m 6ms/step \n",
      "Basin: Rocky_Mountain - MSE: 36.55358302804796, R2: 0.8296002451552306, MAE: 3.2525747632980346, RMSE: 6.045955923429145, Explained Variance: 0.8299807624176799\n",
      "\u001b[1m183/183\u001b[0m \u001b[32m━━━━━━━━━━━━━━━━━━━━\u001b[0m\u001b[37m\u001b[0m \u001b[1m0s\u001b[0m 509us/step\n"
     ]
    },
    {
     "name": "stderr",
     "output_type": "stream",
     "text": [
      "C:\\Users\\darvarir\\AppData\\Local\\Temp\\ipykernel_47024\\3342145403.py:78: SettingWithCopyWarning: \n",
      "A value is trying to be set on a copy of a slice from a DataFrame.\n",
      "Try using .loc[row_indexer,col_indexer] = value instead\n",
      "\n",
      "See the caveats in the documentation: https://pandas.pydata.org/pandas-docs/stable/user_guide/indexing.html#returning-a-view-versus-a-copy\n",
      "  unknown_data['Predicted_Li'] = y_unknown_pred\n",
      "c:\\Users\\darvarir\\Anaconda3\\lib\\site-packages\\keras\\src\\layers\\core\\dense.py:86: UserWarning: Do not pass an `input_shape`/`input_dim` argument to a layer. When using Sequential models, prefer using an `Input(shape)` object as the first layer in the model instead.\n",
      "  super().__init__(activity_regularizer=activity_regularizer, **kwargs)\n"
     ]
    },
    {
     "name": "stdout",
     "output_type": "stream",
     "text": [
      "\u001b[1m4/4\u001b[0m \u001b[32m━━━━━━━━━━━━━━━━━━━━\u001b[0m\u001b[37m\u001b[0m \u001b[1m0s\u001b[0m 8ms/step \n",
      "Basin: Williston - MSE: 370.545219081834, R2: 0.8392349125157169, MAE: 12.604015512198425, RMSE: 19.24955113974957, Explained Variance: 0.8393153489583489\n",
      "\u001b[1m299/299\u001b[0m \u001b[32m━━━━━━━━━━━━━━━━━━━━\u001b[0m\u001b[37m\u001b[0m \u001b[1m0s\u001b[0m 519us/step\n"
     ]
    },
    {
     "name": "stderr",
     "output_type": "stream",
     "text": [
      "C:\\Users\\darvarir\\AppData\\Local\\Temp\\ipykernel_47024\\3342145403.py:78: SettingWithCopyWarning: \n",
      "A value is trying to be set on a copy of a slice from a DataFrame.\n",
      "Try using .loc[row_indexer,col_indexer] = value instead\n",
      "\n",
      "See the caveats in the documentation: https://pandas.pydata.org/pandas-docs/stable/user_guide/indexing.html#returning-a-view-versus-a-copy\n",
      "  unknown_data['Predicted_Li'] = y_unknown_pred\n"
     ]
    },
    {
     "name": "stdout",
     "output_type": "stream",
     "text": [
      "Saved performance metrics with PCA to CSV.\n"
     ]
    }
   ],
   "source": [
    "# Directory where PCA results are saved\n",
    "pca_dir = \"../../data/pca_data/byBasin_pca\"\n",
    "result_dir = \"../../data/performance_comparison\"\n",
    "\n",
    "# Output directories for plots and predictions\n",
    "plot_dir = \"../../images/neural_network_plots/neural_network_withPCA\"\n",
    "predicted_data_dir = \"../../data/predicted_data/neural_network_withPCA\"\n",
    "os.makedirs(plot_dir, exist_ok=True)\n",
    "os.makedirs(predicted_data_dir, exist_ok=True)\n",
    "\n",
    "# Get a list of all PCA result files\n",
    "pca_files = [f for f in os.listdir(pca_dir) if f.endswith('_pca_with_target.csv')]\n",
    "\n",
    "# Dictionary to store results for each basin\n",
    "results = {}\n",
    "\n",
    "# Process each PCA result file\n",
    "for file in pca_files:\n",
    "    basin_name = file.replace('_pca_with_target.csv', '').replace(' ', '_')  # Replace spaces with underscores\n",
    "    sanitized_basin_name = basin_name.replace(' ', '_')  # Sanitize basin name for file paths\n",
    "    pca_df = pd.read_csv(f\"{pca_dir}/{file}\")\n",
    "\n",
    "    # Separate data with known and unknown 'Li' values\n",
    "    known_data = pca_df.dropna(subset=['Li'])\n",
    "    unknown_data = pca_df[pca_df['Li'].isnull()]\n",
    "\n",
    "    # Prepare training and testing data from known data\n",
    "    principal_components = [f'PC{i+1}' for i in range(10)]  # Use the first 10 principal components\n",
    "    X_known = known_data[principal_components]\n",
    "    y_known = known_data['Li']\n",
    "    X_train, X_test, y_train, y_test = train_test_split(X_known, y_known, test_size=0.2, random_state=42)\n",
    "\n",
    "    # Initialize and train the neural network\n",
    "    model = Sequential([\n",
    "        Dense(128, activation='relu', input_shape=(X_train.shape[1],)),\n",
    "        Dense(64, activation='relu'),\n",
    "        Dense(1)\n",
    "    ])\n",
    "    model.compile(optimizer=Adam(learning_rate=0.001), loss='mean_squared_error')\n",
    "    model.fit(X_train, y_train, epochs=100, batch_size=32, verbose=0)\n",
    "\n",
    "    # Predict and evaluate on known test data\n",
    "    y_pred = model.predict(X_test).flatten()\n",
    "    mse = mean_squared_error(y_test, y_pred)\n",
    "    r2 = r2_score(y_test, y_pred)\n",
    "    mae = mean_absolute_error(y_test, y_pred)\n",
    "    rmse = mean_squared_error(y_test, y_pred, squared=False)\n",
    "    explained_variance = explained_variance_score(y_test, y_pred)\n",
    "\n",
    "    # Store results for known data evaluation\n",
    "    results[basin_name] = {'MSE': mse, 'R2': r2, 'MAE': mae, 'RMSE': rmse, 'Explained Variance': explained_variance}\n",
    "    print(f\"Basin: {sanitized_basin_name} - MSE: {mse}, R2: {r2}, MAE: {mae}, RMSE: {rmse}, Explained Variance: {explained_variance}\")\n",
    "\n",
    "    # Plot actual vs predicted and save the plot\n",
    "    plt.figure(figsize=(6, 6))\n",
    "    plt.scatter(y_test, y_pred, alpha=0.5)\n",
    "    plt.plot([y_test.min(), y_test.max()], [y_test.min(), y_test.max()], 'k--', lw=4)  # Line for perfect prediction\n",
    "    percentage_ranges = [5, 15, 25, 50]\n",
    "    colors = ['lightblue', 'lightgreen', 'palegoldenrod', 'lightsalmon']\n",
    "    for i, percentage in enumerate(percentage_ranges):\n",
    "        threshold = (percentage / 100) * np.mean(y_test)\n",
    "        plt.plot([y_test.min(), y_test.max()], [y_test.min() + threshold, y_test.max() + threshold],\n",
    "                 linestyle='--', color=colors[i], label=f'Within {percentage}%')\n",
    "        plt.plot([y_test.min(), y_test.max()], [y_test.min() - threshold, y_test.max() - threshold],\n",
    "                 linestyle='--', color=colors[i])\n",
    "    plt.ylim(bottom=0)\n",
    "    plt.xlim(left=0)\n",
    "    plt.xlabel('Actual Li Concentrations')\n",
    "    plt.ylabel('Predicted Li Concentrations')\n",
    "    plt.title(f'Actual vs. Predicted for {sanitized_basin_name}')\n",
    "    plt.legend()\n",
    "    plot_path = os.path.join(plot_dir, f\"{sanitized_basin_name}_actual_predicted_neural_network_pca.png\")\n",
    "    plt.savefig(plot_path)\n",
    "    plt.close()\n",
    "\n",
    "    # Predict unknown 'Li' values if there are any\n",
    "    if not unknown_data.empty:\n",
    "        X_unknown = unknown_data[principal_components]\n",
    "        y_unknown_pred = model.predict(X_unknown).flatten()\n",
    "        unknown_data['Predicted_Li'] = y_unknown_pred\n",
    "\n",
    "        pca_df.loc[unknown_data.index, 'Predicted_Li'] = y_unknown_pred\n",
    "\n",
    "        # Save predicted data for unknown values\n",
    "        predicted_data_path = os.path.join(predicted_data_dir, f\"{sanitized_basin_name}_predicted_Li_neural_network_pca.csv\")\n",
    "        pca_df.to_csv(predicted_data_path, index=False)\n",
    "\n",
    "        # Plot predictions for unknown data and save the plot\n",
    "        plt.figure(figsize=(6, 6))\n",
    "        plt.hist(y_unknown_pred, bins=30, alpha=0.75)\n",
    "        plt.xlabel('Predicted Lithium Concentration')\n",
    "        plt.ylabel('Frequency')\n",
    "        plt.title(f'Distribution of Predicted Lithium Concentrations for New Samples in {sanitized_basin_name}')\n",
    "        plot_hist_path = os.path.join(plot_dir, f\"{sanitized_basin_name}_neural_network_predicted_distribution.png\")\n",
    "        plt.savefig(plot_hist_path)\n",
    "        plt.close()\n",
    "\n",
    "# Convert results to a DataFrame for better visualization or further analysis\n",
    "nn_results_df_with_pca = pd.DataFrame(results).T\n",
    "nn_results_df_with_pca.to_csv(os.path.join(result_dir, \"neural_network_performance_PCA.csv\"), index_label='Basin')\n",
    "\n",
    "print(\"Saved performance metrics with PCA to CSV.\")"
   ]
  },
  {
   "cell_type": "markdown",
   "metadata": {},
   "source": [
    "### Neural Network on Imputed Data without PCA"
   ]
  },
  {
   "cell_type": "code",
   "execution_count": 7,
   "metadata": {},
   "outputs": [
    {
     "name": "stdout",
     "output_type": "stream",
     "text": [
      "Processing Gradient Boosting for Appalachian\n"
     ]
    },
    {
     "name": "stderr",
     "output_type": "stream",
     "text": [
      "c:\\Users\\darvarir\\Anaconda3\\lib\\site-packages\\keras\\src\\layers\\core\\dense.py:86: UserWarning: Do not pass an `input_shape`/`input_dim` argument to a layer. When using Sequential models, prefer using an `Input(shape)` object as the first layer in the model instead.\n",
      "  super().__init__(activity_regularizer=activity_regularizer, **kwargs)\n"
     ]
    },
    {
     "name": "stdout",
     "output_type": "stream",
     "text": [
      "\u001b[1m5/5\u001b[0m \u001b[32m━━━━━━━━━━━━━━━━━━━━\u001b[0m\u001b[37m\u001b[0m \u001b[1m0s\u001b[0m 6ms/step \n",
      "Basin: Appalachian - MSE: 16734.965643410484, R2: -3.580370405011517, MAE: 65.82904724994688, RMSE: 129.36369522942084, Explained Variance: -3.4285643588260433\n",
      "\u001b[1m32/32\u001b[0m \u001b[32m━━━━━━━━━━━━━━━━━━━━\u001b[0m\u001b[37m\u001b[0m \u001b[1m0s\u001b[0m 547us/step\n",
      "Processing Gradient Boosting for Permian\n"
     ]
    },
    {
     "name": "stderr",
     "output_type": "stream",
     "text": [
      "C:\\Users\\darvarir\\AppData\\Local\\Temp\\ipykernel_47024\\2610839538.py:85: SettingWithCopyWarning: \n",
      "A value is trying to be set on a copy of a slice from a DataFrame.\n",
      "Try using .loc[row_indexer,col_indexer] = value instead\n",
      "\n",
      "See the caveats in the documentation: https://pandas.pydata.org/pandas-docs/stable/user_guide/indexing.html#returning-a-view-versus-a-copy\n",
      "  unknown_data['Predicted_Li'] = y_unknown_pred\n",
      "C:\\Users\\darvarir\\AppData\\Local\\Temp\\ipykernel_47024\\2610839538.py:88: SettingWithCopyWarning: \n",
      "A value is trying to be set on a copy of a slice from a DataFrame.\n",
      "Try using .loc[row_indexer,col_indexer] = value instead\n",
      "\n",
      "See the caveats in the documentation: https://pandas.pydata.org/pandas-docs/stable/user_guide/indexing.html#returning-a-view-versus-a-copy\n",
      "  df_basin.loc[unknown_data.index, 'Predicted_Li'] = y_unknown_pred\n",
      "c:\\Users\\darvarir\\Anaconda3\\lib\\site-packages\\keras\\src\\layers\\core\\dense.py:86: UserWarning: Do not pass an `input_shape`/`input_dim` argument to a layer. When using Sequential models, prefer using an `Input(shape)` object as the first layer in the model instead.\n",
      "  super().__init__(activity_regularizer=activity_regularizer, **kwargs)\n"
     ]
    },
    {
     "name": "stdout",
     "output_type": "stream",
     "text": [
      "\u001b[1m4/4\u001b[0m \u001b[32m━━━━━━━━━━━━━━━━━━━━\u001b[0m\u001b[37m\u001b[0m \u001b[1m0s\u001b[0m 7ms/step \n",
      "Basin: Permian - MSE: 8977.402642623892, R2: -0.7654078172836429, MAE: 42.65308503367084, RMSE: 94.74915642170062, Explained Variance: -0.7638843839828855\n",
      "\u001b[1m245/245\u001b[0m \u001b[32m━━━━━━━━━━━━━━━━━━━━\u001b[0m\u001b[37m\u001b[0m \u001b[1m0s\u001b[0m 421us/step\n"
     ]
    },
    {
     "name": "stderr",
     "output_type": "stream",
     "text": [
      "C:\\Users\\darvarir\\AppData\\Local\\Temp\\ipykernel_47024\\2610839538.py:85: SettingWithCopyWarning: \n",
      "A value is trying to be set on a copy of a slice from a DataFrame.\n",
      "Try using .loc[row_indexer,col_indexer] = value instead\n",
      "\n",
      "See the caveats in the documentation: https://pandas.pydata.org/pandas-docs/stable/user_guide/indexing.html#returning-a-view-versus-a-copy\n",
      "  unknown_data['Predicted_Li'] = y_unknown_pred\n",
      "C:\\Users\\darvarir\\AppData\\Local\\Temp\\ipykernel_47024\\2610839538.py:88: SettingWithCopyWarning: \n",
      "A value is trying to be set on a copy of a slice from a DataFrame.\n",
      "Try using .loc[row_indexer,col_indexer] = value instead\n",
      "\n",
      "See the caveats in the documentation: https://pandas.pydata.org/pandas-docs/stable/user_guide/indexing.html#returning-a-view-versus-a-copy\n",
      "  df_basin.loc[unknown_data.index, 'Predicted_Li'] = y_unknown_pred\n"
     ]
    },
    {
     "name": "stdout",
     "output_type": "stream",
     "text": [
      "Processing Gradient Boosting for Oklahoma Platform\n"
     ]
    },
    {
     "name": "stderr",
     "output_type": "stream",
     "text": [
      "c:\\Users\\darvarir\\Anaconda3\\lib\\site-packages\\keras\\src\\layers\\core\\dense.py:86: UserWarning: Do not pass an `input_shape`/`input_dim` argument to a layer. When using Sequential models, prefer using an `Input(shape)` object as the first layer in the model instead.\n",
      "  super().__init__(activity_regularizer=activity_regularizer, **kwargs)\n"
     ]
    },
    {
     "name": "stdout",
     "output_type": "stream",
     "text": [
      "\u001b[1m2/2\u001b[0m \u001b[32m━━━━━━━━━━━━━━━━━━━━\u001b[0m\u001b[37m\u001b[0m \u001b[1m0s\u001b[0m 20ms/step\n",
      "Basin: Oklahoma Platform - MSE: 17486.286257261192, R2: -54.66621452098678, MAE: 63.31300393988105, RMSE: 132.23572231912672, Explained Variance: -54.36978452235416\n",
      "\u001b[1m324/324\u001b[0m \u001b[32m━━━━━━━━━━━━━━━━━━━━\u001b[0m\u001b[37m\u001b[0m \u001b[1m0s\u001b[0m 439us/step\n"
     ]
    },
    {
     "name": "stderr",
     "output_type": "stream",
     "text": [
      "C:\\Users\\darvarir\\AppData\\Local\\Temp\\ipykernel_47024\\2610839538.py:85: SettingWithCopyWarning: \n",
      "A value is trying to be set on a copy of a slice from a DataFrame.\n",
      "Try using .loc[row_indexer,col_indexer] = value instead\n",
      "\n",
      "See the caveats in the documentation: https://pandas.pydata.org/pandas-docs/stable/user_guide/indexing.html#returning-a-view-versus-a-copy\n",
      "  unknown_data['Predicted_Li'] = y_unknown_pred\n",
      "C:\\Users\\darvarir\\AppData\\Local\\Temp\\ipykernel_47024\\2610839538.py:88: SettingWithCopyWarning: \n",
      "A value is trying to be set on a copy of a slice from a DataFrame.\n",
      "Try using .loc[row_indexer,col_indexer] = value instead\n",
      "\n",
      "See the caveats in the documentation: https://pandas.pydata.org/pandas-docs/stable/user_guide/indexing.html#returning-a-view-versus-a-copy\n",
      "  df_basin.loc[unknown_data.index, 'Predicted_Li'] = y_unknown_pred\n"
     ]
    },
    {
     "name": "stdout",
     "output_type": "stream",
     "text": [
      "Processing Gradient Boosting for Gulf Coast\n"
     ]
    },
    {
     "name": "stderr",
     "output_type": "stream",
     "text": [
      "c:\\Users\\darvarir\\Anaconda3\\lib\\site-packages\\keras\\src\\layers\\core\\dense.py:86: UserWarning: Do not pass an `input_shape`/`input_dim` argument to a layer. When using Sequential models, prefer using an `Input(shape)` object as the first layer in the model instead.\n",
      "  super().__init__(activity_regularizer=activity_regularizer, **kwargs)\n"
     ]
    },
    {
     "name": "stdout",
     "output_type": "stream",
     "text": [
      "\u001b[1m6/6\u001b[0m \u001b[32m━━━━━━━━━━━━━━━━━━━━\u001b[0m\u001b[37m\u001b[0m \u001b[1m0s\u001b[0m 4ms/step \n",
      "Basin: Gulf Coast - MSE: 12279.343059004803, R2: -1.1709038065649535, MAE: 82.90736059029695, RMSE: 110.81219724833906, Explained Variance: -0.015732269359868045\n",
      "\u001b[1m427/427\u001b[0m \u001b[32m━━━━━━━━━━━━━━━━━━━━\u001b[0m\u001b[37m\u001b[0m \u001b[1m0s\u001b[0m 435us/step\n"
     ]
    },
    {
     "name": "stderr",
     "output_type": "stream",
     "text": [
      "C:\\Users\\darvarir\\AppData\\Local\\Temp\\ipykernel_47024\\2610839538.py:85: SettingWithCopyWarning: \n",
      "A value is trying to be set on a copy of a slice from a DataFrame.\n",
      "Try using .loc[row_indexer,col_indexer] = value instead\n",
      "\n",
      "See the caveats in the documentation: https://pandas.pydata.org/pandas-docs/stable/user_guide/indexing.html#returning-a-view-versus-a-copy\n",
      "  unknown_data['Predicted_Li'] = y_unknown_pred\n",
      "C:\\Users\\darvarir\\AppData\\Local\\Temp\\ipykernel_47024\\2610839538.py:88: SettingWithCopyWarning: \n",
      "A value is trying to be set on a copy of a slice from a DataFrame.\n",
      "Try using .loc[row_indexer,col_indexer] = value instead\n",
      "\n",
      "See the caveats in the documentation: https://pandas.pydata.org/pandas-docs/stable/user_guide/indexing.html#returning-a-view-versus-a-copy\n",
      "  df_basin.loc[unknown_data.index, 'Predicted_Li'] = y_unknown_pred\n"
     ]
    },
    {
     "name": "stdout",
     "output_type": "stream",
     "text": [
      "Processing Gradient Boosting for Williston\n"
     ]
    },
    {
     "name": "stderr",
     "output_type": "stream",
     "text": [
      "c:\\Users\\darvarir\\Anaconda3\\lib\\site-packages\\keras\\src\\layers\\core\\dense.py:86: UserWarning: Do not pass an `input_shape`/`input_dim` argument to a layer. When using Sequential models, prefer using an `Input(shape)` object as the first layer in the model instead.\n",
      "  super().__init__(activity_regularizer=activity_regularizer, **kwargs)\n"
     ]
    },
    {
     "name": "stdout",
     "output_type": "stream",
     "text": [
      "\u001b[1m4/4\u001b[0m \u001b[32m━━━━━━━━━━━━━━━━━━━━\u001b[0m\u001b[37m\u001b[0m \u001b[1m0s\u001b[0m 7ms/step \n",
      "Basin: Williston - MSE: 14103.035684817667, R2: -5.118755954487045, MAE: 99.74712016828926, RMSE: 118.75620272144806, Explained Variance: -1.242016609482485\n",
      "\u001b[1m299/299\u001b[0m \u001b[32m━━━━━━━━━━━━━━━━━━━━\u001b[0m\u001b[37m\u001b[0m \u001b[1m0s\u001b[0m 445us/step\n"
     ]
    },
    {
     "name": "stderr",
     "output_type": "stream",
     "text": [
      "C:\\Users\\darvarir\\AppData\\Local\\Temp\\ipykernel_47024\\2610839538.py:85: SettingWithCopyWarning: \n",
      "A value is trying to be set on a copy of a slice from a DataFrame.\n",
      "Try using .loc[row_indexer,col_indexer] = value instead\n",
      "\n",
      "See the caveats in the documentation: https://pandas.pydata.org/pandas-docs/stable/user_guide/indexing.html#returning-a-view-versus-a-copy\n",
      "  unknown_data['Predicted_Li'] = y_unknown_pred\n",
      "C:\\Users\\darvarir\\AppData\\Local\\Temp\\ipykernel_47024\\2610839538.py:88: SettingWithCopyWarning: \n",
      "A value is trying to be set on a copy of a slice from a DataFrame.\n",
      "Try using .loc[row_indexer,col_indexer] = value instead\n",
      "\n",
      "See the caveats in the documentation: https://pandas.pydata.org/pandas-docs/stable/user_guide/indexing.html#returning-a-view-versus-a-copy\n",
      "  df_basin.loc[unknown_data.index, 'Predicted_Li'] = y_unknown_pred\n"
     ]
    },
    {
     "name": "stdout",
     "output_type": "stream",
     "text": [
      "Processing Gradient Boosting for Michigan\n"
     ]
    },
    {
     "name": "stderr",
     "output_type": "stream",
     "text": [
      "c:\\Users\\darvarir\\Anaconda3\\lib\\site-packages\\keras\\src\\layers\\core\\dense.py:86: UserWarning: Do not pass an `input_shape`/`input_dim` argument to a layer. When using Sequential models, prefer using an `Input(shape)` object as the first layer in the model instead.\n",
      "  super().__init__(activity_regularizer=activity_regularizer, **kwargs)\n"
     ]
    },
    {
     "name": "stdout",
     "output_type": "stream",
     "text": [
      "\u001b[1m1/1\u001b[0m \u001b[32m━━━━━━━━━━━━━━━━━━━━\u001b[0m\u001b[37m\u001b[0m \u001b[1m0s\u001b[0m 31ms/step\n",
      "Basin: Michigan - MSE: 88825.74541401307, R2: -221.21690179646725, MAE: 168.80103643115362, RMSE: 298.03648336070046, Explained Variance: -203.65090034859185\n",
      "\u001b[1m21/21\u001b[0m \u001b[32m━━━━━━━━━━━━━━━━━━━━\u001b[0m\u001b[37m\u001b[0m \u001b[1m0s\u001b[0m 897us/step\n",
      "Processing Gradient Boosting for Pacific\n"
     ]
    },
    {
     "name": "stderr",
     "output_type": "stream",
     "text": [
      "C:\\Users\\darvarir\\AppData\\Local\\Temp\\ipykernel_47024\\2610839538.py:85: SettingWithCopyWarning: \n",
      "A value is trying to be set on a copy of a slice from a DataFrame.\n",
      "Try using .loc[row_indexer,col_indexer] = value instead\n",
      "\n",
      "See the caveats in the documentation: https://pandas.pydata.org/pandas-docs/stable/user_guide/indexing.html#returning-a-view-versus-a-copy\n",
      "  unknown_data['Predicted_Li'] = y_unknown_pred\n",
      "C:\\Users\\darvarir\\AppData\\Local\\Temp\\ipykernel_47024\\2610839538.py:88: SettingWithCopyWarning: \n",
      "A value is trying to be set on a copy of a slice from a DataFrame.\n",
      "Try using .loc[row_indexer,col_indexer] = value instead\n",
      "\n",
      "See the caveats in the documentation: https://pandas.pydata.org/pandas-docs/stable/user_guide/indexing.html#returning-a-view-versus-a-copy\n",
      "  df_basin.loc[unknown_data.index, 'Predicted_Li'] = y_unknown_pred\n",
      "c:\\Users\\darvarir\\Anaconda3\\lib\\site-packages\\keras\\src\\layers\\core\\dense.py:86: UserWarning: Do not pass an `input_shape`/`input_dim` argument to a layer. When using Sequential models, prefer using an `Input(shape)` object as the first layer in the model instead.\n",
      "  super().__init__(activity_regularizer=activity_regularizer, **kwargs)\n"
     ]
    },
    {
     "name": "stdout",
     "output_type": "stream",
     "text": [
      "\u001b[1m1/1\u001b[0m \u001b[32m━━━━━━━━━━━━━━━━━━━━\u001b[0m\u001b[37m\u001b[0m \u001b[1m0s\u001b[0m 34ms/step\n",
      "Basin: Pacific - MSE: 1698.7790217135814, R2: -163.04977167017938, MAE: 26.15837610244751, RMSE: 41.21624706003182, Explained Variance: -160.2125524232726\n",
      "\u001b[1m17/17\u001b[0m \u001b[32m━━━━━━━━━━━━━━━━━━━━\u001b[0m\u001b[37m\u001b[0m \u001b[1m0s\u001b[0m 623us/step\n",
      "Processing Gradient Boosting for Illinois\n"
     ]
    },
    {
     "name": "stderr",
     "output_type": "stream",
     "text": [
      "C:\\Users\\darvarir\\AppData\\Local\\Temp\\ipykernel_47024\\2610839538.py:85: SettingWithCopyWarning: \n",
      "A value is trying to be set on a copy of a slice from a DataFrame.\n",
      "Try using .loc[row_indexer,col_indexer] = value instead\n",
      "\n",
      "See the caveats in the documentation: https://pandas.pydata.org/pandas-docs/stable/user_guide/indexing.html#returning-a-view-versus-a-copy\n",
      "  unknown_data['Predicted_Li'] = y_unknown_pred\n",
      "C:\\Users\\darvarir\\AppData\\Local\\Temp\\ipykernel_47024\\2610839538.py:88: SettingWithCopyWarning: \n",
      "A value is trying to be set on a copy of a slice from a DataFrame.\n",
      "Try using .loc[row_indexer,col_indexer] = value instead\n",
      "\n",
      "See the caveats in the documentation: https://pandas.pydata.org/pandas-docs/stable/user_guide/indexing.html#returning-a-view-versus-a-copy\n",
      "  df_basin.loc[unknown_data.index, 'Predicted_Li'] = y_unknown_pred\n",
      "c:\\Users\\darvarir\\Anaconda3\\lib\\site-packages\\keras\\src\\layers\\core\\dense.py:86: UserWarning: Do not pass an `input_shape`/`input_dim` argument to a layer. When using Sequential models, prefer using an `Input(shape)` object as the first layer in the model instead.\n",
      "  super().__init__(activity_regularizer=activity_regularizer, **kwargs)\n"
     ]
    },
    {
     "name": "stdout",
     "output_type": "stream",
     "text": [
      "\u001b[1m1/1\u001b[0m \u001b[32m━━━━━━━━━━━━━━━━━━━━\u001b[0m\u001b[37m\u001b[0m \u001b[1m0s\u001b[0m 31ms/step\n",
      "Basin: Illinois - MSE: 13917.154375875154, R2: -71.78847040005586, MAE: 94.09639982795716, RMSE: 117.97098955198754, Explained Variance: -57.69097885333728\n",
      "\u001b[1m66/66\u001b[0m \u001b[32m━━━━━━━━━━━━━━━━━━━━\u001b[0m\u001b[37m\u001b[0m \u001b[1m0s\u001b[0m 474us/step\n",
      "Processing Gradient Boosting for Great Plains\n"
     ]
    },
    {
     "name": "stderr",
     "output_type": "stream",
     "text": [
      "C:\\Users\\darvarir\\AppData\\Local\\Temp\\ipykernel_47024\\2610839538.py:85: SettingWithCopyWarning: \n",
      "A value is trying to be set on a copy of a slice from a DataFrame.\n",
      "Try using .loc[row_indexer,col_indexer] = value instead\n",
      "\n",
      "See the caveats in the documentation: https://pandas.pydata.org/pandas-docs/stable/user_guide/indexing.html#returning-a-view-versus-a-copy\n",
      "  unknown_data['Predicted_Li'] = y_unknown_pred\n",
      "C:\\Users\\darvarir\\AppData\\Local\\Temp\\ipykernel_47024\\2610839538.py:88: SettingWithCopyWarning: \n",
      "A value is trying to be set on a copy of a slice from a DataFrame.\n",
      "Try using .loc[row_indexer,col_indexer] = value instead\n",
      "\n",
      "See the caveats in the documentation: https://pandas.pydata.org/pandas-docs/stable/user_guide/indexing.html#returning-a-view-versus-a-copy\n",
      "  df_basin.loc[unknown_data.index, 'Predicted_Li'] = y_unknown_pred\n",
      "c:\\Users\\darvarir\\Anaconda3\\lib\\site-packages\\keras\\src\\layers\\core\\dense.py:86: UserWarning: Do not pass an `input_shape`/`input_dim` argument to a layer. When using Sequential models, prefer using an `Input(shape)` object as the first layer in the model instead.\n",
      "  super().__init__(activity_regularizer=activity_regularizer, **kwargs)\n"
     ]
    },
    {
     "name": "stdout",
     "output_type": "stream",
     "text": [
      "\u001b[1m1/1\u001b[0m \u001b[32m━━━━━━━━━━━━━━━━━━━━\u001b[0m\u001b[37m\u001b[0m \u001b[1m0s\u001b[0m 30ms/step\n",
      "Basin: Great Plains - MSE: 100414.60429629777, R2: -1.6915592007717875, MAE: 124.00871604259198, RMSE: 316.88263489231747, Explained Variance: -1.5482972856537751\n",
      "\u001b[1m16/16\u001b[0m \u001b[32m━━━━━━━━━━━━━━━━━━━━\u001b[0m\u001b[37m\u001b[0m \u001b[1m0s\u001b[0m 598us/step\n",
      "Processing Gradient Boosting for Anadarko\n"
     ]
    },
    {
     "name": "stderr",
     "output_type": "stream",
     "text": [
      "C:\\Users\\darvarir\\AppData\\Local\\Temp\\ipykernel_47024\\2610839538.py:85: SettingWithCopyWarning: \n",
      "A value is trying to be set on a copy of a slice from a DataFrame.\n",
      "Try using .loc[row_indexer,col_indexer] = value instead\n",
      "\n",
      "See the caveats in the documentation: https://pandas.pydata.org/pandas-docs/stable/user_guide/indexing.html#returning-a-view-versus-a-copy\n",
      "  unknown_data['Predicted_Li'] = y_unknown_pred\n",
      "C:\\Users\\darvarir\\AppData\\Local\\Temp\\ipykernel_47024\\2610839538.py:88: SettingWithCopyWarning: \n",
      "A value is trying to be set on a copy of a slice from a DataFrame.\n",
      "Try using .loc[row_indexer,col_indexer] = value instead\n",
      "\n",
      "See the caveats in the documentation: https://pandas.pydata.org/pandas-docs/stable/user_guide/indexing.html#returning-a-view-versus-a-copy\n",
      "  df_basin.loc[unknown_data.index, 'Predicted_Li'] = y_unknown_pred\n",
      "c:\\Users\\darvarir\\Anaconda3\\lib\\site-packages\\keras\\src\\layers\\core\\dense.py:86: UserWarning: Do not pass an `input_shape`/`input_dim` argument to a layer. When using Sequential models, prefer using an `Input(shape)` object as the first layer in the model instead.\n",
      "  super().__init__(activity_regularizer=activity_regularizer, **kwargs)\n"
     ]
    },
    {
     "name": "stdout",
     "output_type": "stream",
     "text": [
      "\u001b[1m2/2\u001b[0m \u001b[32m━━━━━━━━━━━━━━━━━━━━\u001b[0m\u001b[37m\u001b[0m \u001b[1m0s\u001b[0m 21ms/step\n",
      "Basin: Anadarko - MSE: 15578.192352500017, R2: -0.5648471533689652, MAE: 102.7832270269574, RMSE: 124.81262897840112, Explained Variance: 0.12310495284554923\n",
      "\u001b[1m133/133\u001b[0m \u001b[32m━━━━━━━━━━━━━━━━━━━━\u001b[0m\u001b[37m\u001b[0m \u001b[1m0s\u001b[0m 521us/step\n"
     ]
    },
    {
     "name": "stderr",
     "output_type": "stream",
     "text": [
      "C:\\Users\\darvarir\\AppData\\Local\\Temp\\ipykernel_47024\\2610839538.py:85: SettingWithCopyWarning: \n",
      "A value is trying to be set on a copy of a slice from a DataFrame.\n",
      "Try using .loc[row_indexer,col_indexer] = value instead\n",
      "\n",
      "See the caveats in the documentation: https://pandas.pydata.org/pandas-docs/stable/user_guide/indexing.html#returning-a-view-versus-a-copy\n",
      "  unknown_data['Predicted_Li'] = y_unknown_pred\n",
      "C:\\Users\\darvarir\\AppData\\Local\\Temp\\ipykernel_47024\\2610839538.py:88: SettingWithCopyWarning: \n",
      "A value is trying to be set on a copy of a slice from a DataFrame.\n",
      "Try using .loc[row_indexer,col_indexer] = value instead\n",
      "\n",
      "See the caveats in the documentation: https://pandas.pydata.org/pandas-docs/stable/user_guide/indexing.html#returning-a-view-versus-a-copy\n",
      "  df_basin.loc[unknown_data.index, 'Predicted_Li'] = y_unknown_pred\n",
      "c:\\Users\\darvarir\\Anaconda3\\lib\\site-packages\\keras\\src\\layers\\core\\dense.py:86: UserWarning: Do not pass an `input_shape`/`input_dim` argument to a layer. When using Sequential models, prefer using an `Input(shape)` object as the first layer in the model instead.\n",
      "  super().__init__(activity_regularizer=activity_regularizer, **kwargs)\n"
     ]
    },
    {
     "name": "stdout",
     "output_type": "stream",
     "text": [
      "Processing Gradient Boosting for Rocky Mountain\n",
      "\u001b[1m5/5\u001b[0m \u001b[32m━━━━━━━━━━━━━━━━━━━━\u001b[0m\u001b[37m\u001b[0m \u001b[1m0s\u001b[0m 5ms/step \n",
      "Basin: Rocky Mountain - MSE: 3421.637231856377, R2: -14.950451287598387, MAE: 34.782855804043706, RMSE: 58.49476243097648, Explained Variance: -12.614290656491976\n",
      "\u001b[1m183/183\u001b[0m \u001b[32m━━━━━━━━━━━━━━━━━━━━\u001b[0m\u001b[37m\u001b[0m \u001b[1m0s\u001b[0m 427us/step\n"
     ]
    },
    {
     "name": "stderr",
     "output_type": "stream",
     "text": [
      "C:\\Users\\darvarir\\AppData\\Local\\Temp\\ipykernel_47024\\2610839538.py:85: SettingWithCopyWarning: \n",
      "A value is trying to be set on a copy of a slice from a DataFrame.\n",
      "Try using .loc[row_indexer,col_indexer] = value instead\n",
      "\n",
      "See the caveats in the documentation: https://pandas.pydata.org/pandas-docs/stable/user_guide/indexing.html#returning-a-view-versus-a-copy\n",
      "  unknown_data['Predicted_Li'] = y_unknown_pred\n",
      "C:\\Users\\darvarir\\AppData\\Local\\Temp\\ipykernel_47024\\2610839538.py:88: SettingWithCopyWarning: \n",
      "A value is trying to be set on a copy of a slice from a DataFrame.\n",
      "Try using .loc[row_indexer,col_indexer] = value instead\n",
      "\n",
      "See the caveats in the documentation: https://pandas.pydata.org/pandas-docs/stable/user_guide/indexing.html#returning-a-view-versus-a-copy\n",
      "  df_basin.loc[unknown_data.index, 'Predicted_Li'] = y_unknown_pred\n",
      "c:\\Users\\darvarir\\Anaconda3\\lib\\site-packages\\keras\\src\\layers\\core\\dense.py:86: UserWarning: Do not pass an `input_shape`/`input_dim` argument to a layer. When using Sequential models, prefer using an `Input(shape)` object as the first layer in the model instead.\n",
      "  super().__init__(activity_regularizer=activity_regularizer, **kwargs)\n"
     ]
    },
    {
     "name": "stdout",
     "output_type": "stream",
     "text": [
      "Processing Gradient Boosting for Fort Worth\n",
      "\u001b[1m1/1\u001b[0m \u001b[32m━━━━━━━━━━━━━━━━━━━━\u001b[0m\u001b[37m\u001b[0m \u001b[1m0s\u001b[0m 29ms/step\n",
      "Basin: Fort Worth - MSE: 373360.68426947785, R2: -303.6511741020848, MAE: 468.5259764099121, RMSE: 611.0324739892945, Explained Variance: -297.4089443795266\n",
      "\u001b[1m10/10\u001b[0m \u001b[32m━━━━━━━━━━━━━━━━━━━━\u001b[0m\u001b[37m\u001b[0m \u001b[1m0s\u001b[0m 664us/step\n",
      "Saved performance metrics without PCA to CSV.\n"
     ]
    },
    {
     "name": "stderr",
     "output_type": "stream",
     "text": [
      "C:\\Users\\darvarir\\AppData\\Local\\Temp\\ipykernel_47024\\2610839538.py:85: SettingWithCopyWarning: \n",
      "A value is trying to be set on a copy of a slice from a DataFrame.\n",
      "Try using .loc[row_indexer,col_indexer] = value instead\n",
      "\n",
      "See the caveats in the documentation: https://pandas.pydata.org/pandas-docs/stable/user_guide/indexing.html#returning-a-view-versus-a-copy\n",
      "  unknown_data['Predicted_Li'] = y_unknown_pred\n",
      "C:\\Users\\darvarir\\AppData\\Local\\Temp\\ipykernel_47024\\2610839538.py:88: SettingWithCopyWarning: \n",
      "A value is trying to be set on a copy of a slice from a DataFrame.\n",
      "Try using .loc[row_indexer,col_indexer] = value instead\n",
      "\n",
      "See the caveats in the documentation: https://pandas.pydata.org/pandas-docs/stable/user_guide/indexing.html#returning-a-view-versus-a-copy\n",
      "  df_basin.loc[unknown_data.index, 'Predicted_Li'] = y_unknown_pred\n"
     ]
    }
   ],
   "source": [
    "# Load the dataset with all basins\n",
    "df = pd.read_csv(\"../../data/df_output/df_cleaned_imputed.csv\")\n",
    "\n",
    "\n",
    "# Output directories for plots and predictions\n",
    "plot_dir = \"../../images/neural_network_plots/neural_network_withoutPCA\"\n",
    "predicted_data_dir = \"../../data/predicted_data/neural_network_withoutPCA\"\n",
    "result_dir=\"../../data/performance_comparison\"\n",
    "os.makedirs(plot_dir, exist_ok=True)\n",
    "os.makedirs(predicted_data_dir, exist_ok=True)\n",
    "\n",
    "# Define features to use for predicting 'Li'\n",
    "predictors = ['B', 'Ba', 'Br', 'HCO3', 'FeTot', 'K', 'Na', 'Cl', 'SO4', 'Mg', 'Ca', 'Sr', 'Zn', 'TDS', 'DEPTHUPPER']\n",
    "\n",
    "# Dictionary to store results for each basin\n",
    "results = {}\n",
    "\n",
    "# Loop through each unique basin category\n",
    "for basin in df['BASIN_CATEGORY'].unique():\n",
    "    sanitized_basin = basin.replace(' ', '_')  # Replace spaces with underscores\n",
    "    print(f\"Processing Gradient Boosting for {basin}\")\n",
    "    df_basin = df[df['BASIN_CATEGORY'] == basin]\n",
    "\n",
    "    # Separate data with known and unknown 'Li' values\n",
    "    known_data = df_basin.dropna(subset=['Li'])\n",
    "    unknown_data = df_basin[df_basin['Li'].isnull()]\n",
    "\n",
    "    # Prepare training and testing data from known data\n",
    "    X_known = known_data[predictors]\n",
    "    y_known = known_data['Li']\n",
    "    X_train, X_test, y_train, y_test = train_test_split(X_known, y_known, test_size=0.2, random_state=42)\n",
    "\n",
    "    # Initialize and train the neural network\n",
    "    model = Sequential([\n",
    "        Dense(128, activation='relu', input_shape=(X_train.shape[1],)),\n",
    "        Dense(64, activation='relu'),\n",
    "        Dense(1)\n",
    "    ])\n",
    "    model.compile(optimizer=Adam(learning_rate=0.001), loss='mean_squared_error')\n",
    "    model.fit(X_train, y_train, epochs=100, batch_size=32, verbose=0)\n",
    "\n",
    "    # Predict and evaluate on known test data\n",
    "    y_pred = model.predict(X_test).flatten()\n",
    "    mse = mean_squared_error(y_test, y_pred)\n",
    "    r2 = r2_score(y_test, y_pred)\n",
    "    mae = mean_absolute_error(y_test, y_pred)\n",
    "    rmse = mean_squared_error(y_test, y_pred, squared=False)\n",
    "    explained_variance = explained_variance_score(y_test, y_pred)\n",
    "\n",
    "    # Store results for known data evaluation\n",
    "    results[basin] = {\n",
    "        'MSE': mse,\n",
    "        'R2': r2,\n",
    "        'MAE': mae,\n",
    "        'RMSE': rmse,\n",
    "        'Explained Variance': explained_variance\n",
    "    }\n",
    "    print(f\"Basin: {basin} - MSE: {mse}, R2: {r2}, MAE: {mae}, RMSE: {rmse}, Explained Variance: {explained_variance}\")\n",
    "\n",
    "    # Plot actual vs predicted and save the plot\n",
    "    plt.figure(figsize=(6, 6))\n",
    "    plt.scatter(y_test, y_pred, alpha=0.5)\n",
    "    plt.plot([y_test.min(), y_test.max()], [y_test.min(), y_test.max()], 'k--', lw=4)\n",
    "    percentage_ranges = [5, 15, 25, 50]\n",
    "    colors = ['lightblue', 'lightgreen', 'palegoldenrod', 'lightsalmon']\n",
    "    for i, percentage in enumerate(percentage_ranges):\n",
    "        threshold = (percentage / 100) * np.mean(y_test)\n",
    "        plt.plot([y_test.min(), y_test.max()], [y_test.min() + threshold, y_test.max() + threshold],\n",
    "                 linestyle='--', color=colors[i], label=f'Within {percentage}%')\n",
    "        plt.plot([y_test.min(), y_test.max()], [y_test.min() - threshold, y_test.max() - threshold],\n",
    "                 linestyle='--', color=colors[i])\n",
    "    plt.ylim(bottom=0)\n",
    "    plt.xlim(left=0)\n",
    "    plt.xlabel('Actual Li Concentrations')\n",
    "    plt.ylabel('Predicted Li Concentrations')\n",
    "    plt.title(f'Actual vs. Predicted for {basin}')\n",
    "    plt.legend()\n",
    "    plot_path = os.path.join(plot_dir, f\"{sanitized_basin}_actual_predicted_neural_network_no_pca.png\")\n",
    "    plt.savefig(plot_path)\n",
    "    plt.close()\n",
    "\n",
    "\n",
    "    # Predict unknown 'Li' values if there are any\n",
    "    if not unknown_data.empty:\n",
    "        X_unknown = unknown_data[predictors]\n",
    "        y_unknown_pred = model.predict(X_unknown).flatten()\n",
    "        unknown_data['Predicted_Li'] = y_unknown_pred\n",
    "\n",
    "        # Merge the predictions back to the main DataFrame\n",
    "        df_basin.loc[unknown_data.index, 'Predicted_Li'] = y_unknown_pred\n",
    "\n",
    "        # Optional: to also show original 'Li' in the same column where available\n",
    "        df_basin.loc[known_data.index, 'Predicted_Li'] = known_data['Li']\n",
    "\n",
    "        # Save the full basin DataFrame including both known 'Li' and predicted 'Li' values\n",
    "        predicted_data_path = os.path.join(predicted_data_dir, f\"{sanitized_basin}_predicted_Li_neural_network_no_pca.csv\")\n",
    "        df_basin.to_csv(predicted_data_path, index=False)\n",
    "\n",
    "\n",
    "        # Plot predictions for unknown data and save the plot\n",
    "        plt.figure(figsize=(6, 6))\n",
    "        plt.hist(y_unknown_pred, bins=30, alpha=0.75)\n",
    "        plt.xlabel('Predicted Lithium Concentration')\n",
    "        plt.ylabel('Frequency')\n",
    "        plt.title(f'Distribution of Predicted Lithium Concentrations for New Samples in {basin}')\n",
    "        plot_hist_path = os.path.join(plot_dir, f\"{sanitized_basin}_predicted_distribution_neural_network_no_pca.png\")\n",
    "        plt.savefig(plot_hist_path)\n",
    "        plt.close()\n",
    "\n",
    "# Convert results to a DataFrame for better visualization or further analysis\n",
    "nn_results_df_without_pca = pd.DataFrame(results).T\n",
    "nn_results_df_without_pca.to_csv(os.path.join(result_dir, \"neural_network_performance_no_pca.csv\"), index_label='Basin')\n",
    "\n",
    "print(\"Saved performance metrics without PCA to CSV.\")"
   ]
  },
  {
   "cell_type": "markdown",
   "metadata": {},
   "source": [
    "## Performance Comparison"
   ]
  },
  {
   "cell_type": "code",
   "execution_count": 11,
   "metadata": {},
   "outputs": [
    {
     "data": {
      "image/png": "[encoded data removed]",
      "text/plain": [
       "<Figure size 720x1440 with 5 Axes>"
      ]
     },
     "metadata": {
      "needs_background": "light"
     },
     "output_type": "display_data"
    }
   ],
   "source": [
    "# Load results DataFrames\n",
    "nn_results_df_with_pca = pd.read_csv(\"../../data/performance_comparison/neural_network_performance_pca.csv\")\n",
    "nn_results_df_without_pca = pd.read_csv(\"../../data/performance_comparison/neural_network_performance_no_pca.csv\")\n",
    "\n",
    "# Replace spaces with underscores in the basin names\n",
    "nn_results_df_with_pca['Basin'] = nn_results_df_with_pca ['Basin'].str.replace(' ', '_')\n",
    "nn_results_df_without_pca['Basin'] = nn_results_df_without_pca['Basin'].str.replace(' ', '_')\n",
    "\n",
    "# Set 'Basin' as index now that the names are sanitized\n",
    "nn_results_df_with_pca .set_index('Basin', inplace=True)\n",
    "nn_results_df_without_pca.set_index('Basin', inplace=True)\n",
    "\n",
    "# Merge the two results DataFrames\n",
    "nn_combined_results = nn_results_df_with_pca.join(nn_results_df_without_pca, lsuffix='_with_pca', rsuffix='_without_pca')\n",
    "\n",
    "# Define the metrics to compare\n",
    "metrics = ['MSE', 'R2', 'MAE', 'RMSE', 'Explained Variance']\n",
    "\n",
    "# Create a figure and axes for the subplots\n",
    "fig, axs = plt.subplots(nrows=len(metrics), ncols=1, figsize=(10, 20), sharex=True)\n",
    "\n",
    "# Plot comparisons for each metric\n",
    "for idx, metric in enumerate(metrics):\n",
    "    axs[idx].plot(nn_combined_results.index, nn_combined_results[metric + '_with_pca'], marker='o', label='With PCA', linestyle='-')\n",
    "    axs[idx].plot(nn_combined_results.index, nn_combined_results[metric + '_without_pca'], marker='x', label='Without PCA', linestyle='--')\n",
    "    \n",
    "    axs[idx].set_ylabel(metric)\n",
    "    axs[idx].set_title(metric)\n",
    "    axs[idx].legend()\n",
    "\n",
    "# Set common labels\n",
    "plt.xlabel('Basin', fontweight='bold')\n",
    "plt.xticks(rotation=45)\n",
    "plt.savefig(\"../../images/performance_comparison_plots/neural_network_performance_comparison.png\")"
   ]
  },
  {
   "cell_type": "code",
   "execution_count": null,
   "metadata": {},
   "outputs": [],
   "source": []
  }
 ],
 "metadata": {
  "kernelspec": {
   "display_name": "base",
   "language": "python",
   "name": "python3"
  },
  "language_info": {
   "codemirror_mode": {
    "name": "ipython",
    "version": 3
   },
   "file_extension": ".py",
   "mimetype": "text/x-python",
   "name": "python",
   "nbconvert_exporter": "python",
   "pygments_lexer": "ipython3",
   "version": "3.11.8"
  }
 },
 "nbformat": 4,
 "nbformat_minor": 2
}
