{
 "cells": [
  {
   "cell_type": "code",
   "execution_count": 2,
   "metadata": {},
   "outputs": [
    {
     "name": "stderr",
     "output_type": "stream",
     "text": [
      "c:\\Users\\darvarir\\Anaconda3\\lib\\site-packages\\scipy\\__init__.py:146: UserWarning: A NumPy version >=1.16.5 and <1.23.0 is required for this version of SciPy (detected version 1.26.4\n",
      "  warnings.warn(f\"A NumPy version >={np_minversion} and <{np_maxversion}\"\n"
     ]
    }
   ],
   "source": [
    "import pandas as pd\n",
    "import matplotlib.pyplot as plt\n",
    "from sklearn.model_selection import train_test_split\n",
    "from sklearn.ensemble import GradientBoostingRegressor\n",
    "from sklearn.metrics import mean_squared_error, r2_score, mean_absolute_error, explained_variance_score\n",
    "import os\n"
   ]
  },
  {
   "cell_type": "markdown",
   "metadata": {},
   "source": [
    "## Gradient Boosting on PCA Results"
   ]
  },
  {
   "cell_type": "code",
   "execution_count": 3,
   "metadata": {},
   "outputs": [
    {
     "name": "stdout",
     "output_type": "stream",
     "text": [
      "Basin: Anadarko - MSE: 3515.827647608427, R2: 0.6468311109784811, MAE: 17.580954595547304, RMSE: 59.29441497821213, Explained Variance: 0.6545109829949916\n"
     ]
    },
    {
     "name": "stderr",
     "output_type": "stream",
     "text": [
      "C:\\Users\\darvarir\\AppData\\Local\\Temp\\ipykernel_36800\\1419258328.py:63: SettingWithCopyWarning: \n",
      "A value is trying to be set on a copy of a slice from a DataFrame.\n",
      "Try using .loc[row_indexer,col_indexer] = value instead\n",
      "\n",
      "See the caveats in the documentation: https://pandas.pydata.org/pandas-docs/stable/user_guide/indexing.html#returning-a-view-versus-a-copy\n",
      "  unknown_data['Predicted_Li'] = y_unknown_pred\n"
     ]
    },
    {
     "name": "stdout",
     "output_type": "stream",
     "text": [
      "Basin: Appalachian - MSE: 1237.3783540659697, R2: 0.661328782291387, MAE: 25.198242805399584, RMSE: 35.1763891561651, Explained Variance: 0.6792417279877886\n",
      "Basin: Fort Worth - MSE: 581.3218291931303, R2: 0.5256587389714706, MAE: 14.663941713305082, RMSE: 24.110616524533963, Explained Variance: 0.5946441048967377\n"
     ]
    },
    {
     "name": "stderr",
     "output_type": "stream",
     "text": [
      "C:\\Users\\darvarir\\AppData\\Local\\Temp\\ipykernel_36800\\1419258328.py:63: SettingWithCopyWarning: \n",
      "A value is trying to be set on a copy of a slice from a DataFrame.\n",
      "Try using .loc[row_indexer,col_indexer] = value instead\n",
      "\n",
      "See the caveats in the documentation: https://pandas.pydata.org/pandas-docs/stable/user_guide/indexing.html#returning-a-view-versus-a-copy\n",
      "  unknown_data['Predicted_Li'] = y_unknown_pred\n",
      "C:\\Users\\darvarir\\AppData\\Local\\Temp\\ipykernel_36800\\1419258328.py:63: SettingWithCopyWarning: \n",
      "A value is trying to be set on a copy of a slice from a DataFrame.\n",
      "Try using .loc[row_indexer,col_indexer] = value instead\n",
      "\n",
      "See the caveats in the documentation: https://pandas.pydata.org/pandas-docs/stable/user_guide/indexing.html#returning-a-view-versus-a-copy\n",
      "  unknown_data['Predicted_Li'] = y_unknown_pred\n"
     ]
    },
    {
     "name": "stdout",
     "output_type": "stream",
     "text": [
      "Basin: Great Plains - MSE: 39871.24413010937, R2: -0.06872715116172268, MAE: 57.180655553121014, RMSE: 199.67785087512678, Explained Variance: 0.014617969312910817\n"
     ]
    },
    {
     "name": "stderr",
     "output_type": "stream",
     "text": [
      "C:\\Users\\darvarir\\AppData\\Local\\Temp\\ipykernel_36800\\1419258328.py:63: SettingWithCopyWarning: \n",
      "A value is trying to be set on a copy of a slice from a DataFrame.\n",
      "Try using .loc[row_indexer,col_indexer] = value instead\n",
      "\n",
      "See the caveats in the documentation: https://pandas.pydata.org/pandas-docs/stable/user_guide/indexing.html#returning-a-view-versus-a-copy\n",
      "  unknown_data['Predicted_Li'] = y_unknown_pred\n"
     ]
    },
    {
     "name": "stdout",
     "output_type": "stream",
     "text": [
      "Basin: Gulf Coast - MSE: 6096.519163048429, R2: -0.07782286025085328, MAE: 22.05953774516324, RMSE: 78.08020980407538, Explained Variance: -0.05132080453197152\n"
     ]
    },
    {
     "name": "stderr",
     "output_type": "stream",
     "text": [
      "C:\\Users\\darvarir\\AppData\\Local\\Temp\\ipykernel_36800\\1419258328.py:63: SettingWithCopyWarning: \n",
      "A value is trying to be set on a copy of a slice from a DataFrame.\n",
      "Try using .loc[row_indexer,col_indexer] = value instead\n",
      "\n",
      "See the caveats in the documentation: https://pandas.pydata.org/pandas-docs/stable/user_guide/indexing.html#returning-a-view-versus-a-copy\n",
      "  unknown_data['Predicted_Li'] = y_unknown_pred\n"
     ]
    },
    {
     "name": "stdout",
     "output_type": "stream",
     "text": [
      "Basin: Illinois - MSE: 196.2417937045676, R2: -0.026369299824667403, MAE: 10.138688623205088, RMSE: 14.008632827816125, Explained Variance: 0.25962332538607336\n",
      "Basin: Michigan - MSE: 132.0456409211949, R2: 0.6696591389751777, MAE: 7.198711682194668, RMSE: 11.491111387554943, Explained Variance: 0.6758946025820012\n"
     ]
    },
    {
     "name": "stderr",
     "output_type": "stream",
     "text": [
      "C:\\Users\\darvarir\\AppData\\Local\\Temp\\ipykernel_36800\\1419258328.py:63: SettingWithCopyWarning: \n",
      "A value is trying to be set on a copy of a slice from a DataFrame.\n",
      "Try using .loc[row_indexer,col_indexer] = value instead\n",
      "\n",
      "See the caveats in the documentation: https://pandas.pydata.org/pandas-docs/stable/user_guide/indexing.html#returning-a-view-versus-a-copy\n",
      "  unknown_data['Predicted_Li'] = y_unknown_pred\n",
      "C:\\Users\\darvarir\\AppData\\Local\\Temp\\ipykernel_36800\\1419258328.py:63: SettingWithCopyWarning: \n",
      "A value is trying to be set on a copy of a slice from a DataFrame.\n",
      "Try using .loc[row_indexer,col_indexer] = value instead\n",
      "\n",
      "See the caveats in the documentation: https://pandas.pydata.org/pandas-docs/stable/user_guide/indexing.html#returning-a-view-versus-a-copy\n",
      "  unknown_data['Predicted_Li'] = y_unknown_pred\n"
     ]
    },
    {
     "name": "stdout",
     "output_type": "stream",
     "text": [
      "Basin: Oklahoma Platform - MSE: 175.85685123579648, R2: 0.44017357019921266, MAE: 9.407608952712124, RMSE: 13.261102941904813, Explained Variance: 0.47743177678739757\n"
     ]
    },
    {
     "name": "stderr",
     "output_type": "stream",
     "text": [
      "C:\\Users\\darvarir\\AppData\\Local\\Temp\\ipykernel_36800\\1419258328.py:63: SettingWithCopyWarning: \n",
      "A value is trying to be set on a copy of a slice from a DataFrame.\n",
      "Try using .loc[row_indexer,col_indexer] = value instead\n",
      "\n",
      "See the caveats in the documentation: https://pandas.pydata.org/pandas-docs/stable/user_guide/indexing.html#returning-a-view-versus-a-copy\n",
      "  unknown_data['Predicted_Li'] = y_unknown_pred\n"
     ]
    },
    {
     "name": "stdout",
     "output_type": "stream",
     "text": [
      "Basin: Pacific - MSE: 13.923804265697141, R2: -0.34461097139272723, MAE: 1.873948131417637, RMSE: 3.7314614115245974, Explained Variance: -0.33427104757632486\n"
     ]
    },
    {
     "name": "stderr",
     "output_type": "stream",
     "text": [
      "C:\\Users\\darvarir\\AppData\\Local\\Temp\\ipykernel_36800\\1419258328.py:63: SettingWithCopyWarning: \n",
      "A value is trying to be set on a copy of a slice from a DataFrame.\n",
      "Try using .loc[row_indexer,col_indexer] = value instead\n",
      "\n",
      "See the caveats in the documentation: https://pandas.pydata.org/pandas-docs/stable/user_guide/indexing.html#returning-a-view-versus-a-copy\n",
      "  unknown_data['Predicted_Li'] = y_unknown_pred\n"
     ]
    },
    {
     "name": "stdout",
     "output_type": "stream",
     "text": [
      "Basin: Permian - MSE: 5480.308899969941, R2: -0.07770371434607704, MAE: 17.884389260086653, RMSE: 74.02910846396802, Explained Variance: -0.06924905031399597\n"
     ]
    },
    {
     "name": "stderr",
     "output_type": "stream",
     "text": [
      "C:\\Users\\darvarir\\AppData\\Local\\Temp\\ipykernel_36800\\1419258328.py:63: SettingWithCopyWarning: \n",
      "A value is trying to be set on a copy of a slice from a DataFrame.\n",
      "Try using .loc[row_indexer,col_indexer] = value instead\n",
      "\n",
      "See the caveats in the documentation: https://pandas.pydata.org/pandas-docs/stable/user_guide/indexing.html#returning-a-view-versus-a-copy\n",
      "  unknown_data['Predicted_Li'] = y_unknown_pred\n"
     ]
    },
    {
     "name": "stdout",
     "output_type": "stream",
     "text": [
      "Basin: Rocky Mountain - MSE: 83.56444769518521, R2: 0.6104523764449548, MAE: 3.999971574261971, RMSE: 9.141359182046465, Explained Variance: 0.6105407594054189\n"
     ]
    },
    {
     "name": "stderr",
     "output_type": "stream",
     "text": [
      "C:\\Users\\darvarir\\AppData\\Local\\Temp\\ipykernel_36800\\1419258328.py:63: SettingWithCopyWarning: \n",
      "A value is trying to be set on a copy of a slice from a DataFrame.\n",
      "Try using .loc[row_indexer,col_indexer] = value instead\n",
      "\n",
      "See the caveats in the documentation: https://pandas.pydata.org/pandas-docs/stable/user_guide/indexing.html#returning-a-view-versus-a-copy\n",
      "  unknown_data['Predicted_Li'] = y_unknown_pred\n"
     ]
    },
    {
     "name": "stdout",
     "output_type": "stream",
     "text": [
      "Basin: Williston - MSE: 682.7841659486542, R2: 0.7037666375952439, MAE: 11.99428319465179, RMSE: 26.130139034238876, Explained Variance: 0.7051075243448985\n"
     ]
    },
    {
     "name": "stderr",
     "output_type": "stream",
     "text": [
      "C:\\Users\\darvarir\\AppData\\Local\\Temp\\ipykernel_36800\\1419258328.py:63: SettingWithCopyWarning: \n",
      "A value is trying to be set on a copy of a slice from a DataFrame.\n",
      "Try using .loc[row_indexer,col_indexer] = value instead\n",
      "\n",
      "See the caveats in the documentation: https://pandas.pydata.org/pandas-docs/stable/user_guide/indexing.html#returning-a-view-versus-a-copy\n",
      "  unknown_data['Predicted_Li'] = y_unknown_pred\n"
     ]
    },
    {
     "name": "stdout",
     "output_type": "stream",
     "text": [
      "Saved performance metrics with PCA to CSV.\n"
     ]
    }
   ],
   "source": [
    "# Directory where PCA results are saved\n",
    "pca_dir = \"../../data/pca_data/byBasin_pca\"\n",
    "result_dir=\"../../data/performance_comparison\"\n",
    "\n",
    "# Output directories for plots and predictions\n",
    "plot_dir = \"../../images/gradient_boosting_plots/gradient_boosting_withPCA\"\n",
    "predicted_data_dir = \"../../data/predicted_data/gradient_boosting_withPCA\"\n",
    "os.makedirs(plot_dir, exist_ok=True)\n",
    "os.makedirs(predicted_data_dir, exist_ok=True)\n",
    "\n",
    "# Get a list of all PCA result files\n",
    "pca_files = [f for f in os.listdir(pca_dir) if f.endswith('_pca_with_target.csv')]\n",
    "\n",
    "# Dictionary to store results for each basin\n",
    "results = {}\n",
    "\n",
    "# Process each PCA result file\n",
    "for file in pca_files:\n",
    "    basin_name = file.replace('_pca_with_target.csv', '')\n",
    "    pca_df = pd.read_csv(f\"{pca_dir}/{file}\")\n",
    "\n",
    "    # Separate data with known and unknown 'Li' values\n",
    "    known_data = pca_df.dropna(subset=['Li'])\n",
    "    unknown_data = pca_df[pca_df['Li'].isnull()]\n",
    "\n",
    "    # Prepare training and testing data from known data\n",
    "    principal_components = [f'PC{i+1}' for i in range(10)]  # Use the first 10 principal components\n",
    "    X_known = known_data[principal_components]\n",
    "    y_known = known_data['Li']\n",
    "    X_train, X_test, y_train, y_test = train_test_split(X_known, y_known, test_size=0.2, random_state=42)\n",
    "\n",
    "    # Initialize and train Gradient Boosting Regressor\n",
    "    gbr = GradientBoostingRegressor(n_estimators=100, learning_rate=0.1, max_depth=3, random_state=42)\n",
    "    gbr.fit(X_train, y_train)\n",
    "\n",
    "    # Predict and evaluate on known test data\n",
    "    y_pred = gbr.predict(X_test)\n",
    "    mse = mean_squared_error(y_test, y_pred)\n",
    "    r2 = r2_score(y_test, y_pred)\n",
    "    mae = mean_absolute_error(y_test, y_pred)\n",
    "    rmse = mean_squared_error(y_test, y_pred, squared=False)\n",
    "    explained_variance = explained_variance_score(y_test, y_pred)\n",
    "\n",
    "    # Store results for known data evaluation\n",
    "    results[basin_name] = {'MSE': mse, 'R2': r2, 'MAE': mae, 'RMSE': rmse, 'Explained Variance': explained_variance}\n",
    "    print(f\"Basin: {basin_name} - MSE: {mse}, R2: {r2}, MAE: {mae}, RMSE: {rmse}, Explained Variance: {explained_variance}\")\n",
    "\n",
    "    # Plot actual vs predicted and save the plot\n",
    "    plt.figure(figsize=(10, 6))\n",
    "    plt.scatter(y_test, y_pred, alpha=0.5)\n",
    "    plt.plot([y_test.min(), y_test.max()], [y_test.min(), y_test.max()], 'k--', lw=4)\n",
    "    plt.xlabel('Actual Li concentrations')\n",
    "    plt.ylabel('Predicted Li concentrations')\n",
    "    plt.title(f'Actual vs. Predicted for {basin_name}')\n",
    "    plot_path = os.path.join(plot_dir, f\"{basin_name}_actual_vs_predicted.png\")\n",
    "    plt.savefig(plot_path)\n",
    "    plt.close()\n",
    "\n",
    "    # Predict unknown 'Li' values if there are any\n",
    "    if not unknown_data.empty:\n",
    "        X_unknown = unknown_data[principal_components]\n",
    "        y_unknown_pred = gbr.predict(X_unknown)\n",
    "        unknown_data['Predicted_Li'] = y_unknown_pred\n",
    "\n",
    "        # Save predicted data for unknown values\n",
    "        predicted_data_path = os.path.join(predicted_data_dir, f\"{basin_name}_predicted.csv\")\n",
    "        unknown_data.to_csv(predicted_data_path, index=False)\n",
    "\n",
    "        # Plot predictions for unknown data and save the plot\n",
    "        plt.figure(figsize=(10, 6))\n",
    "        plt.hist(y_unknown_pred, bins=30, alpha=0.75)\n",
    "        plt.xlabel('Predicted Lithium Concentration')\n",
    "        plt.ylabel('Frequency')\n",
    "        plt.title(f'Distribution of Predicted Lithium Concentrations for New Samples in {basin_name}')\n",
    "        plot_hist_path = os.path.join(plot_dir, f\"{basin_name}_gradient_boosting_predicted_distribution.png\")\n",
    "        plt.savefig(plot_hist_path)\n",
    "        plt.close()\n",
    "\n",
    "# Convert results to a DataFrame for better visualization or further analysis\n",
    "results_df_with_pca = pd.DataFrame(results).T\n",
    "results_df_with_pca.to_csv(os.path.join(result_dir, \"gradient_boosting_performance_withPCA.csv\"), index_label='Basin')\n",
    "\n",
    "print(\"Saved performance metrics with PCA to CSV.\")"
   ]
  },
  {
   "cell_type": "markdown",
   "metadata": {},
   "source": [
    "## Gradient Boosting on Imputed Data without PCA"
   ]
  },
  {
   "cell_type": "code",
   "execution_count": 4,
   "metadata": {},
   "outputs": [
    {
     "name": "stdout",
     "output_type": "stream",
     "text": [
      "Processing Gradient Boosting for Appalachian\n",
      "Basin: Appalachian - MSE: 1055.653259749568, R2: 0.7110670525448741, MAE: 21.436445040100786, RMSE: 32.49081808372279, Explained Variance: 0.7206781081222746\n"
     ]
    },
    {
     "name": "stderr",
     "output_type": "stream",
     "text": [
      "C:\\Users\\darvarir\\AppData\\Local\\Temp\\ipykernel_36800\\502649576.py:69: SettingWithCopyWarning: \n",
      "A value is trying to be set on a copy of a slice from a DataFrame.\n",
      "Try using .loc[row_indexer,col_indexer] = value instead\n",
      "\n",
      "See the caveats in the documentation: https://pandas.pydata.org/pandas-docs/stable/user_guide/indexing.html#returning-a-view-versus-a-copy\n",
      "  unknown_data.loc[:, 'Predicted_Li'] = y_unknown_pred\n"
     ]
    },
    {
     "name": "stdout",
     "output_type": "stream",
     "text": [
      "Processing Gradient Boosting for Permian\n",
      "Basin: Permian - MSE: 4843.173495393815, R2: 0.04758907563823345, MAE: 15.112378626932456, RMSE: 69.59291268077386, Explained Variance: 0.06105579455260646\n"
     ]
    },
    {
     "name": "stderr",
     "output_type": "stream",
     "text": [
      "C:\\Users\\darvarir\\AppData\\Local\\Temp\\ipykernel_36800\\502649576.py:69: SettingWithCopyWarning: \n",
      "A value is trying to be set on a copy of a slice from a DataFrame.\n",
      "Try using .loc[row_indexer,col_indexer] = value instead\n",
      "\n",
      "See the caveats in the documentation: https://pandas.pydata.org/pandas-docs/stable/user_guide/indexing.html#returning-a-view-versus-a-copy\n",
      "  unknown_data.loc[:, 'Predicted_Li'] = y_unknown_pred\n"
     ]
    },
    {
     "name": "stdout",
     "output_type": "stream",
     "text": [
      "Processing Gradient Boosting for Oklahoma Platform\n",
      "Basin: Oklahoma Platform - MSE: 217.83899052556615, R2: 0.30652673762583926, MAE: 10.271268586623961, RMSE: 14.75936958428666, Explained Variance: 0.3446421429373965\n"
     ]
    },
    {
     "name": "stderr",
     "output_type": "stream",
     "text": [
      "C:\\Users\\darvarir\\AppData\\Local\\Temp\\ipykernel_36800\\502649576.py:69: SettingWithCopyWarning: \n",
      "A value is trying to be set on a copy of a slice from a DataFrame.\n",
      "Try using .loc[row_indexer,col_indexer] = value instead\n",
      "\n",
      "See the caveats in the documentation: https://pandas.pydata.org/pandas-docs/stable/user_guide/indexing.html#returning-a-view-versus-a-copy\n",
      "  unknown_data.loc[:, 'Predicted_Li'] = y_unknown_pred\n"
     ]
    },
    {
     "name": "stdout",
     "output_type": "stream",
     "text": [
      "Processing Gradient Boosting for Gulf Coast\n",
      "Basin: Gulf Coast - MSE: 1055.7620203411466, R2: 0.8133485009929304, MAE: 13.681516829684803, RMSE: 32.49249175334429, Explained Variance: 0.8210163559399734\n"
     ]
    },
    {
     "name": "stderr",
     "output_type": "stream",
     "text": [
      "C:\\Users\\darvarir\\AppData\\Local\\Temp\\ipykernel_36800\\502649576.py:69: SettingWithCopyWarning: \n",
      "A value is trying to be set on a copy of a slice from a DataFrame.\n",
      "Try using .loc[row_indexer,col_indexer] = value instead\n",
      "\n",
      "See the caveats in the documentation: https://pandas.pydata.org/pandas-docs/stable/user_guide/indexing.html#returning-a-view-versus-a-copy\n",
      "  unknown_data.loc[:, 'Predicted_Li'] = y_unknown_pred\n"
     ]
    },
    {
     "name": "stdout",
     "output_type": "stream",
     "text": [
      "Processing Gradient Boosting for Williston\n",
      "Basin: Williston - MSE: 139.4588885595948, R2: 0.9394942391233694, MAE: 6.815602437787958, RMSE: 11.809271296722537, Explained Variance: 0.9397679308819327\n"
     ]
    },
    {
     "name": "stderr",
     "output_type": "stream",
     "text": [
      "C:\\Users\\darvarir\\AppData\\Local\\Temp\\ipykernel_36800\\502649576.py:69: SettingWithCopyWarning: \n",
      "A value is trying to be set on a copy of a slice from a DataFrame.\n",
      "Try using .loc[row_indexer,col_indexer] = value instead\n",
      "\n",
      "See the caveats in the documentation: https://pandas.pydata.org/pandas-docs/stable/user_guide/indexing.html#returning-a-view-versus-a-copy\n",
      "  unknown_data.loc[:, 'Predicted_Li'] = y_unknown_pred\n"
     ]
    },
    {
     "name": "stdout",
     "output_type": "stream",
     "text": [
      "Processing Gradient Boosting for Michigan\n",
      "Basin: Michigan - MSE: 85.15544764152553, R2: 0.7869651455465769, MAE: 6.296938432980078, RMSE: 9.227970938485097, Explained Variance: 0.7885612468496552\n"
     ]
    },
    {
     "name": "stderr",
     "output_type": "stream",
     "text": [
      "C:\\Users\\darvarir\\AppData\\Local\\Temp\\ipykernel_36800\\502649576.py:69: SettingWithCopyWarning: \n",
      "A value is trying to be set on a copy of a slice from a DataFrame.\n",
      "Try using .loc[row_indexer,col_indexer] = value instead\n",
      "\n",
      "See the caveats in the documentation: https://pandas.pydata.org/pandas-docs/stable/user_guide/indexing.html#returning-a-view-versus-a-copy\n",
      "  unknown_data.loc[:, 'Predicted_Li'] = y_unknown_pred\n",
      "C:\\Users\\darvarir\\AppData\\Local\\Temp\\ipykernel_36800\\502649576.py:69: SettingWithCopyWarning: \n",
      "A value is trying to be set on a copy of a slice from a DataFrame.\n",
      "Try using .loc[row_indexer,col_indexer] = value instead\n",
      "\n",
      "See the caveats in the documentation: https://pandas.pydata.org/pandas-docs/stable/user_guide/indexing.html#returning-a-view-versus-a-copy\n",
      "  unknown_data.loc[:, 'Predicted_Li'] = y_unknown_pred\n"
     ]
    },
    {
     "name": "stdout",
     "output_type": "stream",
     "text": [
      "Processing Gradient Boosting for Pacific\n",
      "Basin: Pacific - MSE: 1.5763555437948142, R2: 0.8477725685771027, MAE: 0.7416603997405675, RMSE: 1.2555299852232977, Explained Variance: 0.8517457443455315\n",
      "Processing Gradient Boosting for Illinois\n",
      "Basin: Illinois - MSE: 78.35288174883135, R2: 0.5902045590713472, MAE: 6.134857289035555, RMSE: 8.85171631655869, Explained Variance: 0.6422502416922062\n",
      "Processing Gradient Boosting for Great Plains\n"
     ]
    },
    {
     "name": "stderr",
     "output_type": "stream",
     "text": [
      "C:\\Users\\darvarir\\AppData\\Local\\Temp\\ipykernel_36800\\502649576.py:69: SettingWithCopyWarning: \n",
      "A value is trying to be set on a copy of a slice from a DataFrame.\n",
      "Try using .loc[row_indexer,col_indexer] = value instead\n",
      "\n",
      "See the caveats in the documentation: https://pandas.pydata.org/pandas-docs/stable/user_guide/indexing.html#returning-a-view-versus-a-copy\n",
      "  unknown_data.loc[:, 'Predicted_Li'] = y_unknown_pred\n"
     ]
    },
    {
     "name": "stdout",
     "output_type": "stream",
     "text": [
      "Basin: Great Plains - MSE: 40194.40189544055, R2: -0.07738922041622498, MAE: 57.232000710696255, RMSE: 200.4854156676753, Explained Variance: 0.006367902846831197\n"
     ]
    },
    {
     "name": "stderr",
     "output_type": "stream",
     "text": [
      "C:\\Users\\darvarir\\AppData\\Local\\Temp\\ipykernel_36800\\502649576.py:69: SettingWithCopyWarning: \n",
      "A value is trying to be set on a copy of a slice from a DataFrame.\n",
      "Try using .loc[row_indexer,col_indexer] = value instead\n",
      "\n",
      "See the caveats in the documentation: https://pandas.pydata.org/pandas-docs/stable/user_guide/indexing.html#returning-a-view-versus-a-copy\n",
      "  unknown_data.loc[:, 'Predicted_Li'] = y_unknown_pred\n"
     ]
    },
    {
     "name": "stdout",
     "output_type": "stream",
     "text": [
      "Processing Gradient Boosting for Anadarko\n",
      "Basin: Anadarko - MSE: 4049.6804296461664, R2: 0.593204991375728, MAE: 23.61042807464979, RMSE: 63.63709947543309, Explained Variance: 0.595387466070225\n"
     ]
    },
    {
     "name": "stderr",
     "output_type": "stream",
     "text": [
      "C:\\Users\\darvarir\\AppData\\Local\\Temp\\ipykernel_36800\\502649576.py:69: SettingWithCopyWarning: \n",
      "A value is trying to be set on a copy of a slice from a DataFrame.\n",
      "Try using .loc[row_indexer,col_indexer] = value instead\n",
      "\n",
      "See the caveats in the documentation: https://pandas.pydata.org/pandas-docs/stable/user_guide/indexing.html#returning-a-view-versus-a-copy\n",
      "  unknown_data.loc[:, 'Predicted_Li'] = y_unknown_pred\n"
     ]
    },
    {
     "name": "stdout",
     "output_type": "stream",
     "text": [
      "Processing Gradient Boosting for Rocky Mountain\n",
      "Basin: Rocky Mountain - MSE: 63.67401708653836, R2: 0.7031744632748466, MAE: 3.637676693206302, RMSE: 7.979600058056692, Explained Variance: 0.7063200919819765\n"
     ]
    },
    {
     "name": "stderr",
     "output_type": "stream",
     "text": [
      "C:\\Users\\darvarir\\AppData\\Local\\Temp\\ipykernel_36800\\502649576.py:69: SettingWithCopyWarning: \n",
      "A value is trying to be set on a copy of a slice from a DataFrame.\n",
      "Try using .loc[row_indexer,col_indexer] = value instead\n",
      "\n",
      "See the caveats in the documentation: https://pandas.pydata.org/pandas-docs/stable/user_guide/indexing.html#returning-a-view-versus-a-copy\n",
      "  unknown_data.loc[:, 'Predicted_Li'] = y_unknown_pred\n"
     ]
    },
    {
     "name": "stdout",
     "output_type": "stream",
     "text": [
      "Processing Gradient Boosting for Fort Worth\n",
      "Basin: Fort Worth - MSE: 634.4696398706561, R2: 0.48229171184180875, MAE: 13.862894504289205, RMSE: 25.188680788613286, Explained Variance: 0.5846845621070336\n",
      "Saved performance metrics without PCA to CSV.\n"
     ]
    },
    {
     "name": "stderr",
     "output_type": "stream",
     "text": [
      "C:\\Users\\darvarir\\AppData\\Local\\Temp\\ipykernel_36800\\502649576.py:69: SettingWithCopyWarning: \n",
      "A value is trying to be set on a copy of a slice from a DataFrame.\n",
      "Try using .loc[row_indexer,col_indexer] = value instead\n",
      "\n",
      "See the caveats in the documentation: https://pandas.pydata.org/pandas-docs/stable/user_guide/indexing.html#returning-a-view-versus-a-copy\n",
      "  unknown_data.loc[:, 'Predicted_Li'] = y_unknown_pred\n"
     ]
    }
   ],
   "source": [
    "# Load the dataset with all basins\n",
    "df = pd.read_csv(\"../../data/df_output/df_cleaned_imputed.csv\")\n",
    "\n",
    "\n",
    "# Output directories for plots and predictions\n",
    "plot_dir = \"../../images/gradient_boosting_plots/gradient_boosting_withoutPCA\"\n",
    "predicted_data_dir = \"../../data/predicted_data/gradient_boosting_withoutPCA\"\n",
    "result_dir=\"../../data/performance_comparison\"\n",
    "os.makedirs(plot_dir, exist_ok=True)\n",
    "os.makedirs(predicted_data_dir, exist_ok=True)\n",
    "\n",
    "# Define features to use for predicting 'Li'\n",
    "predictors = ['B', 'Ba', 'Br', 'HCO3', 'FeTot', 'K', 'Na', 'Cl', 'SO4', 'Mg', 'Ca', 'Sr', 'Zn', 'TDS', 'DEPTHUPPER']\n",
    "\n",
    "# Dictionary to store results for each basin\n",
    "results = {}\n",
    "\n",
    "# Loop through each unique basin category\n",
    "for basin in df['BASIN_CATEGORY'].unique():\n",
    "    print(f\"Processing Gradient Boosting for {basin}\")\n",
    "    df_basin = df[df['BASIN_CATEGORY'] == basin]\n",
    "\n",
    "    # Separate data with known and unknown 'Li' values\n",
    "    known_data = df_basin.dropna(subset=['Li'])\n",
    "    unknown_data = df_basin[df_basin['Li'].isnull()]\n",
    "\n",
    "    # Prepare training and testing data from known data\n",
    "    X_known = known_data[predictors]\n",
    "    y_known = known_data['Li']\n",
    "    X_train, X_test, y_train, y_test = train_test_split(X_known, y_known, test_size=0.2, random_state=42)\n",
    "\n",
    "    # Initialize and train Gradient Boosting Regressor\n",
    "    gbr = GradientBoostingRegressor(n_estimators=100, learning_rate=0.1, max_depth=3, random_state=42)\n",
    "    gbr.fit(X_train, y_train)\n",
    "\n",
    "    # Predict and evaluate on known test data\n",
    "    y_pred = gbr.predict(X_test)\n",
    "    mse = mean_squared_error(y_test, y_pred)\n",
    "    r2 = r2_score(y_test, y_pred)\n",
    "    mae = mean_absolute_error(y_test, y_pred)\n",
    "    rmse = mean_squared_error(y_test, y_pred, squared=False)\n",
    "    explained_variance = explained_variance_score(y_test, y_pred)\n",
    "\n",
    "    # Store results for known data evaluation\n",
    "    results[basin] = {\n",
    "        'MSE': mse,\n",
    "        'R2': r2,\n",
    "        'MAE': mae,\n",
    "        'RMSE': rmse,\n",
    "        'Explained Variance': explained_variance\n",
    "    }\n",
    "    print(f\"Basin: {basin} - MSE: {mse}, R2: {r2}, MAE: {mae}, RMSE: {rmse}, Explained Variance: {explained_variance}\")\n",
    "\n",
    "    # Plot actual vs predicted and save the plot\n",
    "    plt.figure(figsize=(10, 6))\n",
    "    plt.scatter(y_test, y_pred, alpha=0.5)\n",
    "    plt.plot([y_test.min(), y_test.max()], [y_test.min(), y_test.max()], 'k--', lw=4)\n",
    "    plt.xlabel('Actual Li concentrations')\n",
    "    plt.ylabel('Predicted Li concentrations')\n",
    "    plt.title(f'Actual vs. Predicted for {basin} - Without PCA')\n",
    "    plot_path = os.path.join(plot_dir, f\"{basin}_actual_vs_predicted_without_pca.png\")\n",
    "    plt.savefig(plot_path)\n",
    "    plt.close()\n",
    "\n",
    "    # Predict unknown 'Li' values if there are any\n",
    "    if not unknown_data.empty:\n",
    "        X_unknown = unknown_data[predictors]\n",
    "        y_unknown_pred = gbr.predict(X_unknown)\n",
    "        unknown_data.loc[:, 'Predicted_Li'] = y_unknown_pred\n",
    "\n",
    "        # Save predicted data for unknown values\n",
    "        predicted_data_path = os.path.join(predicted_data_dir, f\"{basin}_predicted_without_pca.csv\")\n",
    "        unknown_data.to_csv(predicted_data_path, index=False)\n",
    "\n",
    "        # Plot predictions for unknown data and save the plot\n",
    "        plt.figure(figsize=(10, 6))\n",
    "        plt.hist(y_unknown_pred, bins=30, alpha=0.75)\n",
    "        plt.xlabel('Predicted Lithium Concentration')\n",
    "        plt.ylabel('Frequency')\n",
    "        plt.title(f'Distribution of Predicted Lithium Concentrations for New Samples in {basin} - Without PCA')\n",
    "        plot_hist_path = os.path.join(plot_dir, f\"{basin}_predicted_distribution_without_pca.png\")\n",
    "        plt.savefig(plot_hist_path)\n",
    "        plt.close()\n",
    "# Convert results to a DataFrame for better visualization or further analysis\n",
    "results_df_without_pca = pd.DataFrame(results).T\n",
    "results_df_without_pca.to_csv(os.path.join(result_dir, \"gradient_boosting_performance_withoutPCA.csv\"), index_label='Basin')\n",
    "\n",
    "print(\"Saved performance metrics without PCA to CSV.\")"
   ]
  },
  {
   "cell_type": "markdown",
   "metadata": {},
   "source": [
    "## Performance Comparison"
   ]
  },
  {
   "cell_type": "code",
   "execution_count": 1,
   "metadata": {},
   "outputs": [
    {
     "ename": "NameError",
     "evalue": "name 'results_df_with_pca' is not defined",
     "output_type": "error",
     "traceback": [
      "\u001b[1;31m---------------------------------------------------------------------------\u001b[0m",
      "\u001b[1;31mNameError\u001b[0m                                 Traceback (most recent call last)",
      "Input \u001b[1;32mIn [1]\u001b[0m, in \u001b[0;36m<cell line: 2>\u001b[1;34m()\u001b[0m\n\u001b[0;32m      1\u001b[0m \u001b[38;5;66;03m# Merge the two results DataFrames\u001b[39;00m\n\u001b[1;32m----> 2\u001b[0m combined_results \u001b[38;5;241m=\u001b[39m \u001b[43mresults_df_with_pca\u001b[49m\u001b[38;5;241m.\u001b[39mjoin(results_df_without_pca, lsuffix\u001b[38;5;241m=\u001b[39m\u001b[38;5;124m'\u001b[39m\u001b[38;5;124m_with_pca\u001b[39m\u001b[38;5;124m'\u001b[39m, rsuffix\u001b[38;5;241m=\u001b[39m\u001b[38;5;124m'\u001b[39m\u001b[38;5;124m_without_pca\u001b[39m\u001b[38;5;124m'\u001b[39m)\n\u001b[0;32m      4\u001b[0m \u001b[38;5;66;03m# Define the metrics to compare\u001b[39;00m\n\u001b[0;32m      5\u001b[0m metrics \u001b[38;5;241m=\u001b[39m [\u001b[38;5;124m'\u001b[39m\u001b[38;5;124mMSE\u001b[39m\u001b[38;5;124m'\u001b[39m, \u001b[38;5;124m'\u001b[39m\u001b[38;5;124mR2\u001b[39m\u001b[38;5;124m'\u001b[39m, \u001b[38;5;124m'\u001b[39m\u001b[38;5;124mMAE\u001b[39m\u001b[38;5;124m'\u001b[39m, \u001b[38;5;124m'\u001b[39m\u001b[38;5;124mRMSE\u001b[39m\u001b[38;5;124m'\u001b[39m, \u001b[38;5;124m'\u001b[39m\u001b[38;5;124mExplained Variance\u001b[39m\u001b[38;5;124m'\u001b[39m]\n",
      "\u001b[1;31mNameError\u001b[0m: name 'results_df_with_pca' is not defined"
     ]
    }
   ],
   "source": [
    "# Merge the two results DataFrames\n",
    "combined_results = results_df_with_pca.join(results_df_without_pca, lsuffix='_with_pca', rsuffix='_without_pca')\n",
    "\n",
    "# Define the metrics to compare\n",
    "metrics = ['MSE', 'R2', 'MAE', 'RMSE', 'Explained Variance']\n",
    "\n",
    "# Create a figure and axes for the subplots\n",
    "fig, axs = plt.subplots(nrows=len(metrics), ncols=1, figsize=(10, 20), sharex=True)\n",
    "\n",
    "# Plot comparisons for each metric\n",
    "for idx, metric in enumerate(metrics):\n",
    "    axs[idx].plot(combined_results.index, combined_results[metric + '_with_pca'], marker='o', label='With PCA', linestyle='-')\n",
    "    axs[idx].plot(combined_results.index, combined_results[metric + '_without_pca'], marker='x', label='Without PCA', linestyle='--')\n",
    "    \n",
    "    axs[idx].set_ylabel(metric)\n",
    "    axs[idx].set_title(metric)\n",
    "    axs[idx].legend()\n",
    "\n",
    "# Set common labels\n",
    "plt.xlabel('Basin', fontweight='bold')\n",
    "plt.xticks(rotation=45)\n",
    "plt.savefig(\"../../images/performance_comparison_plots/gradient_boosting_performance_comparison.png\")"
   ]
  }
 ],
 "metadata": {
  "kernelspec": {
   "display_name": "Python 3 (ipykernel)",
   "language": "python",
   "name": "python3"
  },
  "language_info": {
   "codemirror_mode": {
    "name": "ipython",
    "version": 3
   },
   "file_extension": ".py",
   "mimetype": "text/x-python",
   "name": "python",
   "nbconvert_exporter": "python",
   "pygments_lexer": "ipython3",
   "version": "3.9.12"
  }
 },
 "nbformat": 4,
 "nbformat_minor": 4
}
