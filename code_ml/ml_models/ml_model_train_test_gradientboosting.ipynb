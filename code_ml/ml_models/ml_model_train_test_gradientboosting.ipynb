{
 "cells": [
  {
   "cell_type": "code",
   "execution_count": 22,
   "metadata": {},
   "outputs": [],
   "source": [
    "import pandas as pd\n",
    "import matplotlib.pyplot as plt\n",
    "from sklearn.model_selection import train_test_split\n",
    "from sklearn.ensemble import GradientBoostingRegressor\n",
    "from sklearn.metrics import mean_squared_error, r2_score, mean_absolute_error, explained_variance_score\n",
    "import os\n"
   ]
  },
  {
   "cell_type": "code",
   "execution_count": 24,
   "metadata": {},
   "outputs": [
    {
     "name": "stdout",
     "output_type": "stream",
     "text": [
      "Basin: Anadarko - MSE: 1309.9538903044497, R2: 0.8684136406905676, MAE: 11.248022127519866, RMSE: 36.19328515490753, Explained Variance: 0.8684251960665268\n"
     ]
    },
    {
     "name": "stderr",
     "output_type": "stream",
     "text": [
      "C:\\Users\\darvarir\\AppData\\Local\\Temp\\ipykernel_10692\\1593729851.py:61: SettingWithCopyWarning: \n",
      "A value is trying to be set on a copy of a slice from a DataFrame.\n",
      "Try using .loc[row_indexer,col_indexer] = value instead\n",
      "\n",
      "See the caveats in the documentation: https://pandas.pydata.org/pandas-docs/stable/user_guide/indexing.html#returning-a-view-versus-a-copy\n",
      "  unknown_data['Predicted_Li'] = y_unknown_pred\n"
     ]
    },
    {
     "name": "stdout",
     "output_type": "stream",
     "text": [
      "Basin: Appalachian - MSE: 2354.656045247471, R2: 0.35552918999390193, MAE: 28.666017077120767, RMSE: 48.524798250456136, Explained Variance: 0.3979191774918227\n"
     ]
    },
    {
     "name": "stderr",
     "output_type": "stream",
     "text": [
      "C:\\Users\\darvarir\\AppData\\Local\\Temp\\ipykernel_10692\\1593729851.py:61: SettingWithCopyWarning: \n",
      "A value is trying to be set on a copy of a slice from a DataFrame.\n",
      "Try using .loc[row_indexer,col_indexer] = value instead\n",
      "\n",
      "See the caveats in the documentation: https://pandas.pydata.org/pandas-docs/stable/user_guide/indexing.html#returning-a-view-versus-a-copy\n",
      "  unknown_data['Predicted_Li'] = y_unknown_pred\n"
     ]
    },
    {
     "name": "stdout",
     "output_type": "stream",
     "text": [
      "Basin: Fort Worth - MSE: 554.614619373972, R2: 0.5474510250133635, MAE: 14.012876361695188, RMSE: 23.5502573101436, Explained Variance: 0.6198417930021616\n"
     ]
    },
    {
     "name": "stderr",
     "output_type": "stream",
     "text": [
      "C:\\Users\\darvarir\\AppData\\Local\\Temp\\ipykernel_10692\\1593729851.py:61: SettingWithCopyWarning: \n",
      "A value is trying to be set on a copy of a slice from a DataFrame.\n",
      "Try using .loc[row_indexer,col_indexer] = value instead\n",
      "\n",
      "See the caveats in the documentation: https://pandas.pydata.org/pandas-docs/stable/user_guide/indexing.html#returning-a-view-versus-a-copy\n",
      "  unknown_data['Predicted_Li'] = y_unknown_pred\n"
     ]
    },
    {
     "name": "stdout",
     "output_type": "stream",
     "text": [
      "Basin: Great Plains - MSE: 40677.970868721124, R2: -0.09035102540826134, MAE: 58.26975982781972, RMSE: 201.68780545367915, Explained Variance: -0.0024855926081646107\n"
     ]
    },
    {
     "name": "stderr",
     "output_type": "stream",
     "text": [
      "C:\\Users\\darvarir\\AppData\\Local\\Temp\\ipykernel_10692\\1593729851.py:61: SettingWithCopyWarning: \n",
      "A value is trying to be set on a copy of a slice from a DataFrame.\n",
      "Try using .loc[row_indexer,col_indexer] = value instead\n",
      "\n",
      "See the caveats in the documentation: https://pandas.pydata.org/pandas-docs/stable/user_guide/indexing.html#returning-a-view-versus-a-copy\n",
      "  unknown_data['Predicted_Li'] = y_unknown_pred\n"
     ]
    },
    {
     "name": "stdout",
     "output_type": "stream",
     "text": [
      "Basin: Gulf Coast - MSE: 848.4971364549327, R2: 0.849991513834392, MAE: 16.556366763816918, RMSE: 29.12897417443554, Explained Variance: 0.850755859192776\n"
     ]
    },
    {
     "name": "stderr",
     "output_type": "stream",
     "text": [
      "C:\\Users\\darvarir\\AppData\\Local\\Temp\\ipykernel_10692\\1593729851.py:61: SettingWithCopyWarning: \n",
      "A value is trying to be set on a copy of a slice from a DataFrame.\n",
      "Try using .loc[row_indexer,col_indexer] = value instead\n",
      "\n",
      "See the caveats in the documentation: https://pandas.pydata.org/pandas-docs/stable/user_guide/indexing.html#returning-a-view-versus-a-copy\n",
      "  unknown_data['Predicted_Li'] = y_unknown_pred\n"
     ]
    },
    {
     "name": "stdout",
     "output_type": "stream",
     "text": [
      "Basin: Illinois - MSE: 4.865393634864008, R2: 0.9745533784413706, MAE: 1.769394736003657, RMSE: 2.20576373051694, Explained Variance: 0.9746497037410601\n"
     ]
    },
    {
     "name": "stderr",
     "output_type": "stream",
     "text": [
      "C:\\Users\\darvarir\\AppData\\Local\\Temp\\ipykernel_10692\\1593729851.py:61: SettingWithCopyWarning: \n",
      "A value is trying to be set on a copy of a slice from a DataFrame.\n",
      "Try using .loc[row_indexer,col_indexer] = value instead\n",
      "\n",
      "See the caveats in the documentation: https://pandas.pydata.org/pandas-docs/stable/user_guide/indexing.html#returning-a-view-versus-a-copy\n",
      "  unknown_data['Predicted_Li'] = y_unknown_pred\n"
     ]
    },
    {
     "name": "stdout",
     "output_type": "stream",
     "text": [
      "Basin: Michigan - MSE: 108.1643574624111, R2: 0.7294033583611144, MAE: 7.115011225390476, RMSE: 10.400209491275216, Explained Variance: 0.7295658494683772\n"
     ]
    },
    {
     "name": "stderr",
     "output_type": "stream",
     "text": [
      "C:\\Users\\darvarir\\AppData\\Local\\Temp\\ipykernel_10692\\1593729851.py:61: SettingWithCopyWarning: \n",
      "A value is trying to be set on a copy of a slice from a DataFrame.\n",
      "Try using .loc[row_indexer,col_indexer] = value instead\n",
      "\n",
      "See the caveats in the documentation: https://pandas.pydata.org/pandas-docs/stable/user_guide/indexing.html#returning-a-view-versus-a-copy\n",
      "  unknown_data['Predicted_Li'] = y_unknown_pred\n"
     ]
    },
    {
     "name": "stdout",
     "output_type": "stream",
     "text": [
      "Basin: Oklahoma Platform - MSE: 59.58170086012559, R2: 0.8103263498715882, MAE: 6.425042122393865, RMSE: 7.718918373718276, Explained Variance: 0.8108629230184812\n"
     ]
    },
    {
     "name": "stderr",
     "output_type": "stream",
     "text": [
      "C:\\Users\\darvarir\\AppData\\Local\\Temp\\ipykernel_10692\\1593729851.py:61: SettingWithCopyWarning: \n",
      "A value is trying to be set on a copy of a slice from a DataFrame.\n",
      "Try using .loc[row_indexer,col_indexer] = value instead\n",
      "\n",
      "See the caveats in the documentation: https://pandas.pydata.org/pandas-docs/stable/user_guide/indexing.html#returning-a-view-versus-a-copy\n",
      "  unknown_data['Predicted_Li'] = y_unknown_pred\n"
     ]
    },
    {
     "name": "stdout",
     "output_type": "stream",
     "text": [
      "Basin: Pacific - MSE: 0.8560837999990436, R2: 0.9173286518580159, MAE: 0.6181349160417617, RMSE: 0.9252479667629881, Explained Variance: 0.9174416853529569\n"
     ]
    },
    {
     "name": "stderr",
     "output_type": "stream",
     "text": [
      "C:\\Users\\darvarir\\AppData\\Local\\Temp\\ipykernel_10692\\1593729851.py:61: SettingWithCopyWarning: \n",
      "A value is trying to be set on a copy of a slice from a DataFrame.\n",
      "Try using .loc[row_indexer,col_indexer] = value instead\n",
      "\n",
      "See the caveats in the documentation: https://pandas.pydata.org/pandas-docs/stable/user_guide/indexing.html#returning-a-view-versus-a-copy\n",
      "  unknown_data['Predicted_Li'] = y_unknown_pred\n"
     ]
    },
    {
     "name": "stdout",
     "output_type": "stream",
     "text": [
      "Basin: Permian - MSE: 2273.0706274329623, R2: 0.5530002591334026, MAE: 12.479729764348848, RMSE: 47.67673046081246, Explained Variance: 0.560220710682347\n"
     ]
    },
    {
     "name": "stderr",
     "output_type": "stream",
     "text": [
      "C:\\Users\\darvarir\\AppData\\Local\\Temp\\ipykernel_10692\\1593729851.py:61: SettingWithCopyWarning: \n",
      "A value is trying to be set on a copy of a slice from a DataFrame.\n",
      "Try using .loc[row_indexer,col_indexer] = value instead\n",
      "\n",
      "See the caveats in the documentation: https://pandas.pydata.org/pandas-docs/stable/user_guide/indexing.html#returning-a-view-versus-a-copy\n",
      "  unknown_data['Predicted_Li'] = y_unknown_pred\n"
     ]
    },
    {
     "name": "stdout",
     "output_type": "stream",
     "text": [
      "Basin: Rocky Mountain - MSE: 59.1781272204214, R2: 0.724132696846849, MAE: 3.8300650029023933, RMSE: 7.692732103773106, Explained Variance: 0.724799283167036\n"
     ]
    },
    {
     "name": "stderr",
     "output_type": "stream",
     "text": [
      "C:\\Users\\darvarir\\AppData\\Local\\Temp\\ipykernel_10692\\1593729851.py:61: SettingWithCopyWarning: \n",
      "A value is trying to be set on a copy of a slice from a DataFrame.\n",
      "Try using .loc[row_indexer,col_indexer] = value instead\n",
      "\n",
      "See the caveats in the documentation: https://pandas.pydata.org/pandas-docs/stable/user_guide/indexing.html#returning-a-view-versus-a-copy\n",
      "  unknown_data['Predicted_Li'] = y_unknown_pred\n"
     ]
    },
    {
     "name": "stdout",
     "output_type": "stream",
     "text": [
      "Basin: Williston - MSE: 173.07186889810745, R2: 0.9249108807464392, MAE: 9.403714781806439, RMSE: 13.15567819985376, Explained Variance: 0.9276588754374996\n"
     ]
    },
    {
     "name": "stderr",
     "output_type": "stream",
     "text": [
      "C:\\Users\\darvarir\\AppData\\Local\\Temp\\ipykernel_10692\\1593729851.py:61: SettingWithCopyWarning: \n",
      "A value is trying to be set on a copy of a slice from a DataFrame.\n",
      "Try using .loc[row_indexer,col_indexer] = value instead\n",
      "\n",
      "See the caveats in the documentation: https://pandas.pydata.org/pandas-docs/stable/user_guide/indexing.html#returning-a-view-versus-a-copy\n",
      "  unknown_data['Predicted_Li'] = y_unknown_pred\n"
     ]
    },
    {
     "name": "stdout",
     "output_type": "stream",
     "text": [
      "                            MSE        R2        MAE        RMSE  \\\n",
      "Anadarko            1309.953890  0.868414  11.248022   36.193285   \n",
      "Appalachian         2354.656045  0.355529  28.666017   48.524798   \n",
      "Fort Worth           554.614619  0.547451  14.012876   23.550257   \n",
      "Great Plains       40677.970869 -0.090351  58.269760  201.687805   \n",
      "Gulf Coast           848.497136  0.849992  16.556367   29.128974   \n",
      "Illinois               4.865394  0.974553   1.769395    2.205764   \n",
      "Michigan             108.164357  0.729403   7.115011   10.400209   \n",
      "Oklahoma Platform     59.581701  0.810326   6.425042    7.718918   \n",
      "Pacific                0.856084  0.917329   0.618135    0.925248   \n",
      "Permian             2273.070627  0.553000  12.479730   47.676730   \n",
      "Rocky Mountain        59.178127  0.724133   3.830065    7.692732   \n",
      "Williston            173.071869  0.924911   9.403715   13.155678   \n",
      "\n",
      "                   Explained Variance  \n",
      "Anadarko                     0.868425  \n",
      "Appalachian                  0.397919  \n",
      "Fort Worth                   0.619842  \n",
      "Great Plains                -0.002486  \n",
      "Gulf Coast                   0.850756  \n",
      "Illinois                     0.974650  \n",
      "Michigan                     0.729566  \n",
      "Oklahoma Platform            0.810863  \n",
      "Pacific                      0.917442  \n",
      "Permian                      0.560221  \n",
      "Rocky Mountain               0.724799  \n",
      "Williston                    0.927659  \n"
     ]
    }
   ],
   "source": [
    "# Directory where PCA results are saved\n",
    "pca_dir = \"../../data/pca_data\"\n",
    "\n",
    "# output directories for plots and predictions exist\n",
    "plot_dir = \"../../images/gradient_boosting_plots\"\n",
    "predicted_data_dir = \"../../data/predicted_data\"\n",
    "os.makedirs(plot_dir, exist_ok=True)\n",
    "os.makedirs(predicted_data_dir, exist_ok=True)\n",
    "\n",
    "# Get a list of all PCA result files\n",
    "pca_files = [f for f in os.listdir(pca_dir) if f.endswith('_pca_with_target.csv')]\n",
    "\n",
    "# Dictionary to store results for each basin\n",
    "results = {}\n",
    "\n",
    "# Process each PCA result file\n",
    "for file in pca_files:\n",
    "    basin_name = file.replace('_pca_with_target.csv', '')  \n",
    "    pca_df = pd.read_csv(f\"{pca_dir}/{file}\")\n",
    "\n",
    "    # Separate data with known and unknown 'Li' values\n",
    "    known_data = pca_df.dropna(subset=['Li'])\n",
    "    unknown_data = pca_df[pca_df['Li'].isnull()]\n",
    "\n",
    "    # Prepare training and testing data from known data\n",
    "    X_known = known_data[['PC1', 'PC2', 'PC3']]\n",
    "    y_known = known_data['Li']\n",
    "    X_train, X_test, y_train, y_test = train_test_split(X_known, y_known, test_size=0.2, random_state=42)\n",
    "\n",
    "    # Initialize and train Gradient Boosting Regressor\n",
    "    gbr = GradientBoostingRegressor(n_estimators=100, learning_rate=0.1, max_depth=3, random_state=42)\n",
    "    gbr.fit(X_train, y_train)\n",
    "\n",
    "    # Predict and evaluate on known test data\n",
    "    y_pred = gbr.predict(X_test)\n",
    "    mse = mean_squared_error(y_test, y_pred)\n",
    "    r2 = r2_score(y_test, y_pred)\n",
    "    mae = mean_absolute_error(y_test, y_pred)\n",
    "    rmse = mean_squared_error(y_test, y_pred, squared=False)\n",
    "    explained_variance = explained_variance_score(y_test, y_pred)\n",
    "\n",
    "    # Store results for known data evaluation\n",
    "    results[basin_name] = {'MSE': mse, 'R2': r2, 'MAE': mae, 'RMSE': rmse, 'Explained Variance': explained_variance}\n",
    "    print(f\"Basin: {basin_name} - MSE: {mse}, R2: {r2}, MAE: {mae}, RMSE: {rmse}, Explained Variance: {explained_variance}\")\n",
    "\n",
    "    # Plot actual vs predicted and save the plot\n",
    "    plt.figure(figsize=(10, 6))\n",
    "    plt.scatter(y_test, y_pred, alpha=0.5)\n",
    "    plt.plot([y_test.min(), y_test.max()], [y_test.min(), y_test.max()], 'k--', lw=4)\n",
    "    plt.xlabel('Actual Li concentrations')\n",
    "    plt.ylabel('Predicted Li concentrations')\n",
    "    plt.title(f'Actual vs. Predicted for {basin_name}')\n",
    "    plot_path = os.path.join(plot_dir, f\"{basin_name}_actual_vs_predicted.png\")\n",
    "    plt.savefig(plot_path)\n",
    "    plt.close()\n",
    "\n",
    "    # Predict unknown 'Li' values if there are any\n",
    "    if not unknown_data.empty:\n",
    "        X_unknown = unknown_data[['PC1', 'PC2', 'PC3']]\n",
    "        y_unknown_pred = gbr.predict(X_unknown)\n",
    "        unknown_data['Predicted_Li'] = y_unknown_pred\n",
    "\n",
    "        # Save predicted data for unknown values\n",
    "        predicted_data_path = os.path.join(predicted_data_dir, f\"{basin_name}_predicted.csv\")\n",
    "        unknown_data.to_csv(predicted_data_path, index=False)\n",
    "\n",
    "        # Plot predictions for unknown data and save the plot\n",
    "        plt.figure(figsize=(10, 6))\n",
    "        plt.hist(y_unknown_pred, bins=30, alpha=0.75)\n",
    "        plt.xlabel('Predicted Lithium Concentration')\n",
    "        plt.ylabel('Frequency')\n",
    "        plt.title(f'Distribution of Predicted Lithium Concentrations for New Samples in {basin_name}')\n",
    "        plot_hist_path = os.path.join(plot_dir, f\"{basin_name}_predicted_distribution.png\")\n",
    "        plt.savefig(plot_hist_path)\n",
    "        plt.close()\n",
    "\n",
    "# Convert results to a DataFrame for better visualization or further analysis\n",
    "results_df = pd.DataFrame(results).T\n",
    "print(results_df)"
   ]
  },
  {
   "cell_type": "code",
   "execution_count": null,
   "metadata": {},
   "outputs": [],
   "source": []
  },
  {
   "cell_type": "code",
   "execution_count": null,
   "metadata": {},
   "outputs": [],
   "source": []
  }
 ],
 "metadata": {
  "kernelspec": {
   "display_name": "Python 3 (ipykernel)",
   "language": "python",
   "name": "python3"
  },
  "language_info": {
   "codemirror_mode": {
    "name": "ipython",
    "version": 3
   },
   "file_extension": ".py",
   "mimetype": "text/x-python",
   "name": "python",
   "nbconvert_exporter": "python",
   "pygments_lexer": "ipython3",
   "version": "3.11.5"
  }
 },
 "nbformat": 4,
 "nbformat_minor": 4
}
