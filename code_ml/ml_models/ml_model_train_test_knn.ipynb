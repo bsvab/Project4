{
 "cells": [
  {
   "cell_type": "markdown",
   "metadata": {},
   "source": [
    "## Import dependencies"
   ]
  },
  {
   "cell_type": "code",
   "execution_count": 16,
   "metadata": {},
   "outputs": [],
   "source": [
    "import pandas as pd\n",
    "import os\n",
    "import numpy as np\n",
    "\n",
    "from sklearn.model_selection import train_test_split, GridSearchCV\n",
    "from sklearn.preprocessing import StandardScaler\n",
    "from sklearn.neighbors import KNeighborsRegressor\n",
    "from sklearn.metrics import mean_squared_error"
   ]
  },
  {
   "cell_type": "markdown",
   "metadata": {},
   "source": [
    "## Read in the data from the preprocessed csv"
   ]
  },
  {
   "cell_type": "code",
   "execution_count": 17,
   "metadata": {},
   "outputs": [
    {
     "data": {
      "text/html": [
       "<div>\n",
       "<style scoped>\n",
       "    .dataframe tbody tr th:only-of-type {\n",
       "        vertical-align: middle;\n",
       "    }\n",
       "\n",
       "    .dataframe tbody tr th {\n",
       "        vertical-align: top;\n",
       "    }\n",
       "\n",
       "    .dataframe thead th {\n",
       "        text-align: right;\n",
       "    }\n",
       "</style>\n",
       "<table border=\"1\" class=\"dataframe\">\n",
       "  <thead>\n",
       "    <tr style=\"text-align: right;\">\n",
       "      <th></th>\n",
       "      <th>IDUSGS</th>\n",
       "      <th>PLAYTYPE</th>\n",
       "      <th>WELLTYPE</th>\n",
       "      <th>FORMSIMPLE</th>\n",
       "      <th>TDS</th>\n",
       "      <th>LATITUDE</th>\n",
       "      <th>LONGITUDE</th>\n",
       "      <th>STATE</th>\n",
       "      <th>COUNTY</th>\n",
       "      <th>PROVINCE</th>\n",
       "      <th>...</th>\n",
       "      <th>FeTot</th>\n",
       "      <th>K</th>\n",
       "      <th>Li</th>\n",
       "      <th>Mg</th>\n",
       "      <th>Na</th>\n",
       "      <th>SO4</th>\n",
       "      <th>Sr</th>\n",
       "      <th>Zn</th>\n",
       "      <th>CHARGEBAL</th>\n",
       "      <th>BASIN_CATEGORY</th>\n",
       "    </tr>\n",
       "  </thead>\n",
       "  <tbody>\n",
       "    <tr>\n",
       "      <th>0</th>\n",
       "      <td>63</td>\n",
       "      <td>Shale</td>\n",
       "      <td>Shale Gas</td>\n",
       "      <td>Marcellus</td>\n",
       "      <td>54800.0</td>\n",
       "      <td>40.441658</td>\n",
       "      <td>-79.986932</td>\n",
       "      <td>Pennsylvania</td>\n",
       "      <td>Allegheny</td>\n",
       "      <td>Appalachian Basin</td>\n",
       "      <td>...</td>\n",
       "      <td>27.40</td>\n",
       "      <td>0.0</td>\n",
       "      <td>21.5</td>\n",
       "      <td>295.0</td>\n",
       "      <td>12000.0</td>\n",
       "      <td>105.0</td>\n",
       "      <td>736.5</td>\n",
       "      <td>0.0839</td>\n",
       "      <td>-10.5</td>\n",
       "      <td>Appalachian</td>\n",
       "    </tr>\n",
       "    <tr>\n",
       "      <th>1</th>\n",
       "      <td>64</td>\n",
       "      <td>Shale</td>\n",
       "      <td>Shale Gas</td>\n",
       "      <td>Marcellus</td>\n",
       "      <td>26100.0</td>\n",
       "      <td>40.441658</td>\n",
       "      <td>-79.986932</td>\n",
       "      <td>Pennsylvania</td>\n",
       "      <td>Allegheny</td>\n",
       "      <td>Appalachian Basin</td>\n",
       "      <td>...</td>\n",
       "      <td>6.47</td>\n",
       "      <td>0.0</td>\n",
       "      <td>12.5</td>\n",
       "      <td>188.0</td>\n",
       "      <td>6920.0</td>\n",
       "      <td>116.0</td>\n",
       "      <td>215.0</td>\n",
       "      <td>0.0321</td>\n",
       "      <td>-3.0</td>\n",
       "      <td>Appalachian</td>\n",
       "    </tr>\n",
       "  </tbody>\n",
       "</table>\n",
       "<p>2 rows × 34 columns</p>\n",
       "</div>"
      ],
      "text/plain": [
       "   IDUSGS PLAYTYPE   WELLTYPE FORMSIMPLE      TDS   LATITUDE  LONGITUDE  \\\n",
       "0      63    Shale  Shale Gas  Marcellus  54800.0  40.441658 -79.986932   \n",
       "1      64    Shale  Shale Gas  Marcellus  26100.0  40.441658 -79.986932   \n",
       "\n",
       "          STATE     COUNTY           PROVINCE  ...  FeTot    K    Li     Mg  \\\n",
       "0  Pennsylvania  Allegheny  Appalachian Basin  ...  27.40  0.0  21.5  295.0   \n",
       "1  Pennsylvania  Allegheny  Appalachian Basin  ...   6.47  0.0  12.5  188.0   \n",
       "\n",
       "        Na    SO4     Sr      Zn  CHARGEBAL  BASIN_CATEGORY  \n",
       "0  12000.0  105.0  736.5  0.0839      -10.5     Appalachian  \n",
       "1   6920.0  116.0  215.0  0.0321       -3.0     Appalachian  \n",
       "\n",
       "[2 rows x 34 columns]"
      ]
     },
     "execution_count": 17,
     "metadata": {},
     "output_type": "execute_result"
    }
   ],
   "source": [
    "# Get the current directory of the notebook\n",
    "current_dir = os.path.dirname(os.path.abspath(\"\"))\n",
    "\n",
    "# Navigate up two levels to reach the Project4 directory\n",
    "project_dir = os.path.dirname(current_dir)\n",
    "\n",
    "# Construct the absolute path to the CSV file\n",
    "file_path = os.path.join(project_dir, \"data/df_output/df_cleaned.csv\")\n",
    "\n",
    "# Load the CSV file\n",
    "df_data = pd.read_csv(file_path)\n",
    "\n",
    "# Show the df\n",
    "df_data.head(2)"
   ]
  },
  {
   "cell_type": "code",
   "execution_count": 18,
   "metadata": {},
   "outputs": [
    {
     "data": {
      "text/plain": [
       "Index(['IDUSGS', 'PLAYTYPE', 'WELLTYPE', 'FORMSIMPLE', 'TDS', 'LATITUDE',\n",
       "       'LONGITUDE', 'STATE', 'COUNTY', 'PROVINCE', 'REGION', 'WELLNAME', 'API',\n",
       "       'DEPTHUPPER', 'DEPTHLOWER', 'PERIOD', 'DATESAMPLE', 'PH', 'B', 'Ba',\n",
       "       'Br', 'HCO3', 'Ca', 'Cl', 'FeTot', 'K', 'Li', 'Mg', 'Na', 'SO4', 'Sr',\n",
       "       'Zn', 'CHARGEBAL', 'BASIN_CATEGORY'],\n",
       "      dtype='object')"
      ]
     },
     "execution_count": 18,
     "metadata": {},
     "output_type": "execute_result"
    }
   ],
   "source": [
    "df_data.columns"
   ]
  },
  {
   "cell_type": "code",
   "execution_count": 19,
   "metadata": {},
   "outputs": [
    {
     "name": "stdout",
     "output_type": "stream",
     "text": [
      "<class 'pandas.core.frame.DataFrame'>\n",
      "RangeIndex: 60658 entries, 0 to 60657\n",
      "Data columns (total 34 columns):\n",
      " #   Column          Non-Null Count  Dtype  \n",
      "---  ------          --------------  -----  \n",
      " 0   IDUSGS          60658 non-null  int64  \n",
      " 1   PLAYTYPE        60658 non-null  object \n",
      " 2   WELLTYPE        60658 non-null  object \n",
      " 3   FORMSIMPLE      60658 non-null  object \n",
      " 4   TDS             60658 non-null  float64\n",
      " 5   LATITUDE        60658 non-null  float64\n",
      " 6   LONGITUDE       60658 non-null  float64\n",
      " 7   STATE           60658 non-null  object \n",
      " 8   COUNTY          60026 non-null  object \n",
      " 9   PROVINCE        60658 non-null  object \n",
      " 10  REGION          60658 non-null  object \n",
      " 11  WELLNAME        54693 non-null  object \n",
      " 12  API             34447 non-null  float64\n",
      " 13  DEPTHUPPER      47354 non-null  float64\n",
      " 14  DEPTHLOWER      40757 non-null  float64\n",
      " 15  PERIOD          48402 non-null  object \n",
      " 16  DATESAMPLE      46382 non-null  object \n",
      " 17  PH              45174 non-null  float64\n",
      " 18  B               2389 non-null   float64\n",
      " 19  Ba              8329 non-null   float64\n",
      " 20  Br              4563 non-null   float64\n",
      " 21  HCO3            54589 non-null  float64\n",
      " 22  Ca              60486 non-null  float64\n",
      " 23  Cl              60658 non-null  float64\n",
      " 24  FeTot           16003 non-null  float64\n",
      " 25  K               60658 non-null  float64\n",
      " 26  Li              4131 non-null   float64\n",
      " 27  Mg              59996 non-null  float64\n",
      " 28  Na              60658 non-null  float64\n",
      " 29  SO4             52153 non-null  float64\n",
      " 30  Sr              6122 non-null   float64\n",
      " 31  Zn              708 non-null    float64\n",
      " 32  CHARGEBAL       60658 non-null  float64\n",
      " 33  BASIN_CATEGORY  60658 non-null  object \n",
      "dtypes: float64(22), int64(1), object(11)\n",
      "memory usage: 15.7+ MB\n"
     ]
    }
   ],
   "source": [
    "df_data.info()"
   ]
  },
  {
   "cell_type": "markdown",
   "metadata": {},
   "source": [
    "## Generate KNN regression models for each basin for consideration"
   ]
  },
  {
   "cell_type": "markdown",
   "metadata": {},
   "source": [
    "### ROUND 0 | Running on full data ILO by basin first to establish some basic logic as a starting point"
   ]
  },
  {
   "cell_type": "code",
   "execution_count": 20,
   "metadata": {},
   "outputs": [
    {
     "data": {
      "text/html": [
       "<div>\n",
       "<style scoped>\n",
       "    .dataframe tbody tr th:only-of-type {\n",
       "        vertical-align: middle;\n",
       "    }\n",
       "\n",
       "    .dataframe tbody tr th {\n",
       "        vertical-align: top;\n",
       "    }\n",
       "\n",
       "    .dataframe thead th {\n",
       "        text-align: right;\n",
       "    }\n",
       "</style>\n",
       "<table border=\"1\" class=\"dataframe\">\n",
       "  <thead>\n",
       "    <tr style=\"text-align: right;\">\n",
       "      <th></th>\n",
       "      <th>PLAYTYPE</th>\n",
       "      <th>WELLTYPE</th>\n",
       "      <th>FORMSIMPLE</th>\n",
       "      <th>TDS</th>\n",
       "      <th>LATITUDE</th>\n",
       "      <th>LONGITUDE</th>\n",
       "      <th>STATE</th>\n",
       "      <th>COUNTY</th>\n",
       "      <th>PROVINCE</th>\n",
       "      <th>REGION</th>\n",
       "      <th>...</th>\n",
       "      <th>PH</th>\n",
       "      <th>Ca</th>\n",
       "      <th>Cl</th>\n",
       "      <th>K</th>\n",
       "      <th>Li</th>\n",
       "      <th>Mg</th>\n",
       "      <th>Na</th>\n",
       "      <th>SO4</th>\n",
       "      <th>CHARGEBAL</th>\n",
       "      <th>BASIN_CATEGORY</th>\n",
       "    </tr>\n",
       "  </thead>\n",
       "  <tbody>\n",
       "    <tr>\n",
       "      <th>0</th>\n",
       "      <td>Shale</td>\n",
       "      <td>Shale Gas</td>\n",
       "      <td>Marcellus</td>\n",
       "      <td>54800.0</td>\n",
       "      <td>40.441658</td>\n",
       "      <td>-79.986932</td>\n",
       "      <td>Pennsylvania</td>\n",
       "      <td>Allegheny</td>\n",
       "      <td>Appalachian Basin</td>\n",
       "      <td>Eastern</td>\n",
       "      <td>...</td>\n",
       "      <td>NaN</td>\n",
       "      <td>3140.0</td>\n",
       "      <td>31300.0</td>\n",
       "      <td>0.0</td>\n",
       "      <td>21.5</td>\n",
       "      <td>295.0</td>\n",
       "      <td>12000.0</td>\n",
       "      <td>105.0</td>\n",
       "      <td>-10.5</td>\n",
       "      <td>Appalachian</td>\n",
       "    </tr>\n",
       "    <tr>\n",
       "      <th>1</th>\n",
       "      <td>Shale</td>\n",
       "      <td>Shale Gas</td>\n",
       "      <td>Marcellus</td>\n",
       "      <td>26100.0</td>\n",
       "      <td>40.441658</td>\n",
       "      <td>-79.986932</td>\n",
       "      <td>Pennsylvania</td>\n",
       "      <td>Allegheny</td>\n",
       "      <td>Appalachian Basin</td>\n",
       "      <td>Eastern</td>\n",
       "      <td>...</td>\n",
       "      <td>NaN</td>\n",
       "      <td>1790.0</td>\n",
       "      <td>15300.0</td>\n",
       "      <td>0.0</td>\n",
       "      <td>12.5</td>\n",
       "      <td>188.0</td>\n",
       "      <td>6920.0</td>\n",
       "      <td>116.0</td>\n",
       "      <td>-3.0</td>\n",
       "      <td>Appalachian</td>\n",
       "    </tr>\n",
       "  </tbody>\n",
       "</table>\n",
       "<p>2 rows × 22 columns</p>\n",
       "</div>"
      ],
      "text/plain": [
       "  PLAYTYPE   WELLTYPE FORMSIMPLE      TDS   LATITUDE  LONGITUDE         STATE  \\\n",
       "0    Shale  Shale Gas  Marcellus  54800.0  40.441658 -79.986932  Pennsylvania   \n",
       "1    Shale  Shale Gas  Marcellus  26100.0  40.441658 -79.986932  Pennsylvania   \n",
       "\n",
       "      COUNTY           PROVINCE   REGION  ...  PH      Ca       Cl    K    Li  \\\n",
       "0  Allegheny  Appalachian Basin  Eastern  ... NaN  3140.0  31300.0  0.0  21.5   \n",
       "1  Allegheny  Appalachian Basin  Eastern  ... NaN  1790.0  15300.0  0.0  12.5   \n",
       "\n",
       "      Mg       Na    SO4  CHARGEBAL  BASIN_CATEGORY  \n",
       "0  295.0  12000.0  105.0      -10.5     Appalachian  \n",
       "1  188.0   6920.0  116.0       -3.0     Appalachian  \n",
       "\n",
       "[2 rows x 22 columns]"
      ]
     },
     "execution_count": 20,
     "metadata": {},
     "output_type": "execute_result"
    }
   ],
   "source": [
    "# Drop unnecessary columns\n",
    "# columns_to_drop = ['IDUSGS', 'PERIOD', 'DATESAMPLE', 'API']\n",
    "columns_to_drop = ['IDUSGS', 'PERIOD', 'DATESAMPLE', 'API', 'Ba', 'Zn', 'B', 'FeTot', 'DEPTHLOWER', 'Sr', 'Br', 'HCO3']\n",
    "df = df_data.drop(columns_to_drop, axis=1)\n",
    "df.head(2)"
   ]
  },
  {
   "cell_type": "code",
   "execution_count": 21,
   "metadata": {},
   "outputs": [
    {
     "data": {
      "text/html": [
       "<div>\n",
       "<style scoped>\n",
       "    .dataframe tbody tr th:only-of-type {\n",
       "        vertical-align: middle;\n",
       "    }\n",
       "\n",
       "    .dataframe tbody tr th {\n",
       "        vertical-align: top;\n",
       "    }\n",
       "\n",
       "    .dataframe thead th {\n",
       "        text-align: right;\n",
       "    }\n",
       "</style>\n",
       "<table border=\"1\" class=\"dataframe\">\n",
       "  <thead>\n",
       "    <tr style=\"text-align: right;\">\n",
       "      <th></th>\n",
       "      <th>PLAYTYPE</th>\n",
       "      <th>WELLTYPE</th>\n",
       "      <th>FORMSIMPLE</th>\n",
       "      <th>TDS</th>\n",
       "      <th>LATITUDE</th>\n",
       "      <th>LONGITUDE</th>\n",
       "      <th>STATE</th>\n",
       "      <th>COUNTY</th>\n",
       "      <th>PROVINCE</th>\n",
       "      <th>REGION</th>\n",
       "      <th>...</th>\n",
       "      <th>PH</th>\n",
       "      <th>Ca</th>\n",
       "      <th>Cl</th>\n",
       "      <th>K</th>\n",
       "      <th>Li</th>\n",
       "      <th>Mg</th>\n",
       "      <th>Na</th>\n",
       "      <th>SO4</th>\n",
       "      <th>CHARGEBAL</th>\n",
       "      <th>BASIN_CATEGORY</th>\n",
       "    </tr>\n",
       "  </thead>\n",
       "  <tbody>\n",
       "    <tr>\n",
       "      <th>0</th>\n",
       "      <td>Shale</td>\n",
       "      <td>Shale Gas</td>\n",
       "      <td>Marcellus</td>\n",
       "      <td>54800.0</td>\n",
       "      <td>40.441658</td>\n",
       "      <td>-79.986932</td>\n",
       "      <td>Pennsylvania</td>\n",
       "      <td>Allegheny</td>\n",
       "      <td>Appalachian Basin</td>\n",
       "      <td>Eastern</td>\n",
       "      <td>...</td>\n",
       "      <td>NaN</td>\n",
       "      <td>3140.0</td>\n",
       "      <td>31300.0</td>\n",
       "      <td>0.0</td>\n",
       "      <td>21.5</td>\n",
       "      <td>295.0</td>\n",
       "      <td>12000.0</td>\n",
       "      <td>105.0</td>\n",
       "      <td>-10.5</td>\n",
       "      <td>Appalachian</td>\n",
       "    </tr>\n",
       "    <tr>\n",
       "      <th>1</th>\n",
       "      <td>Shale</td>\n",
       "      <td>Shale Gas</td>\n",
       "      <td>Marcellus</td>\n",
       "      <td>26100.0</td>\n",
       "      <td>40.441658</td>\n",
       "      <td>-79.986932</td>\n",
       "      <td>Pennsylvania</td>\n",
       "      <td>Allegheny</td>\n",
       "      <td>Appalachian Basin</td>\n",
       "      <td>Eastern</td>\n",
       "      <td>...</td>\n",
       "      <td>NaN</td>\n",
       "      <td>1790.0</td>\n",
       "      <td>15300.0</td>\n",
       "      <td>0.0</td>\n",
       "      <td>12.5</td>\n",
       "      <td>188.0</td>\n",
       "      <td>6920.0</td>\n",
       "      <td>116.0</td>\n",
       "      <td>-3.0</td>\n",
       "      <td>Appalachian</td>\n",
       "    </tr>\n",
       "  </tbody>\n",
       "</table>\n",
       "<p>2 rows × 22 columns</p>\n",
       "</div>"
      ],
      "text/plain": [
       "  PLAYTYPE   WELLTYPE FORMSIMPLE      TDS   LATITUDE  LONGITUDE         STATE  \\\n",
       "0    Shale  Shale Gas  Marcellus  54800.0  40.441658 -79.986932  Pennsylvania   \n",
       "1    Shale  Shale Gas  Marcellus  26100.0  40.441658 -79.986932  Pennsylvania   \n",
       "\n",
       "      COUNTY           PROVINCE   REGION  ...  PH      Ca       Cl    K    Li  \\\n",
       "0  Allegheny  Appalachian Basin  Eastern  ... NaN  3140.0  31300.0  0.0  21.5   \n",
       "1  Allegheny  Appalachian Basin  Eastern  ... NaN  1790.0  15300.0  0.0  12.5   \n",
       "\n",
       "      Mg       Na    SO4  CHARGEBAL  BASIN_CATEGORY  \n",
       "0  295.0  12000.0  105.0      -10.5     Appalachian  \n",
       "1  188.0   6920.0  116.0       -3.0     Appalachian  \n",
       "\n",
       "[2 rows x 22 columns]"
      ]
     },
     "execution_count": 21,
     "metadata": {},
     "output_type": "execute_result"
    }
   ],
   "source": [
    "df.dropna(subset=['Li'], inplace=True)\n",
    "df.head(2)"
   ]
  },
  {
   "cell_type": "code",
   "execution_count": 22,
   "metadata": {},
   "outputs": [
    {
     "name": "stdout",
     "output_type": "stream",
     "text": [
      "<class 'pandas.core.frame.DataFrame'>\n",
      "Index: 4131 entries, 0 to 60657\n",
      "Data columns (total 22 columns):\n",
      " #   Column          Non-Null Count  Dtype  \n",
      "---  ------          --------------  -----  \n",
      " 0   PLAYTYPE        4131 non-null   object \n",
      " 1   WELLTYPE        4131 non-null   object \n",
      " 2   FORMSIMPLE      4131 non-null   object \n",
      " 3   TDS             4131 non-null   float64\n",
      " 4   LATITUDE        4131 non-null   float64\n",
      " 5   LONGITUDE       4131 non-null   float64\n",
      " 6   STATE           4131 non-null   object \n",
      " 7   COUNTY          4011 non-null   object \n",
      " 8   PROVINCE        4131 non-null   object \n",
      " 9   REGION          4131 non-null   object \n",
      " 10  WELLNAME        3270 non-null   object \n",
      " 11  DEPTHUPPER      3293 non-null   float64\n",
      " 12  PH              3123 non-null   float64\n",
      " 13  Ca              4118 non-null   float64\n",
      " 14  Cl              4131 non-null   float64\n",
      " 15  K               4131 non-null   float64\n",
      " 16  Li              4131 non-null   float64\n",
      " 17  Mg              4093 non-null   float64\n",
      " 18  Na              4131 non-null   float64\n",
      " 19  SO4             3282 non-null   float64\n",
      " 20  CHARGEBAL       4131 non-null   float64\n",
      " 21  BASIN_CATEGORY  4131 non-null   object \n",
      "dtypes: float64(13), object(9)\n",
      "memory usage: 742.3+ KB\n"
     ]
    }
   ],
   "source": [
    "df.info()"
   ]
  },
  {
   "cell_type": "code",
   "execution_count": 23,
   "metadata": {},
   "outputs": [
    {
     "name": "stdout",
     "output_type": "stream",
     "text": [
      "<class 'pandas.core.frame.DataFrame'>\n",
      "Index: 2142 entries, 285 to 59982\n",
      "Data columns (total 22 columns):\n",
      " #   Column          Non-Null Count  Dtype  \n",
      "---  ------          --------------  -----  \n",
      " 0   PLAYTYPE        2142 non-null   object \n",
      " 1   WELLTYPE        2142 non-null   object \n",
      " 2   FORMSIMPLE      2142 non-null   object \n",
      " 3   TDS             2142 non-null   float64\n",
      " 4   LATITUDE        2142 non-null   float64\n",
      " 5   LONGITUDE       2142 non-null   float64\n",
      " 6   STATE           2142 non-null   object \n",
      " 7   COUNTY          2142 non-null   object \n",
      " 8   PROVINCE        2142 non-null   object \n",
      " 9   REGION          2142 non-null   object \n",
      " 10  WELLNAME        2142 non-null   object \n",
      " 11  DEPTHUPPER      2142 non-null   float64\n",
      " 12  PH              2142 non-null   float64\n",
      " 13  Ca              2142 non-null   float64\n",
      " 14  Cl              2142 non-null   float64\n",
      " 15  K               2142 non-null   float64\n",
      " 16  Li              2142 non-null   float64\n",
      " 17  Mg              2142 non-null   float64\n",
      " 18  Na              2142 non-null   float64\n",
      " 19  SO4             2142 non-null   float64\n",
      " 20  CHARGEBAL       2142 non-null   float64\n",
      " 21  BASIN_CATEGORY  2142 non-null   object \n",
      "dtypes: float64(13), object(9)\n",
      "memory usage: 384.9+ KB\n"
     ]
    }
   ],
   "source": [
    "df.dropna(inplace=True)\n",
    "df.info()"
   ]
  },
  {
   "cell_type": "code",
   "execution_count": 24,
   "metadata": {},
   "outputs": [
    {
     "data": {
      "text/html": [
       "<div>\n",
       "<style scoped>\n",
       "    .dataframe tbody tr th:only-of-type {\n",
       "        vertical-align: middle;\n",
       "    }\n",
       "\n",
       "    .dataframe tbody tr th {\n",
       "        vertical-align: top;\n",
       "    }\n",
       "\n",
       "    .dataframe thead th {\n",
       "        text-align: right;\n",
       "    }\n",
       "</style>\n",
       "<table border=\"1\" class=\"dataframe\">\n",
       "  <thead>\n",
       "    <tr style=\"text-align: right;\">\n",
       "      <th></th>\n",
       "      <th>TDS</th>\n",
       "      <th>LATITUDE</th>\n",
       "      <th>LONGITUDE</th>\n",
       "      <th>DEPTHUPPER</th>\n",
       "      <th>PH</th>\n",
       "      <th>Ca</th>\n",
       "      <th>Cl</th>\n",
       "      <th>K</th>\n",
       "      <th>Li</th>\n",
       "      <th>Mg</th>\n",
       "      <th>...</th>\n",
       "      <th>BASIN_CATEGORY_Fort Worth</th>\n",
       "      <th>BASIN_CATEGORY_Great Plains</th>\n",
       "      <th>BASIN_CATEGORY_Gulf Coast</th>\n",
       "      <th>BASIN_CATEGORY_Illinois</th>\n",
       "      <th>BASIN_CATEGORY_Michigan</th>\n",
       "      <th>BASIN_CATEGORY_Oklahoma Platform</th>\n",
       "      <th>BASIN_CATEGORY_Pacific</th>\n",
       "      <th>BASIN_CATEGORY_Permian</th>\n",
       "      <th>BASIN_CATEGORY_Rocky Mountain</th>\n",
       "      <th>BASIN_CATEGORY_Williston</th>\n",
       "    </tr>\n",
       "  </thead>\n",
       "  <tbody>\n",
       "    <tr>\n",
       "      <th>285</th>\n",
       "      <td>25200.0</td>\n",
       "      <td>29.55707</td>\n",
       "      <td>-97.78930</td>\n",
       "      <td>2582.0</td>\n",
       "      <td>6.5</td>\n",
       "      <td>1900.0</td>\n",
       "      <td>14000.0</td>\n",
       "      <td>130.0</td>\n",
       "      <td>7.7</td>\n",
       "      <td>580.0</td>\n",
       "      <td>...</td>\n",
       "      <td>0</td>\n",
       "      <td>0</td>\n",
       "      <td>1</td>\n",
       "      <td>0</td>\n",
       "      <td>0</td>\n",
       "      <td>0</td>\n",
       "      <td>0</td>\n",
       "      <td>0</td>\n",
       "      <td>0</td>\n",
       "      <td>0</td>\n",
       "    </tr>\n",
       "    <tr>\n",
       "      <th>286</th>\n",
       "      <td>127000.0</td>\n",
       "      <td>29.17289</td>\n",
       "      <td>-97.54256</td>\n",
       "      <td>11933.0</td>\n",
       "      <td>6.1</td>\n",
       "      <td>13000.0</td>\n",
       "      <td>76000.0</td>\n",
       "      <td>1100.0</td>\n",
       "      <td>120.0</td>\n",
       "      <td>1100.0</td>\n",
       "      <td>...</td>\n",
       "      <td>0</td>\n",
       "      <td>0</td>\n",
       "      <td>1</td>\n",
       "      <td>0</td>\n",
       "      <td>0</td>\n",
       "      <td>0</td>\n",
       "      <td>0</td>\n",
       "      <td>0</td>\n",
       "      <td>0</td>\n",
       "      <td>0</td>\n",
       "    </tr>\n",
       "  </tbody>\n",
       "</table>\n",
       "<p>2 rows × 2251 columns</p>\n",
       "</div>"
      ],
      "text/plain": [
       "          TDS  LATITUDE  LONGITUDE  DEPTHUPPER   PH       Ca       Cl       K  \\\n",
       "285   25200.0  29.55707  -97.78930      2582.0  6.5   1900.0  14000.0   130.0   \n",
       "286  127000.0  29.17289  -97.54256     11933.0  6.1  13000.0  76000.0  1100.0   \n",
       "\n",
       "        Li      Mg  ...  BASIN_CATEGORY_Fort Worth  \\\n",
       "285    7.7   580.0  ...                          0   \n",
       "286  120.0  1100.0  ...                          0   \n",
       "\n",
       "     BASIN_CATEGORY_Great Plains  BASIN_CATEGORY_Gulf Coast  \\\n",
       "285                            0                          1   \n",
       "286                            0                          1   \n",
       "\n",
       "     BASIN_CATEGORY_Illinois  BASIN_CATEGORY_Michigan  \\\n",
       "285                        0                        0   \n",
       "286                        0                        0   \n",
       "\n",
       "     BASIN_CATEGORY_Oklahoma Platform  BASIN_CATEGORY_Pacific  \\\n",
       "285                                 0                       0   \n",
       "286                                 0                       0   \n",
       "\n",
       "     BASIN_CATEGORY_Permian  BASIN_CATEGORY_Rocky Mountain  \\\n",
       "285                       0                              0   \n",
       "286                       0                              0   \n",
       "\n",
       "     BASIN_CATEGORY_Williston  \n",
       "285                         0  \n",
       "286                         0  \n",
       "\n",
       "[2 rows x 2251 columns]"
      ]
     },
     "execution_count": 24,
     "metadata": {},
     "output_type": "execute_result"
    }
   ],
   "source": [
    "# One-hot encode categorical variables\n",
    "categorical_columns = ['PLAYTYPE', 'WELLTYPE', 'FORMSIMPLE', 'STATE', 'COUNTY', 'PROVINCE', 'REGION', 'WELLNAME', 'BASIN_CATEGORY']\n",
    "df = pd.get_dummies(df, columns=categorical_columns, dtype=int)\n",
    "df.head(2)"
   ]
  },
  {
   "cell_type": "code",
   "execution_count": 25,
   "metadata": {},
   "outputs": [],
   "source": [
    "# Splitting the data into features (X) and the target variable (y)\n",
    "y = df['Li'].copy()                   # Target variable\n",
    "X = df.drop(columns=['Li']).copy()    # Features"
   ]
  },
  {
   "cell_type": "code",
   "execution_count": 26,
   "metadata": {},
   "outputs": [],
   "source": [
    "# Splitting the data into training and testing sets\n",
    "X_train, X_test, y_train, y_test = train_test_split(X, y, test_size=0.3, random_state=42)"
   ]
  },
  {
   "cell_type": "code",
   "execution_count": 27,
   "metadata": {},
   "outputs": [],
   "source": [
    "# Standardize features by removing the mean and scaling to unit variance\n",
    "scaler = StandardScaler()\n",
    "X_train_scaled = scaler.fit_transform(X_train)\n",
    "X_test_scaled = scaler.transform(X_test)"
   ]
  },
  {
   "cell_type": "code",
   "execution_count": 28,
   "metadata": {},
   "outputs": [
    {
     "name": "stdout",
     "output_type": "stream",
     "text": [
      "Best k value: 2\n"
     ]
    }
   ],
   "source": [
    "# Define a range of k values to try\n",
    "k_values = list(range(1, 21))\n",
    "\n",
    "# Create a parameter grid\n",
    "param_grid = {'n_neighbors': k_values}\n",
    "\n",
    "# Perform grid search with cross-validation\n",
    "grid_search = GridSearchCV(KNeighborsRegressor(), param_grid, cv=5, scoring='neg_mean_squared_error')\n",
    "grid_search.fit(X_train_scaled, y_train)\n",
    "\n",
    "# Get the best k value\n",
    "best_k = grid_search.best_params_['n_neighbors']\n",
    "print(\"Best k value:\", best_k)"
   ]
  },
  {
   "cell_type": "code",
   "execution_count": 29,
   "metadata": {},
   "outputs": [
    {
     "name": "stdout",
     "output_type": "stream",
     "text": [
      "MSE of the best KNN model: 14952.269930870916\n"
     ]
    }
   ],
   "source": [
    "# Get the best model\n",
    "best_model = grid_search.best_estimator_\n",
    "\n",
    "# Evaluate the best model\n",
    "y_pred = best_model.predict(X_test_scaled)\n",
    "mse = mean_squared_error(y_test, y_pred)\n",
    "print(\"MSE of the best KNN model:\", mse)"
   ]
  },
  {
   "cell_type": "code",
   "execution_count": 30,
   "metadata": {},
   "outputs": [
    {
     "name": "stdout",
     "output_type": "stream",
     "text": [
      "Variance of the target variable: 14142.737286612884\n",
      "MSE of the model: 14952.269930870916\n",
      "The model's MSE is close to or larger than the variance of the target variable.\n",
      "The model's performance may be limited compared to the variability of the target variable.\n"
     ]
    }
   ],
   "source": [
    "# Calculate the variance of the target variable\n",
    "target_variance = np.var(y_test)\n",
    "\n",
    "# Print the variance and MSE\n",
    "print(\"Variance of the target variable:\", target_variance)\n",
    "print(\"MSE of the model:\", mse)\n",
    "\n",
    "# Compare the MSE to the variance\n",
    "if mse < target_variance:\n",
    "    print(\"The model's MSE is smaller than the variance of the target variable.\")\n",
    "    print(\"The model is capturing a significant portion of the variability in the target variable.\")\n",
    "else:\n",
    "    print(\"The model's MSE is close to or larger than the variance of the target variable.\")\n",
    "    print(\"The model's performance may be limited compared to the variability of the target variable.\")\n"
   ]
  },
  {
   "cell_type": "markdown",
   "metadata": {},
   "source": [
    "### Establishing function for running models for each Basin given certain variable inputs"
   ]
  },
  {
   "cell_type": "code",
   "execution_count": null,
   "metadata": {},
   "outputs": [],
   "source": [
    "def generate_knn_models_by_basin(df, round, basins, columns_to_drop, categorical_columns,test_size, random_state k_values):\n",
    "    \n",
    "    for basin in basins:\n",
    "        \n",
    "        '''Finalize data preprocessing per input variables / requirements of KNN regression model'''\n",
    "\n",
    "        #...\n",
    "\n",
    "        '''--------------------------------------------------------------------------------------------------------------'''\n",
    "        '''............'''\n",
    "\n",
    "        #...\n",
    "\n",
    "        '''--------------------------------------------------------------------------------------------------------------'''\n",
    "        '''............'''\n",
    "\n",
    "        #...\n",
    "        \n",
    "        '''--------------------------------------------------------------------------------------------------------------'''\n",
    "        '''Train model'''\n",
    "\n",
    "        #...\n",
    "\n",
    "        '''--------------------------------------------------------------------------------------------------------------'''\n",
    "        '''Test model'''\n",
    "\n",
    "        #...\n",
    "\n",
    "        '''--------------------------------------------------------------------------------------------------------------'''\n",
    "        '''Add results to a dataframe'''\n",
    "\n",
    "        columns = ['round', 'basin', 'test_train_data_row_count','feature_quantity', 'feature_list', 'target_variable_variance', 'model_mse', 'delta_mse_vs_variance']\n",
    "\n",
    "        df_results = pd.DataFrame(\n",
    "            #...\n",
    "        ).sort_values(by=['delta_mse_vs_variance'], ascending=True, inplace=True)\n",
    "\n",
    "    return df_results"
   ]
  },
  {
   "cell_type": "markdown",
   "metadata": {},
   "source": [
    "### ROUND 1 | Let the iterating begin..."
   ]
  },
  {
   "cell_type": "code",
   "execution_count": 87,
   "metadata": {},
   "outputs": [
    {
     "data": {
      "text/plain": [
       "array(['Appalachian', 'Permian', 'Oklahoma Platform', 'Gulf Coast',\n",
       "       'Williston', 'Michigan', 'Pacific', 'Illinois', 'Great Plains',\n",
       "       'Anadarko', 'Rocky Mountain', 'Fort Worth'], dtype=object)"
      ]
     },
     "execution_count": 87,
     "metadata": {},
     "output_type": "execute_result"
    }
   ],
   "source": [
    "# Define all the variables...\n",
    "df = df_data.copy()\n",
    "round = '01'\n",
    "basins = df_data['BASIN_CATEGORY'].unique()\n",
    "columns_to_drop = ['IDUSGS', 'PERIOD', 'DATESAMPLE', 'API', 'Ba', 'Zn', 'B', 'FeTot', 'DEPTHLOWER', 'Sr', 'Br', 'HCO3']\n",
    "categorical_columns = ['PLAYTYPE', 'WELLTYPE', 'FORMSIMPLE', 'STATE', 'COUNTY', 'PROVINCE', 'REGION', 'WELLNAME', 'BASIN_CATEGORY']\n",
    "test_size = 0.3\n",
    "random_state = 42\n",
    "k_values = list(range(1, 21))\n",
    "\n",
    "# Run the function...\n",
    "df_round01 = generate_knn_models_by_basin(df=df, round=round, basins=basins, columns_to_drop=columns_to_drop, categorical_columns=categorical_columns, \n",
    "                                          test_size=test_size, random_state=random_state, k_values=k_values)\n",
    "df_round01"
   ]
  },
  {
   "cell_type": "markdown",
   "metadata": {},
   "source": [
    "### Merge all results dfs into 1 large df for evaluation"
   ]
  },
  {
   "cell_type": "code",
   "execution_count": null,
   "metadata": {},
   "outputs": [],
   "source": [
    "rounds = [df_round01, '''...''']\n",
    "columns = ['round', 'basin', 'test_train_data_row_count','feature_quantity', 'feature_list', 'target_variable_variance', 'model_mse', 'delta_mse_vs_variance']\n",
    "\n",
    "for round in rounds:\n",
    "    df_results = #...\n",
    "    "
   ]
  },
  {
   "cell_type": "code",
   "execution_count": null,
   "metadata": {},
   "outputs": [],
   "source": [
    "# Identify best round # for each basin\n",
    "#..."
   ]
  }
 ],
 "metadata": {
  "kernelspec": {
   "display_name": "base",
   "language": "python",
   "name": "python3"
  },
  "language_info": {
   "codemirror_mode": {
    "name": "ipython",
    "version": 3
   },
   "file_extension": ".py",
   "mimetype": "text/x-python",
   "name": "python",
   "nbconvert_exporter": "python",
   "pygments_lexer": "ipython3",
   "version": "3.11.5"
  }
 },
 "nbformat": 4,
 "nbformat_minor": 2
}
